{
 "cells": [
  {
   "cell_type": "markdown",
   "id": "2972730f",
   "metadata": {},
   "source": [
    "* Product Rating Prediction steps:-\n",
    "    *   1- ✔️ Meme competition [optional]\n",
    "    *   2- ✔️ Problem Formulation\n",
    "    *   3- ✔️ Document your code\n",
    "    *   4- ✔️ Model Tuning and Documentation\n",
    "    *   5- ✔️ Answer some of questions (briefly)"
   ]
  },
  {
   "cell_type": "markdown",
   "id": "a6aa1951",
   "metadata": {},
   "source": [
    "1- ✔️ Meme competition [optional]:\n",
    "* Include/find a MEME that you liked related to data science/data mining/machine learning. You can upload yours here\n",
    "https://github.com/CISC-873/Information-2022/issues/1."
   ]
  },
  {
   "cell_type": "markdown",
   "id": "e5d7ec45",
   "metadata": {},
   "source": [
    "2- ✔️ Problem Formulation:\n",
    "* Define the problem. What is the input? What is the output? What data mining function is required? What could be the challenges? What is the impact? What is an ideal solution?"
   ]
  },
  {
   "cell_type": "markdown",
   "id": "2124e1d2",
   "metadata": {},
   "source": [
    "### Define the problem\n",
    "* The problem is to predict the product ratings for a product on Wish.com. Ratings are in categories from 1 to 5. For one product, the higher the rating is, the more the customers like the product. In this way, when you have a new product to be put on wish.com, you can estimate how likely people will like your product, without actually listing out there. "
   ]
  },
  {
   "cell_type": "markdown",
   "id": "159662f3",
   "metadata": {},
   "source": [
    "### What is the input ?\n",
    "* Numerical and categorical columns about the product that contributes to the rating score."
   ]
  },
  {
   "cell_type": "markdown",
   "id": "c2094c2a",
   "metadata": {},
   "source": [
    "### What is the output?\n",
    "* The output will be Ratings of the product from 1 to 5."
   ]
  },
  {
   "cell_type": "markdown",
   "id": "f0285ce7",
   "metadata": {},
   "source": [
    "### What data mining function is required? \n",
    "* Data Cleaning or Cleansing \n",
    "    * 1) Import the required Python libraries\n",
    "    * 2) Read Data\n",
    "    * 3) Some feature engineering\n",
    "* Work with Missing Data\n",
    "    * 1)Check Missing Data\n",
    "        1. Transform missing values to Nan for unknown values.\n",
    "        2. Check NaN Values Count.\n",
    "    * 2) Drop Missing Data\n",
    "    * 3) Fill Missing data with Pandas\n",
    "        - For Numerical Data\n",
    "            * Mean\n",
    "            * Median\n",
    "            * Mode or Most frequent\n",
    "        - For Categorical Data\n",
    "            * Mode or Most frequent\n",
    "    * 4) Fill Missing data with Sklearn Imputer\n",
    "        - SimpleImputer\n",
    "            * Mean\n",
    "            * Median\n",
    "            * Mode or Most frequent\n",
    "        - KNNImputer\n",
    "* Outliers Handling\n",
    "* Data Split to Train and Test Sets\n",
    "* Data Preprocessing Project – Feature Scaling\n",
    "* Models that will be used\n",
    "    * 1) Tried decision tree model with at least 2 different configurations/hyper-parameters\n",
    "    * 2) Tried SVM model with at least 2 different configurations/hyper-parameters\n",
    "    * 3) Tried Naive Bayesian model."
   ]
  },
  {
   "cell_type": "markdown",
   "id": "ed64689b",
   "metadata": {},
   "source": [
    "### What could be the challenges?\n",
    "* The implementation of preprocessing processes, selection of appropriate features to increase model performance and the accuracy of machine learning or data mining models are affected because of poor quality of data, are considered to be challenging.\n",
    "* The real dataset never comes clean. It consists lot of discrepancies in the dataset. So, we have to clean the dataset for further processing."
   ]
  },
  {
   "cell_type": "markdown",
   "id": "f547b7e2",
   "metadata": {},
   "source": [
    "### What is the impact?\n",
    "* 1) Product ratings can help your products rank higher in search engine results pages (SERPs) and benefit your SEO rankings. \n",
    "* 2) Product Ratings are an effective way to learn about a product's quality and features.\n",
    "* 3) Product Ratings can help influence the buying decisions of potential customers.\n",
    "* 5) Product Ratings can help businesses develop more effective marketing plans.\n",
    "* 6) Product Ratings can help build trust with potential customers.\n",
    "* 7) Product Ratings word-of-mouth marketing for your brand and products or services.\n",
    "* 8) Product Ratings can be helpful for learning about problems with a given product.\n",
    "* 9) It will be able to predict the evaluation of other products that have not been evaluated by people,\n",
    "* 10) Knowing about potential problems ahead of time can help you avoid them in the future.  "
   ]
  },
  {
   "cell_type": "markdown",
   "id": "eeeba663",
   "metadata": {},
   "source": [
    "### What is an ideal solution?\n",
    "* The ideal solution of this problem will be a model that deals with high range of products with difference quality ratings."
   ]
  },
  {
   "cell_type": "markdown",
   "id": "80a159a9",
   "metadata": {},
   "source": [
    "# Data Cleaning or Cleansing\n",
    "\n",
    "Whenever we have to work with a real world dataset, the first problem that we face is to clean it. The real world dataset never comes clean. It consists lot of discrepancies in the dataset. So, we have to clean the dataset for further processing.\n",
    "\n",
    "Cleaning data is the process of preparing the dataset for analysis. It is very important because the accuracy of machine learning or data mining models are affected because of poor quality of data.\n",
    "\n",
    "So, data scientists spend a large amount of their time cleaning the dataset and transform them into a format with which they can work with. In fact, data scientists spend 80% of their time cleaning the data.\n",
    "\n",
    "A very common scenario is that the dataset contains missing values coded as NaN. Also, the missing values are coded in different ways. The dataset may contain negative or invalid values. It may contain outliers. It may be in the untidy format. All of these are examples of a messy dataset.\n",
    "\n",
    "In this project, I present several useful ways to handle these discrepancies in the dataset."
   ]
  },
  {
   "cell_type": "markdown",
   "id": "3bf1b33c",
   "metadata": {},
   "source": [
    "# First Code "
   ]
  },
  {
   "cell_type": "markdown",
   "id": "2cb4f4be",
   "metadata": {},
   "source": [
    "## * 1- Import the required Python libraries"
   ]
  },
  {
   "cell_type": "code",
   "execution_count": 1,
   "id": "eed7351d",
   "metadata": {},
   "outputs": [],
   "source": [
    "# The libraries \n",
    "import pandas as pd # Used for data analysis and associated manipulation of tabular data in DataFrames\n",
    "import numpy as np # Used to perform a wide variety of mathematical operations on arrays.\n",
    "\n",
    "# Used to visualize distribution, trends and relationships of variables(visualization)\n",
    "import seaborn as sns\n",
    "import matplotlib.pyplot as plt\n",
    "%matplotlib inline\n",
    "sns.set()\n",
    "\n",
    "# Used for Feature Scaling\n",
    "from sklearn import preprocessing\n",
    "from sklearn.preprocessing import StandardScaler\n",
    "\n",
    "#Normalizero split the data and Grid Search for hyperparameter\n",
    "from sklearn.model_selection import train_test_split,  GridSearchCV\n",
    "\n",
    "# Import needed models\n",
    "from sklearn.tree import DecisionTreeClassifier\n",
    "from sklearn.ensemble import RandomForestClassifier\n",
    "from sklearn.naive_bayes import GaussianNB\n",
    "from sklearn.svm import SVC\n",
    "\n",
    "#Importing metric  \n",
    "from sklearn.metrics import f1_score"
   ]
  },
  {
   "cell_type": "markdown",
   "id": "039e6085",
   "metadata": {},
   "source": [
    "## 2-Load the dataset"
   ]
  },
  {
   "cell_type": "code",
   "execution_count": 2,
   "id": "8d6db786",
   "metadata": {},
   "outputs": [],
   "source": [
    "# We have two datasets to import one for trainig and another for testing in csv formats \n",
    "Tr_df = pd.read_csv(\"D:\\\\DEBI Master\\\\Data Mining\\\\Competition (1)\\\\train_new.csv\")\n",
    "Ts_df = pd.read_csv(\"D:\\\\DEBI Master\\\\Data Mining\\\\Competition (1)\\\\test_new.csv\")"
   ]
  },
  {
   "cell_type": "code",
   "execution_count": 3,
   "id": "3ee1ed77",
   "metadata": {},
   "outputs": [
    {
     "data": {
      "text/html": [
       "<div>\n",
       "<style scoped>\n",
       "    .dataframe tbody tr th:only-of-type {\n",
       "        vertical-align: middle;\n",
       "    }\n",
       "\n",
       "    .dataframe tbody tr th {\n",
       "        vertical-align: top;\n",
       "    }\n",
       "\n",
       "    .dataframe thead th {\n",
       "        text-align: right;\n",
       "    }\n",
       "</style>\n",
       "<table border=\"1\" class=\"dataframe\">\n",
       "  <thead>\n",
       "    <tr style=\"text-align: right;\">\n",
       "      <th></th>\n",
       "      <th>price</th>\n",
       "      <th>retail_price</th>\n",
       "      <th>currency_buyer</th>\n",
       "      <th>units_sold</th>\n",
       "      <th>uses_ad_boosts</th>\n",
       "      <th>rating</th>\n",
       "      <th>rating_count</th>\n",
       "      <th>badges_count</th>\n",
       "      <th>badge_local_product</th>\n",
       "      <th>badge_product_quality</th>\n",
       "      <th>...</th>\n",
       "      <th>merchant_name</th>\n",
       "      <th>merchant_info_subtitle</th>\n",
       "      <th>merchant_rating_count</th>\n",
       "      <th>merchant_rating</th>\n",
       "      <th>merchant_id</th>\n",
       "      <th>merchant_has_profile_picture</th>\n",
       "      <th>merchant_profile_picture</th>\n",
       "      <th>theme</th>\n",
       "      <th>crawl_month</th>\n",
       "      <th>id</th>\n",
       "    </tr>\n",
       "  </thead>\n",
       "  <tbody>\n",
       "    <tr>\n",
       "      <th>0</th>\n",
       "      <td>8.00</td>\n",
       "      <td>7</td>\n",
       "      <td>EUR</td>\n",
       "      <td>10000</td>\n",
       "      <td>1</td>\n",
       "      <td>4.0</td>\n",
       "      <td>1670</td>\n",
       "      <td>0</td>\n",
       "      <td>0</td>\n",
       "      <td>0</td>\n",
       "      <td>...</td>\n",
       "      <td>keepahorse</td>\n",
       "      <td>88 % avis positifs (66,644 notes)</td>\n",
       "      <td>66644</td>\n",
       "      <td>4.137582</td>\n",
       "      <td>577fb2b368116418674befd9</td>\n",
       "      <td>1</td>\n",
       "      <td>https://s3-us-west-1.amazonaws.com/sweeper-pro...</td>\n",
       "      <td>summer</td>\n",
       "      <td>2020-08</td>\n",
       "      <td>272</td>\n",
       "    </tr>\n",
       "    <tr>\n",
       "      <th>1</th>\n",
       "      <td>8.00</td>\n",
       "      <td>7</td>\n",
       "      <td>EUR</td>\n",
       "      <td>1000</td>\n",
       "      <td>0</td>\n",
       "      <td>4.0</td>\n",
       "      <td>843</td>\n",
       "      <td>1</td>\n",
       "      <td>1</td>\n",
       "      <td>0</td>\n",
       "      <td>...</td>\n",
       "      <td>上海铭启电气科技有限公司</td>\n",
       "      <td>91 % avis positifs (25,752 notes)</td>\n",
       "      <td>25752</td>\n",
       "      <td>4.256873</td>\n",
       "      <td>566a3ef17233ff2686443082</td>\n",
       "      <td>0</td>\n",
       "      <td>NaN</td>\n",
       "      <td>summer</td>\n",
       "      <td>2020-08</td>\n",
       "      <td>1515</td>\n",
       "    </tr>\n",
       "    <tr>\n",
       "      <th>2</th>\n",
       "      <td>6.00</td>\n",
       "      <td>34</td>\n",
       "      <td>EUR</td>\n",
       "      <td>100</td>\n",
       "      <td>0</td>\n",
       "      <td>4.0</td>\n",
       "      <td>10</td>\n",
       "      <td>0</td>\n",
       "      <td>0</td>\n",
       "      <td>0</td>\n",
       "      <td>...</td>\n",
       "      <td>zhaodongmei</td>\n",
       "      <td>83 % avis positifs (3,897 notes)</td>\n",
       "      <td>3897</td>\n",
       "      <td>3.928920</td>\n",
       "      <td>5aacd6c1ccf0c83e5a6f3de0</td>\n",
       "      <td>0</td>\n",
       "      <td>NaN</td>\n",
       "      <td>summer</td>\n",
       "      <td>2020-08</td>\n",
       "      <td>940</td>\n",
       "    </tr>\n",
       "    <tr>\n",
       "      <th>3</th>\n",
       "      <td>4.67</td>\n",
       "      <td>4</td>\n",
       "      <td>EUR</td>\n",
       "      <td>100</td>\n",
       "      <td>1</td>\n",
       "      <td>3.0</td>\n",
       "      <td>82</td>\n",
       "      <td>0</td>\n",
       "      <td>0</td>\n",
       "      <td>0</td>\n",
       "      <td>...</td>\n",
       "      <td>pookie0331</td>\n",
       "      <td>87 % avis positifs (7,497 notes)</td>\n",
       "      <td>7497</td>\n",
       "      <td>4.079365</td>\n",
       "      <td>583141fbfef4094e51453d9b</td>\n",
       "      <td>0</td>\n",
       "      <td>NaN</td>\n",
       "      <td>summer</td>\n",
       "      <td>2020-08</td>\n",
       "      <td>309</td>\n",
       "    </tr>\n",
       "    <tr>\n",
       "      <th>4</th>\n",
       "      <td>8.00</td>\n",
       "      <td>11</td>\n",
       "      <td>EUR</td>\n",
       "      <td>1000</td>\n",
       "      <td>0</td>\n",
       "      <td>4.0</td>\n",
       "      <td>127</td>\n",
       "      <td>0</td>\n",
       "      <td>0</td>\n",
       "      <td>0</td>\n",
       "      <td>...</td>\n",
       "      <td>shitongyi12683626</td>\n",
       "      <td>91 % avis positifs (173 notes)</td>\n",
       "      <td>173</td>\n",
       "      <td>4.306358</td>\n",
       "      <td>5d3bc9f8e13a7e654424a4cb</td>\n",
       "      <td>0</td>\n",
       "      <td>NaN</td>\n",
       "      <td>summer</td>\n",
       "      <td>2020-08</td>\n",
       "      <td>226</td>\n",
       "    </tr>\n",
       "  </tbody>\n",
       "</table>\n",
       "<p>5 rows × 34 columns</p>\n",
       "</div>"
      ],
      "text/plain": [
       "   price  retail_price currency_buyer  units_sold  uses_ad_boosts  rating  \\\n",
       "0   8.00             7            EUR       10000               1     4.0   \n",
       "1   8.00             7            EUR        1000               0     4.0   \n",
       "2   6.00            34            EUR         100               0     4.0   \n",
       "3   4.67             4            EUR         100               1     3.0   \n",
       "4   8.00            11            EUR        1000               0     4.0   \n",
       "\n",
       "   rating_count  badges_count  badge_local_product  badge_product_quality  \\\n",
       "0          1670             0                    0                      0   \n",
       "1           843             1                    1                      0   \n",
       "2            10             0                    0                      0   \n",
       "3            82             0                    0                      0   \n",
       "4           127             0                    0                      0   \n",
       "\n",
       "   ...      merchant_name             merchant_info_subtitle  \\\n",
       "0  ...         keepahorse  88 % avis positifs (66,644 notes)   \n",
       "1  ...       上海铭启电气科技有限公司  91 % avis positifs (25,752 notes)   \n",
       "2  ...        zhaodongmei   83 % avis positifs (3,897 notes)   \n",
       "3  ...         pookie0331   87 % avis positifs (7,497 notes)   \n",
       "4  ...  shitongyi12683626     91 % avis positifs (173 notes)   \n",
       "\n",
       "  merchant_rating_count merchant_rating               merchant_id  \\\n",
       "0                 66644        4.137582  577fb2b368116418674befd9   \n",
       "1                 25752        4.256873  566a3ef17233ff2686443082   \n",
       "2                  3897        3.928920  5aacd6c1ccf0c83e5a6f3de0   \n",
       "3                  7497        4.079365  583141fbfef4094e51453d9b   \n",
       "4                   173        4.306358  5d3bc9f8e13a7e654424a4cb   \n",
       "\n",
       "  merchant_has_profile_picture  \\\n",
       "0                            1   \n",
       "1                            0   \n",
       "2                            0   \n",
       "3                            0   \n",
       "4                            0   \n",
       "\n",
       "                            merchant_profile_picture   theme  crawl_month  \\\n",
       "0  https://s3-us-west-1.amazonaws.com/sweeper-pro...  summer      2020-08   \n",
       "1                                                NaN  summer      2020-08   \n",
       "2                                                NaN  summer      2020-08   \n",
       "3                                                NaN  summer      2020-08   \n",
       "4                                                NaN  summer      2020-08   \n",
       "\n",
       "     id  \n",
       "0   272  \n",
       "1  1515  \n",
       "2   940  \n",
       "3   309  \n",
       "4   226  \n",
       "\n",
       "[5 rows x 34 columns]"
      ]
     },
     "execution_count": 3,
     "metadata": {},
     "output_type": "execute_result"
    }
   ],
   "source": [
    "# We will deal first with training data \n",
    "Tr_df.head()"
   ]
  },
  {
   "cell_type": "code",
   "execution_count": 4,
   "id": "7e247146",
   "metadata": {},
   "outputs": [
    {
     "name": "stdout",
     "output_type": "stream",
     "text": [
      "<class 'pandas.core.frame.DataFrame'>\n",
      "RangeIndex: 1094 entries, 0 to 1093\n",
      "Data columns (total 34 columns):\n",
      " #   Column                        Non-Null Count  Dtype  \n",
      "---  ------                        --------------  -----  \n",
      " 0   price                         1094 non-null   float64\n",
      " 1   retail_price                  1094 non-null   int64  \n",
      " 2   currency_buyer                1094 non-null   object \n",
      " 3   units_sold                    1094 non-null   int64  \n",
      " 4   uses_ad_boosts                1094 non-null   int64  \n",
      " 5   rating                        1094 non-null   float64\n",
      " 6   rating_count                  1094 non-null   int64  \n",
      " 7   badges_count                  1094 non-null   int64  \n",
      " 8   badge_local_product           1094 non-null   int64  \n",
      " 9   badge_product_quality         1094 non-null   int64  \n",
      " 10  badge_fast_shipping           1094 non-null   int64  \n",
      " 11  tags                          1094 non-null   object \n",
      " 12  product_color                 1065 non-null   object \n",
      " 13  product_variation_size_id     1082 non-null   object \n",
      " 14  product_variation_inventory   1094 non-null   int64  \n",
      " 15  shipping_option_name          1094 non-null   object \n",
      " 16  shipping_option_price         1094 non-null   int64  \n",
      " 17  shipping_is_express           1094 non-null   int64  \n",
      " 18  countries_shipped_to          1094 non-null   int64  \n",
      " 19  inventory_total               1094 non-null   int64  \n",
      " 20  has_urgency_banner            349 non-null    float64\n",
      " 21  urgency_text                  349 non-null    object \n",
      " 22  origin_country                1082 non-null   object \n",
      " 23  merchant_title                1094 non-null   object \n",
      " 24  merchant_name                 1090 non-null   object \n",
      " 25  merchant_info_subtitle        1094 non-null   object \n",
      " 26  merchant_rating_count         1094 non-null   int64  \n",
      " 27  merchant_rating               1094 non-null   float64\n",
      " 28  merchant_id                   1094 non-null   object \n",
      " 29  merchant_has_profile_picture  1094 non-null   int64  \n",
      " 30  merchant_profile_picture      170 non-null    object \n",
      " 31  theme                         1094 non-null   object \n",
      " 32  crawl_month                   1094 non-null   object \n",
      " 33  id                            1094 non-null   int64  \n",
      "dtypes: float64(4), int64(16), object(14)\n",
      "memory usage: 290.7+ KB\n"
     ]
    }
   ],
   "source": [
    "# Some informations of df\n",
    "Tr_df.info()"
   ]
  },
  {
   "cell_type": "code",
   "execution_count": 5,
   "id": "421fe8ff",
   "metadata": {},
   "outputs": [
    {
     "data": {
      "text/html": [
       "<div>\n",
       "<style scoped>\n",
       "    .dataframe tbody tr th:only-of-type {\n",
       "        vertical-align: middle;\n",
       "    }\n",
       "\n",
       "    .dataframe tbody tr th {\n",
       "        vertical-align: top;\n",
       "    }\n",
       "\n",
       "    .dataframe thead th {\n",
       "        text-align: right;\n",
       "    }\n",
       "</style>\n",
       "<table border=\"1\" class=\"dataframe\">\n",
       "  <thead>\n",
       "    <tr style=\"text-align: right;\">\n",
       "      <th></th>\n",
       "      <th>price</th>\n",
       "      <th>retail_price</th>\n",
       "      <th>units_sold</th>\n",
       "      <th>uses_ad_boosts</th>\n",
       "      <th>rating</th>\n",
       "      <th>rating_count</th>\n",
       "      <th>badges_count</th>\n",
       "      <th>badge_local_product</th>\n",
       "      <th>badge_product_quality</th>\n",
       "      <th>badge_fast_shipping</th>\n",
       "      <th>product_variation_inventory</th>\n",
       "      <th>shipping_option_price</th>\n",
       "      <th>shipping_is_express</th>\n",
       "      <th>countries_shipped_to</th>\n",
       "      <th>inventory_total</th>\n",
       "      <th>has_urgency_banner</th>\n",
       "      <th>merchant_rating_count</th>\n",
       "      <th>merchant_rating</th>\n",
       "      <th>merchant_has_profile_picture</th>\n",
       "      <th>id</th>\n",
       "    </tr>\n",
       "  </thead>\n",
       "  <tbody>\n",
       "    <tr>\n",
       "      <th>count</th>\n",
       "      <td>1094.000000</td>\n",
       "      <td>1094.000000</td>\n",
       "      <td>1094.000000</td>\n",
       "      <td>1094.000000</td>\n",
       "      <td>1094.000000</td>\n",
       "      <td>1094.000000</td>\n",
       "      <td>1094.000000</td>\n",
       "      <td>1094.000000</td>\n",
       "      <td>1094.000000</td>\n",
       "      <td>1094.000000</td>\n",
       "      <td>1094.000000</td>\n",
       "      <td>1094.000000</td>\n",
       "      <td>1094.000000</td>\n",
       "      <td>1094.000000</td>\n",
       "      <td>1094.000000</td>\n",
       "      <td>349.0</td>\n",
       "      <td>1.094000e+03</td>\n",
       "      <td>1094.000000</td>\n",
       "      <td>1094.000000</td>\n",
       "      <td>1094.000000</td>\n",
       "    </tr>\n",
       "    <tr>\n",
       "      <th>mean</th>\n",
       "      <td>8.320786</td>\n",
       "      <td>23.712066</td>\n",
       "      <td>4518.661792</td>\n",
       "      <td>0.432358</td>\n",
       "      <td>4.006399</td>\n",
       "      <td>915.523766</td>\n",
       "      <td>0.114260</td>\n",
       "      <td>0.019196</td>\n",
       "      <td>0.083181</td>\n",
       "      <td>0.011883</td>\n",
       "      <td>32.807130</td>\n",
       "      <td>2.344607</td>\n",
       "      <td>0.002742</td>\n",
       "      <td>40.484461</td>\n",
       "      <td>49.849177</td>\n",
       "      <td>1.0</td>\n",
       "      <td>2.678399e+04</td>\n",
       "      <td>4.036191</td>\n",
       "      <td>0.155393</td>\n",
       "      <td>772.207495</td>\n",
       "    </tr>\n",
       "    <tr>\n",
       "      <th>std</th>\n",
       "      <td>4.027448</td>\n",
       "      <td>31.802661</td>\n",
       "      <td>9825.608568</td>\n",
       "      <td>0.495630</td>\n",
       "      <td>0.585706</td>\n",
       "      <td>2037.561158</td>\n",
       "      <td>0.348461</td>\n",
       "      <td>0.137275</td>\n",
       "      <td>0.276282</td>\n",
       "      <td>0.108409</td>\n",
       "      <td>21.454655</td>\n",
       "      <td>1.044781</td>\n",
       "      <td>0.052318</td>\n",
       "      <td>20.196229</td>\n",
       "      <td>2.480687</td>\n",
       "      <td>0.0</td>\n",
       "      <td>8.616171e+04</td>\n",
       "      <td>0.200397</td>\n",
       "      <td>0.362445</td>\n",
       "      <td>453.784430</td>\n",
       "    </tr>\n",
       "    <tr>\n",
       "      <th>min</th>\n",
       "      <td>1.000000</td>\n",
       "      <td>2.000000</td>\n",
       "      <td>1.000000</td>\n",
       "      <td>0.000000</td>\n",
       "      <td>1.000000</td>\n",
       "      <td>0.000000</td>\n",
       "      <td>0.000000</td>\n",
       "      <td>0.000000</td>\n",
       "      <td>0.000000</td>\n",
       "      <td>0.000000</td>\n",
       "      <td>1.000000</td>\n",
       "      <td>1.000000</td>\n",
       "      <td>0.000000</td>\n",
       "      <td>8.000000</td>\n",
       "      <td>1.000000</td>\n",
       "      <td>1.0</td>\n",
       "      <td>4.000000e+00</td>\n",
       "      <td>2.941176</td>\n",
       "      <td>0.000000</td>\n",
       "      <td>2.000000</td>\n",
       "    </tr>\n",
       "    <tr>\n",
       "      <th>25%</th>\n",
       "      <td>5.830000</td>\n",
       "      <td>7.000000</td>\n",
       "      <td>100.000000</td>\n",
       "      <td>0.000000</td>\n",
       "      <td>4.000000</td>\n",
       "      <td>24.000000</td>\n",
       "      <td>0.000000</td>\n",
       "      <td>0.000000</td>\n",
       "      <td>0.000000</td>\n",
       "      <td>0.000000</td>\n",
       "      <td>6.000000</td>\n",
       "      <td>2.000000</td>\n",
       "      <td>0.000000</td>\n",
       "      <td>31.000000</td>\n",
       "      <td>50.000000</td>\n",
       "      <td>1.0</td>\n",
       "      <td>1.926000e+03</td>\n",
       "      <td>3.918464</td>\n",
       "      <td>0.000000</td>\n",
       "      <td>382.250000</td>\n",
       "    </tr>\n",
       "    <tr>\n",
       "      <th>50%</th>\n",
       "      <td>8.000000</td>\n",
       "      <td>10.000000</td>\n",
       "      <td>1000.000000</td>\n",
       "      <td>0.000000</td>\n",
       "      <td>4.000000</td>\n",
       "      <td>143.500000</td>\n",
       "      <td>0.000000</td>\n",
       "      <td>0.000000</td>\n",
       "      <td>0.000000</td>\n",
       "      <td>0.000000</td>\n",
       "      <td>50.000000</td>\n",
       "      <td>2.000000</td>\n",
       "      <td>0.000000</td>\n",
       "      <td>40.000000</td>\n",
       "      <td>50.000000</td>\n",
       "      <td>1.0</td>\n",
       "      <td>8.225000e+03</td>\n",
       "      <td>4.045170</td>\n",
       "      <td>0.000000</td>\n",
       "      <td>752.500000</td>\n",
       "    </tr>\n",
       "    <tr>\n",
       "      <th>75%</th>\n",
       "      <td>11.000000</td>\n",
       "      <td>26.000000</td>\n",
       "      <td>5000.000000</td>\n",
       "      <td>1.000000</td>\n",
       "      <td>4.000000</td>\n",
       "      <td>845.500000</td>\n",
       "      <td>0.000000</td>\n",
       "      <td>0.000000</td>\n",
       "      <td>0.000000</td>\n",
       "      <td>0.000000</td>\n",
       "      <td>50.000000</td>\n",
       "      <td>3.000000</td>\n",
       "      <td>0.000000</td>\n",
       "      <td>43.000000</td>\n",
       "      <td>50.000000</td>\n",
       "      <td>1.0</td>\n",
       "      <td>2.306200e+04</td>\n",
       "      <td>4.166826</td>\n",
       "      <td>0.000000</td>\n",
       "      <td>1166.500000</td>\n",
       "    </tr>\n",
       "    <tr>\n",
       "      <th>max</th>\n",
       "      <td>49.000000</td>\n",
       "      <td>252.000000</td>\n",
       "      <td>100000.000000</td>\n",
       "      <td>1.000000</td>\n",
       "      <td>6.000000</td>\n",
       "      <td>20744.000000</td>\n",
       "      <td>3.000000</td>\n",
       "      <td>1.000000</td>\n",
       "      <td>1.000000</td>\n",
       "      <td>1.000000</td>\n",
       "      <td>50.000000</td>\n",
       "      <td>12.000000</td>\n",
       "      <td>1.000000</td>\n",
       "      <td>140.000000</td>\n",
       "      <td>50.000000</td>\n",
       "      <td>1.0</td>\n",
       "      <td>2.174765e+06</td>\n",
       "      <td>4.577519</td>\n",
       "      <td>1.000000</td>\n",
       "      <td>1572.000000</td>\n",
       "    </tr>\n",
       "  </tbody>\n",
       "</table>\n",
       "</div>"
      ],
      "text/plain": [
       "             price  retail_price     units_sold  uses_ad_boosts       rating  \\\n",
       "count  1094.000000   1094.000000    1094.000000     1094.000000  1094.000000   \n",
       "mean      8.320786     23.712066    4518.661792        0.432358     4.006399   \n",
       "std       4.027448     31.802661    9825.608568        0.495630     0.585706   \n",
       "min       1.000000      2.000000       1.000000        0.000000     1.000000   \n",
       "25%       5.830000      7.000000     100.000000        0.000000     4.000000   \n",
       "50%       8.000000     10.000000    1000.000000        0.000000     4.000000   \n",
       "75%      11.000000     26.000000    5000.000000        1.000000     4.000000   \n",
       "max      49.000000    252.000000  100000.000000        1.000000     6.000000   \n",
       "\n",
       "       rating_count  badges_count  badge_local_product  badge_product_quality  \\\n",
       "count   1094.000000   1094.000000          1094.000000            1094.000000   \n",
       "mean     915.523766      0.114260             0.019196               0.083181   \n",
       "std     2037.561158      0.348461             0.137275               0.276282   \n",
       "min        0.000000      0.000000             0.000000               0.000000   \n",
       "25%       24.000000      0.000000             0.000000               0.000000   \n",
       "50%      143.500000      0.000000             0.000000               0.000000   \n",
       "75%      845.500000      0.000000             0.000000               0.000000   \n",
       "max    20744.000000      3.000000             1.000000               1.000000   \n",
       "\n",
       "       badge_fast_shipping  product_variation_inventory  \\\n",
       "count          1094.000000                  1094.000000   \n",
       "mean              0.011883                    32.807130   \n",
       "std               0.108409                    21.454655   \n",
       "min               0.000000                     1.000000   \n",
       "25%               0.000000                     6.000000   \n",
       "50%               0.000000                    50.000000   \n",
       "75%               0.000000                    50.000000   \n",
       "max               1.000000                    50.000000   \n",
       "\n",
       "       shipping_option_price  shipping_is_express  countries_shipped_to  \\\n",
       "count            1094.000000          1094.000000           1094.000000   \n",
       "mean                2.344607             0.002742             40.484461   \n",
       "std                 1.044781             0.052318             20.196229   \n",
       "min                 1.000000             0.000000              8.000000   \n",
       "25%                 2.000000             0.000000             31.000000   \n",
       "50%                 2.000000             0.000000             40.000000   \n",
       "75%                 3.000000             0.000000             43.000000   \n",
       "max                12.000000             1.000000            140.000000   \n",
       "\n",
       "       inventory_total  has_urgency_banner  merchant_rating_count  \\\n",
       "count      1094.000000               349.0           1.094000e+03   \n",
       "mean         49.849177                 1.0           2.678399e+04   \n",
       "std           2.480687                 0.0           8.616171e+04   \n",
       "min           1.000000                 1.0           4.000000e+00   \n",
       "25%          50.000000                 1.0           1.926000e+03   \n",
       "50%          50.000000                 1.0           8.225000e+03   \n",
       "75%          50.000000                 1.0           2.306200e+04   \n",
       "max          50.000000                 1.0           2.174765e+06   \n",
       "\n",
       "       merchant_rating  merchant_has_profile_picture           id  \n",
       "count      1094.000000                   1094.000000  1094.000000  \n",
       "mean          4.036191                      0.155393   772.207495  \n",
       "std           0.200397                      0.362445   453.784430  \n",
       "min           2.941176                      0.000000     2.000000  \n",
       "25%           3.918464                      0.000000   382.250000  \n",
       "50%           4.045170                      0.000000   752.500000  \n",
       "75%           4.166826                      0.000000  1166.500000  \n",
       "max           4.577519                      1.000000  1572.000000  "
      ]
     },
     "execution_count": 5,
     "metadata": {},
     "output_type": "execute_result"
    }
   ],
   "source": [
    "# To describe some statistical info about num coumns \n",
    "Tr_df.describe()"
   ]
  },
  {
   "cell_type": "markdown",
   "id": "e8e26adb",
   "metadata": {},
   "source": [
    "### Data Cleaning or Cleansing"
   ]
  },
  {
   "cell_type": "code",
   "execution_count": 6,
   "id": "fdf8ea89",
   "metadata": {},
   "outputs": [
    {
     "data": {
      "text/plain": [
       "price                             0\n",
       "retail_price                      0\n",
       "currency_buyer                    0\n",
       "units_sold                        0\n",
       "uses_ad_boosts                    0\n",
       "rating                            0\n",
       "rating_count                      0\n",
       "badges_count                      0\n",
       "badge_local_product               0\n",
       "badge_product_quality             0\n",
       "badge_fast_shipping               0\n",
       "tags                              0\n",
       "product_color                    29\n",
       "product_variation_size_id        12\n",
       "product_variation_inventory       0\n",
       "shipping_option_name              0\n",
       "shipping_option_price             0\n",
       "shipping_is_express               0\n",
       "countries_shipped_to              0\n",
       "inventory_total                   0\n",
       "has_urgency_banner              745\n",
       "urgency_text                    745\n",
       "origin_country                   12\n",
       "merchant_title                    0\n",
       "merchant_name                     4\n",
       "merchant_info_subtitle            0\n",
       "merchant_rating_count             0\n",
       "merchant_rating                   0\n",
       "merchant_id                       0\n",
       "merchant_has_profile_picture      0\n",
       "merchant_profile_picture        924\n",
       "theme                             0\n",
       "crawl_month                       0\n",
       "id                                0\n",
       "dtype: int64"
      ]
     },
     "execution_count": 6,
     "metadata": {},
     "output_type": "execute_result"
    }
   ],
   "source": [
    "# Check Missing values\n",
    "Tr_df.isnull().sum()"
   ]
  },
  {
   "cell_type": "code",
   "execution_count": 7,
   "id": "2ab8ac28",
   "metadata": {},
   "outputs": [],
   "source": [
    "# We found that there are 3 features with huge number nulls, so we can drop them \n",
    "Tr_df.drop([ 'urgency_text','has_urgency_banner','merchant_profile_picture'], axis=1,inplace=True)"
   ]
  },
  {
   "cell_type": "code",
   "execution_count": 8,
   "id": "97d03510",
   "metadata": {},
   "outputs": [
    {
     "name": "stdout",
     "output_type": "stream",
     "text": [
      "<class 'pandas.core.frame.DataFrame'>\n",
      "RangeIndex: 1094 entries, 0 to 1093\n",
      "Data columns (total 31 columns):\n",
      " #   Column                        Non-Null Count  Dtype  \n",
      "---  ------                        --------------  -----  \n",
      " 0   price                         1094 non-null   float64\n",
      " 1   retail_price                  1094 non-null   int64  \n",
      " 2   currency_buyer                1094 non-null   object \n",
      " 3   units_sold                    1094 non-null   int64  \n",
      " 4   uses_ad_boosts                1094 non-null   int64  \n",
      " 5   rating                        1094 non-null   float64\n",
      " 6   rating_count                  1094 non-null   int64  \n",
      " 7   badges_count                  1094 non-null   int64  \n",
      " 8   badge_local_product           1094 non-null   int64  \n",
      " 9   badge_product_quality         1094 non-null   int64  \n",
      " 10  badge_fast_shipping           1094 non-null   int64  \n",
      " 11  tags                          1094 non-null   object \n",
      " 12  product_color                 1065 non-null   object \n",
      " 13  product_variation_size_id     1082 non-null   object \n",
      " 14  product_variation_inventory   1094 non-null   int64  \n",
      " 15  shipping_option_name          1094 non-null   object \n",
      " 16  shipping_option_price         1094 non-null   int64  \n",
      " 17  shipping_is_express           1094 non-null   int64  \n",
      " 18  countries_shipped_to          1094 non-null   int64  \n",
      " 19  inventory_total               1094 non-null   int64  \n",
      " 20  origin_country                1082 non-null   object \n",
      " 21  merchant_title                1094 non-null   object \n",
      " 22  merchant_name                 1090 non-null   object \n",
      " 23  merchant_info_subtitle        1094 non-null   object \n",
      " 24  merchant_rating_count         1094 non-null   int64  \n",
      " 25  merchant_rating               1094 non-null   float64\n",
      " 26  merchant_id                   1094 non-null   object \n",
      " 27  merchant_has_profile_picture  1094 non-null   int64  \n",
      " 28  theme                         1094 non-null   object \n",
      " 29  crawl_month                   1094 non-null   object \n",
      " 30  id                            1094 non-null   int64  \n",
      "dtypes: float64(3), int64(16), object(12)\n",
      "memory usage: 265.1+ KB\n"
     ]
    }
   ],
   "source": [
    "# To make sure that the columns are have been dropped\n",
    "Tr_df.info()"
   ]
  },
  {
   "cell_type": "markdown",
   "id": "11b9ffe6",
   "metadata": {},
   "source": [
    "# Univariate Analysis\n",
    "* >Numerical \n",
    "    * (price, retail_price, units_sold, uses_ad_boosts, rating, rating_count,badges_count,badge_local_product,badge_product_quality,badge_fast_shipping,product_variation_inventory,shipping_option_price,shipping_is_express,inventory_total,merchant_rating_count,merchant_rating,merchant_has_profile_picture,id)\n",
    "* >Categorical \n",
    "    * (currency_buyer, tags, product_color, product_variation_size_id, shipping_option_name, origin_country, merchant_title, merchant_name, merchant_info_subtitle , merchant_id ,theme,crawl_month)"
   ]
  },
  {
   "cell_type": "markdown",
   "id": "36091f50",
   "metadata": {},
   "source": [
    "### For categorical Columns "
   ]
  },
  {
   "cell_type": "markdown",
   "id": "c28ed853",
   "metadata": {},
   "source": [
    "# currency_buyer column"
   ]
  },
  {
   "cell_type": "code",
   "execution_count": 9,
   "id": "a75ea4df",
   "metadata": {},
   "outputs": [
    {
     "data": {
      "text/plain": [
       "array(['EUR'], dtype=object)"
      ]
     },
     "execution_count": 9,
     "metadata": {},
     "output_type": "execute_result"
    }
   ],
   "source": [
    "#check the unique values for column\n",
    "Tr_df['currency_buyer'].unique()"
   ]
  },
  {
   "cell_type": "code",
   "execution_count": 10,
   "id": "319d3f31",
   "metadata": {},
   "outputs": [],
   "source": [
    "#As we see the currency_buyer columns has only one unique value so we can drop it \n",
    "Tr_df.drop(['currency_buyer'],axis=1,inplace=True)"
   ]
  },
  {
   "cell_type": "markdown",
   "id": "5e98f257",
   "metadata": {},
   "source": [
    "#  product_color column"
   ]
  },
  {
   "cell_type": "code",
   "execution_count": 11,
   "id": "a00b7e73",
   "metadata": {},
   "outputs": [
    {
     "data": {
      "text/plain": [
       "(array(['yellow', 'black', 'white', 'lakeblue', 'apricot', 'brown',\n",
       "        'winered', 'blue', 'red', 'navyblue', 'green', 'khaki', 'White',\n",
       "        'white & green', 'multicolor', 'lightpink', 'pink', 'RED',\n",
       "        'armygreen', 'lightblue', nan, 'coffee', 'grey', 'skyblue',\n",
       "        'watermelonred', 'pink & black', 'whitefloral', 'purple', 'navy',\n",
       "        'pink & white', 'rosered', 'orange', 'Black', 'mintgreen',\n",
       "        'leopardprint', 'gray', 'navy blue', 'star', 'rose', 'lightyellow',\n",
       "        'camouflage', 'black & yellow', 'whitestripe', 'navyblue & white',\n",
       "        'black & blue', 'lightred', 'violet', 'gold', 'black & green',\n",
       "        'white & black', 'burgundy', 'black & white', 'lightgrey',\n",
       "        'coolblack', 'lightgreen', 'beige', 'darkblue', 'darkgreen',\n",
       "        'silver', 'wine red', 'Army green', 'pink & blue', 'rainbow',\n",
       "        'claret', 'floral', 'brown & yellow', 'light green', 'Pink',\n",
       "        'blue & pink', 'dustypink', 'camel', 'orange-red', 'rosegold',\n",
       "        'ivory', 'fluorescentgreen', 'winered & yellow', 'offwhite',\n",
       "        'lightgray', 'wine', 'army', 'applegreen', 'nude', 'pink & grey',\n",
       "        'Rose red', 'denimblue', 'blackwhite', 'Blue', 'leopard'],\n",
       "       dtype=object),\n",
       " black             219\n",
       " white             173\n",
       " blue               77\n",
       " yellow             69\n",
       " pink               68\n",
       "                  ... \n",
       " claret              1\n",
       " brown & yellow      1\n",
       " whitestripe         1\n",
       " Pink                1\n",
       " light green         1\n",
       " Name: product_color, Length: 87, dtype: int64)"
      ]
     },
     "execution_count": 11,
     "metadata": {},
     "output_type": "execute_result"
    }
   ],
   "source": [
    "# #check the unique values for column\n",
    "Tr_df['product_color'].unique() , Tr_df['product_color'].value_counts()"
   ]
  },
  {
   "cell_type": "code",
   "execution_count": 12,
   "id": "5266d283",
   "metadata": {},
   "outputs": [
    {
     "name": "stderr",
     "output_type": "stream",
     "text": [
      "C:\\Users\\Lenovo\\anaconda3\\lib\\site-packages\\seaborn\\_decorators.py:36: FutureWarning: Pass the following variable as a keyword arg: x. From version 0.12, the only valid positional argument will be `data`, and passing other arguments without an explicit keyword will result in an error or misinterpretation.\n",
      "  warnings.warn(\n"
     ]
    },
    {
     "data": {
      "image/png": "[encoded data removed]",
      "text/plain": [
       "<Figure size 1500x800 with 1 Axes>"
      ]
     },
     "metadata": {},
     "output_type": "display_data"
    }
   ],
   "source": [
    "# A histogram is used to summarize and represente the data for this column\n",
    "fig, ax = plt.subplots(figsize=(15, 8))\n",
    "sns.countplot('product_color', data = Tr_df, order = Tr_df['product_color'].value_counts().index, ax = ax)\n",
    "ax.set(xlabel='Product Colour', ylabel='Count')\n",
    "plt.xticks(rotation=90, ha='right')\n",
    "plt.show()"
   ]
  },
  {
   "cell_type": "code",
   "execution_count": 13,
   "id": "0384e3bc",
   "metadata": {},
   "outputs": [
    {
     "data": {
      "text/plain": [
       "array(['yellow', 'black', 'white', 'lakeblue', 'apricot', 'brown',\n",
       "       'winered', 'blue', 'red', 'navyblue', 'green', 'khaki',\n",
       "       'white & green', 'multicolor', 'lightpink', 'pink', 'armygreen',\n",
       "       'lightblue', nan, 'coffee', 'grey', 'skyblue', 'watermelonred',\n",
       "       'pink & black', 'whitefloral', 'purple', 'navy', 'pink & white',\n",
       "       'rosered', 'orange', 'mintgreen', 'leopardprint', 'gray',\n",
       "       'navy blue', 'star', 'rose', 'lightyellow', 'camouflage',\n",
       "       'black & yellow', 'whitestripe', 'navyblue & white',\n",
       "       'black & blue', 'lightred', 'violet', 'gold', 'black & green',\n",
       "       'white & black', 'burgundy', 'black & white', 'lightgrey',\n",
       "       'coolblack', 'lightgreen', 'beige', 'darkblue', 'darkgreen',\n",
       "       'silver', 'wine red', 'army green', 'pink & blue', 'rainbow',\n",
       "       'claret', 'floral', 'brown & yellow', 'light green', 'blue & pink',\n",
       "       'dustypink', 'camel', 'orange-red', 'rosegold', 'ivory',\n",
       "       'fluorescentgreen', 'winered & yellow', 'offwhite', 'lightgray',\n",
       "       'wine', 'army', 'applegreen', 'nude', 'pink & grey', 'rose red',\n",
       "       'denimblue', 'blackwhite', 'leopard'], dtype=object)"
      ]
     },
     "execution_count": 13,
     "metadata": {},
     "output_type": "execute_result"
    }
   ],
   "source": [
    "# convert to lower case and remove the white space\n",
    "Tr_df['product_color'] = Tr_df['product_color'].str.lower() # try to make matching like Black = black\n",
    "Tr_df['product_color'] = Tr_df['product_color'].str.strip() # try to make matching likw armygreen = Army green \n",
    "Tr_df['product_color'].unique()"
   ]
  },
  {
   "cell_type": "code",
   "execution_count": 14,
   "id": "26071399",
   "metadata": {
    "scrolled": true
   },
   "outputs": [
    {
     "data": {
      "text/plain": [
       "black             222\n",
       "white             176\n",
       "blue               78\n",
       "pink               69\n",
       "yellow             69\n",
       "                 ... \n",
       "lightgrey           1\n",
       "lightyellow         1\n",
       "whitestripe         1\n",
       "gold                1\n",
       "brown & yellow      1\n",
       "Name: product_color, Length: 82, dtype: int64"
      ]
     },
     "execution_count": 14,
     "metadata": {},
     "output_type": "execute_result"
    }
   ],
   "source": [
    "Tr_df['product_color'].value_counts()"
   ]
  },
  {
   "cell_type": "code",
   "execution_count": 15,
   "id": "091213c5",
   "metadata": {},
   "outputs": [
    {
     "data": {
      "text/plain": [
       "array(['yellow', 'black', 'white', 'blue', 'other', 'red', 'green',\n",
       "       'pink', 'grey', 'purple'], dtype=object)"
      ]
     },
     "execution_count": 15,
     "metadata": {},
     "output_type": "execute_result"
    }
   ],
   "source": [
    "\"\"\"From visulaization we find that there are lots of colors may be noisy in columns and also there is human error \n",
    "with entring data like (lightgrey and lightgray) also ('blackwhite' and  'black & white') and there are values with \n",
    "only one time repetition. So we will handle this by using replace method , to make the color that has the soft shade of \n",
    "another color as one category \n",
    "\"\"\"  \n",
    "Tr_df['product_color'] = Tr_df['product_color'].replace('beige', 'ivory')\n",
    "Tr_df['product_color'] = Tr_df['product_color'].replace('coolblack', 'black')\n",
    "Tr_df['product_color'] = Tr_df['product_color'].replace('orange-red', 'orange')\n",
    "Tr_df['product_color'] = Tr_df['product_color'].replace('lightyellow', 'yellow')\n",
    "Tr_df['product_color'] = Tr_df['product_color'].replace('multicolor', 'rainbow')\n",
    "Tr_df['product_color'] = Tr_df['product_color'].replace('leopardprint', 'leopard')\n",
    "Tr_df['product_color'] = Tr_df['product_color'].replace('blue & pink', 'pink & blue')\n",
    "Tr_df['product_color'] = Tr_df['product_color'].replace(['gray', 'lightgrey', 'lightgray'], 'grey')\n",
    "Tr_df['product_color'] = Tr_df['product_color'].replace(['nude', 'khaki', 'coffee', 'camel', 'apricot'], 'brown')\n",
    "Tr_df['product_color'] = Tr_df['product_color'].replace(['skyblue', 'lakeblue', 'navyblue', 'darkblue', 'lightblue', 'navy blue', 'denimblue'], 'blue')\n",
    "Tr_df['product_color'] = Tr_df['product_color'].replace(['whitefloral', 'offwhite', 'whitestripe'], 'white')\n",
    "Tr_df['product_color'] = Tr_df['product_color'].replace(['lightpink', 'dustypink', 'whitestripe'], 'pink')\n",
    "Tr_df['product_color'] = Tr_df['product_color'].replace(['blackwhite', 'black & white'], 'white & black')\n",
    "Tr_df['product_color'] = Tr_df['product_color'].replace(['winered','rosered' ,'rose','lightred','wine red', 'burgundy','rose red', 'watermelonred'], 'red')\n",
    "Tr_df['product_color'] = Tr_df['product_color'].replace(['mintgreen', 'darkgreen', 'lightgreen','armygreen', 'applegreen','army green', 'camouflage', 'army', 'light green', 'fluorescentgreen'], 'green')\n",
    "Tr_df['product_color'] = Tr_df['product_color'].replace([np.nan, 'pink & grey', 'navyblue & white', 'brown & yellow', 'black & yellow', 'leopard', 'star','nude', 'khaki', 'coffee', 'camel', 'apricot', 'orange-red','blackwhite',\n",
    "                                                   'pink & black', 'navy', 'pink & white', 'navyblue & white', 'black & blue', 'violet', 'gold', 'multicolor','blue & pink','beige','leopardprint','black & white',\n",
    "                                                   'black & green', 'silver', 'pink & blue', 'claret', 'floral', 'rosegold', 'winered & yellow', 'wine','white & black','ivory','white & green','rainbow','orange','brown'], 'other')\n",
    "\n",
    "Tr_df['product_color'].unique()\n"
   ]
  },
  {
   "cell_type": "code",
   "execution_count": 16,
   "id": "2cda3c21",
   "metadata": {
    "scrolled": true
   },
   "outputs": [
    {
     "name": "stderr",
     "output_type": "stream",
     "text": [
      "C:\\Users\\Lenovo\\anaconda3\\lib\\site-packages\\seaborn\\_decorators.py:36: FutureWarning: Pass the following variable as a keyword arg: x. From version 0.12, the only valid positional argument will be `data`, and passing other arguments without an explicit keyword will result in an error or misinterpretation.\n",
      "  warnings.warn(\n"
     ]
    },
    {
     "data": {
      "image/png": "[encoded data removed]",
      "text/plain": [
       "<Figure size 3000x800 with 1 Axes>"
      ]
     },
     "metadata": {},
     "output_type": "display_data"
    }
   ],
   "source": [
    "# In this histogram, the data has a better vary in the data \n",
    "fig, ax = plt.subplots(figsize=(30, 8))\n",
    "sns.countplot('product_color', data = Tr_df, order = Tr_df['product_color'].value_counts().index, ax = ax)\n",
    "ax.set(xlabel='Product Colour', ylabel='Count')\n",
    "plt.xticks(rotation=90, ha='right')\n",
    "plt.show()"
   ]
  },
  {
   "cell_type": "markdown",
   "id": "234a74d3",
   "metadata": {},
   "source": [
    "# For the theme column "
   ]
  },
  {
   "cell_type": "code",
   "execution_count": 17,
   "id": "301f3085",
   "metadata": {},
   "outputs": [
    {
     "data": {
      "text/plain": [
       "array(['summer'], dtype=object)"
      ]
     },
     "execution_count": 17,
     "metadata": {},
     "output_type": "execute_result"
    }
   ],
   "source": [
    "Tr_df['theme'].unique()"
   ]
  },
  {
   "cell_type": "code",
   "execution_count": 18,
   "id": "ed953825",
   "metadata": {},
   "outputs": [],
   "source": [
    "# It has only one unique value so we will drop it \n",
    "Tr_df.drop(['theme'],axis=1 , inplace=True)"
   ]
  },
  {
   "cell_type": "markdown",
   "id": "43e04ec6",
   "metadata": {},
   "source": [
    "# For The origin_country"
   ]
  },
  {
   "cell_type": "code",
   "execution_count": 19,
   "id": "0450bd00",
   "metadata": {},
   "outputs": [
    {
     "name": "stderr",
     "output_type": "stream",
     "text": [
      "C:\\Users\\Lenovo\\anaconda3\\lib\\site-packages\\seaborn\\_decorators.py:36: FutureWarning: Pass the following variable as a keyword arg: x. From version 0.12, the only valid positional argument will be `data`, and passing other arguments without an explicit keyword will result in an error or misinterpretation.\n",
      "  warnings.warn(\n"
     ]
    },
    {
     "data": {
      "image/png": "[encoded data removed]",
      "text/plain": [
       "<Figure size 1500x800 with 1 Axes>"
      ]
     },
     "metadata": {},
     "output_type": "display_data"
    }
   ],
   "source": [
    "fig, ax = plt.subplots(figsize=(15, 8))\n",
    "sns.countplot('origin_country', data = Tr_df, order = Tr_df['origin_country'].value_counts().index, ax = ax)\n",
    "ax.set(xlabel='origin_country', ylabel='Count')\n",
    "plt.xticks(rotation=90, ha='right')\n",
    "plt.show()"
   ]
  },
  {
   "cell_type": "code",
   "execution_count": 20,
   "id": "298c5665",
   "metadata": {},
   "outputs": [],
   "source": [
    "# All values except the value of 'CN' will be other \n",
    "Tr_df['origin_country'] = Tr_df['origin_country'].replace([np.nan,'US','GB','SG','AT','VE',], 'Other')"
   ]
  },
  {
   "cell_type": "code",
   "execution_count": 21,
   "id": "bc9f391e",
   "metadata": {},
   "outputs": [
    {
     "name": "stderr",
     "output_type": "stream",
     "text": [
      "C:\\Users\\Lenovo\\anaconda3\\lib\\site-packages\\seaborn\\_decorators.py:36: FutureWarning: Pass the following variable as a keyword arg: x. From version 0.12, the only valid positional argument will be `data`, and passing other arguments without an explicit keyword will result in an error or misinterpretation.\n",
      "  warnings.warn(\n"
     ]
    },
    {
     "data": {
      "image/png": "[encoded data removed]",
      "text/plain": [
       "<Figure size 1500x800 with 1 Axes>"
      ]
     },
     "metadata": {},
     "output_type": "display_data"
    }
   ],
   "source": [
    "# checking for distribution of 'origin_country' to see if it correctly categorized everything\n",
    "fig, ax = plt.subplots(figsize=(15, 8))\n",
    "sns.countplot('origin_country', data = Tr_df, order = Tr_df['origin_country'].value_counts().index, ax = ax)\n",
    "ax.set(xlabel='origin_country', ylabel='Count')\n",
    "plt.xticks(rotation=90, ha='right')\n",
    "plt.show()"
   ]
  },
  {
   "cell_type": "markdown",
   "id": "6b8b15d3",
   "metadata": {},
   "source": [
    "# For shipping_option_name column"
   ]
  },
  {
   "cell_type": "code",
   "execution_count": 22,
   "id": "fce2e2b7",
   "metadata": {},
   "outputs": [
    {
     "data": {
      "text/plain": [
       "(array(['Livraison standard', 'Standard Shipping', 'الشحن القياسي',\n",
       "        'Expediere Standard', 'Envío normal', 'Standardowa wysyłka',\n",
       "        'Envio Padrão', 'Standardversand', 'Spedizione standard',\n",
       "        'Standart Gönderi', 'Livraison Express', 'ការដឹកជញ្ជូនតាមស្តង់ដារ',\n",
       "        'Стандартная доставка'], dtype=object),\n",
       " Livraison standard         1047\n",
       " Standard Shipping            16\n",
       " Envio Padrão                  6\n",
       " الشحن القياسي                 4\n",
       " Expediere Standard            4\n",
       " Envío normal                  3\n",
       " Standardversand               3\n",
       " Livraison Express             3\n",
       " Standardowa wysyłka           2\n",
       " Standart Gönderi              2\n",
       " Стандартная доставка          2\n",
       " Spedizione standard           1\n",
       " ការដឹកជញ្ជូនតាមស្តង់ដារ       1\n",
       " Name: shipping_option_name, dtype: int64)"
      ]
     },
     "execution_count": 22,
     "metadata": {},
     "output_type": "execute_result"
    }
   ],
   "source": [
    "Tr_df['shipping_option_name'].unique(), Tr_df['shipping_option_name'].value_counts()"
   ]
  },
  {
   "cell_type": "code",
   "execution_count": 23,
   "id": "a65cf6e8",
   "metadata": {},
   "outputs": [
    {
     "data": {
      "text/plain": [
       "\" I make the drop of anything the last choice so after understanding the columns i found that: \\nThe meaning of 'Standard Shipping' in ARABIC is (الشحن القياسي') and in KHMER is ('ការដឹកជញ្ជូនតាមស្តង់ដារ') \\nand in RUSSIAN is (Стандартная доставка) and in turkish (Standard Gönderi) and in polish is (Standardowa wysyłka)\\nand in Envio Padrão is (Envio Padrão) and in SPANISH is (Envío normal) and in ITALIAN is (Spedizione standard)..etc\\nIt Has the same the same meaning but with different languages so i deal with it as only one unique value so i will \\ndrop it.\\n\""
      ]
     },
     "execution_count": 23,
     "metadata": {},
     "output_type": "execute_result"
    }
   ],
   "source": [
    "\"\"\" I make the drop of anything the last choice so after understanding the columns i found that: \n",
    "The meaning of 'Standard Shipping' in ARABIC is (الشحن القياسي') and in KHMER is ('ការដឹកជញ្ជូនតាមស្តង់ដារ') \n",
    "and in RUSSIAN is (Стандартная доставка) and in turkish (Standard Gönderi) and in polish is (Standardowa wysyłka)\n",
    "and in Envio Padrão is (Envio Padrão) and in SPANISH is (Envío normal) and in ITALIAN is (Spedizione standard)..etc\n",
    "It Has the same the same meaning but with different languages so i deal with it as only one unique value so i will \n",
    "drop it.\n",
    "\"\"\"\n",
    "\n",
    "# Tr_df.drop(['shipping_option_name'],axis=1,inplace=True) "
   ]
  },
  {
   "cell_type": "markdown",
   "id": "83b0e631",
   "metadata": {},
   "source": [
    "# For product_variation_size_id column"
   ]
  },
  {
   "cell_type": "code",
   "execution_count": 24,
   "id": "1a6704a1",
   "metadata": {
    "scrolled": true
   },
   "outputs": [
    {
     "data": {
      "text/plain": [
       "(array(['M', 'L', 'XS', 'S', 'XL', '26(Waist 72cm 28inch)', 'S.',\n",
       "        'S(bust 88cm)', 'XXS', 's', '29', nan, 'choose a size', 'XXXS',\n",
       "        'Base Coat', 'Size M', 'XXL', 'M.', 'XS.',\n",
       "        '100 x 100cm(39.3 x 39.3inch)', '2pcs', '4XL', '1', '25-S',\n",
       "        'Size-XXS', '5PAIRS', '35', 'Pack of 1', 'Size S', 'Size-S', '6XL',\n",
       "        '25', 'S/M(child)', '60', 'Size-XS', 'S (waist58-62cm)',\n",
       "        'SIZE XXS', '10 ml', 'X   L', 'Women Size 36', '04-3XL',\n",
       "        'Size -XXS', '1 pc.', 'Floating Chair for Kid', 'S Pink', '34',\n",
       "        'US-S', 'Size XXS', 'pants-S', 'XXXXL', 'SIZE-XXS', 'SIZE XS',\n",
       "        '1pc', 'Size S.', '100 cm', 'S..', 'Round', '4-5 Years', '5', '33',\n",
       "        '30 cm', '2', 'XXXXXL', '20PCS-10PAIRS', '2XL', 'Size-5XL',\n",
       "        'Size4XL', 'One Size', 'size S', 'Size/S', 'B', 'SizeL', '20pcs',\n",
       "        '1 PC - XL', 'Suit-S', 'Base & Top & Matte Top Coat',\n",
       "        'Baby Float Boat', '1m by 3m', 'SIZE S', 'White', '40 cm', '5XL',\n",
       "        '10pcs', 'H01'], dtype=object),\n",
       " S           444\n",
       " XS          248\n",
       " M           135\n",
       " XXS          76\n",
       " L            29\n",
       "            ... \n",
       " pants-S       1\n",
       " XXXXL         1\n",
       " SIZE-XXS      1\n",
       " 1pc           1\n",
       " H01           1\n",
       " Name: product_variation_size_id, Length: 83, dtype: int64)"
      ]
     },
     "execution_count": 24,
     "metadata": {},
     "output_type": "execute_result"
    }
   ],
   "source": [
    "Tr_df['product_variation_size_id'].unique(), Tr_df['product_variation_size_id'].value_counts()"
   ]
  },
  {
   "cell_type": "code",
   "execution_count": 25,
   "id": "6e1ab1b0",
   "metadata": {},
   "outputs": [
    {
     "data": {
      "text/plain": [
       "array(['M', 'L', 'XS', 'S', 'Other', 'XXS'], dtype=object)"
      ]
     },
     "execution_count": 25,
     "metadata": {},
     "output_type": "execute_result"
    }
   ],
   "source": [
    "# As we see above it has lots of noise so we need to apply replace method to make the standard sizes\n",
    "Tr_df['product_variation_size_id'] = Tr_df['product_variation_size_id'].replace(['S.','Size S','Size-S', 'Size S.','S..','Size/S','SIZE S', 's', 'size S'], 'S')\n",
    "Tr_df['product_variation_size_id'] = Tr_df['product_variation_size_id'].replace(['Size-XXS','SIZE XXS','Size -XXS','SIZE-XXS', 'Size XXS'], 'XXS')\n",
    "Tr_df['product_variation_size_id'] = Tr_df['product_variation_size_id'].replace(['XS.','Size-XS','SIZE XS'], 'XS')\n",
    "Tr_df['product_variation_size_id'] = Tr_df['product_variation_size_id'].replace(['S/M(child)','M.','Size M'], 'M')\n",
    "Tr_df['product_variation_size_id'] = Tr_df['product_variation_size_id'].replace('SizeL', 'L')\n",
    "Tr_df['product_variation_size_id'] = Tr_df['product_variation_size_id'].replace(['5PAIRS', '5', '26(Waist 72cm 28inch)', '29', np.nan , '1 pc.','1pc','One Size', '1', '2pcs ', '2', '6XL', 'XXXXXXL','Size-5XL','5XL', 'XXXXXL',\n",
    "                                                                           '20PCS-10PAIRS','20pcs', '20','X   L','1 PC - XL', 'XL', '10pcs ', '10', 'choose a size', 'Base Coat', '100 x 100cm(39.3 x 39.3inch)','2XL ', 'XXL','Size-XXS',\n",
    "                                                                           '2pcs','2XL ','2XL', 'S(bust 88cm)','XXXS' ,'25-S', 'S (waist58-62cm)', 'S Pink','US-S','pants-S','Suit-S', '35', 'Pack of 1','04-3XL','4XL','Size4XL', 'XXXXL',\n",
    "                                                                           '25', '60', '10 ml', 'Women Size 36', 'Floating Chair for Kid', '34', '100 cm', 'Round', '4-5 Years', '33',\n",
    "                                                                           '30 cm', 'B', 'Base & Top & Matte Top Coat', 'Baby Float Boat', '1m by 3m', 'White', '40 cm', '10pcs', 'H01'], 'Other')\n",
    "\n",
    "Tr_df['product_variation_size_id'].unique()"
   ]
  },
  {
   "cell_type": "code",
   "execution_count": 26,
   "id": "6cd9c1c2",
   "metadata": {},
   "outputs": [
    {
     "name": "stdout",
     "output_type": "stream",
     "text": [
      "0\n"
     ]
    }
   ],
   "source": [
    "# we need to  identify duplicates\n",
    "print(Tr_df.duplicated().sum())"
   ]
  },
  {
   "cell_type": "markdown",
   "id": "b1176ac3",
   "metadata": {},
   "source": [
    "# Fot the 'units_sold' column"
   ]
  },
  {
   "cell_type": "code",
   "execution_count": 27,
   "id": "b1f46dce",
   "metadata": {
    "scrolled": true
   },
   "outputs": [
    {
     "data": {
      "text/plain": [
       "(array([ 10000,   1000,    100,   5000,     50,  20000,     10,      8,\n",
       "         50000,      2,      7,      1, 100000], dtype=int64),\n",
       " 100       353\n",
       " 1000      280\n",
       " 5000      139\n",
       " 10000     125\n",
       " 20000      79\n",
       " 50         54\n",
       " 10         37\n",
       " 50000      12\n",
       " 100000      5\n",
       " 8           4\n",
       " 1           3\n",
       " 2           2\n",
       " 7           1\n",
       " Name: units_sold, dtype: int64)"
      ]
     },
     "execution_count": 27,
     "metadata": {},
     "output_type": "execute_result"
    }
   ],
   "source": [
    "Tr_df['units_sold'].unique(), Tr_df['units_sold'].value_counts()"
   ]
  },
  {
   "cell_type": "code",
   "execution_count": 28,
   "id": "2f9d5b44",
   "metadata": {},
   "outputs": [],
   "source": [
    "# We notice that there are not many values less than 10 and also not many values bigger than 20k, So we will group them\n",
    "def larger_20k_smaller_10(N):\n",
    "    if  N< 10:\n",
    "        return 10\n",
    "    elif N > 20000:\n",
    "        return 20000\n",
    "    else:\n",
    "        return N\n",
    "\n",
    "Tr_df['units_sold'] = Tr_df['units_sold'].apply(larger_20k_smaller_10)"
   ]
  },
  {
   "cell_type": "code",
   "execution_count": 29,
   "id": "f8671e9c",
   "metadata": {},
   "outputs": [
    {
     "data": {
      "text/plain": [
       "(array([10000,  1000,   100,  5000,    50, 20000,    10], dtype=int64),\n",
       " 100      353\n",
       " 1000     280\n",
       " 5000     139\n",
       " 10000    125\n",
       " 20000     96\n",
       " 50        54\n",
       " 10        47\n",
       " Name: units_sold, dtype: int64)"
      ]
     },
     "execution_count": 29,
     "metadata": {},
     "output_type": "execute_result"
    }
   ],
   "source": [
    "Tr_df['units_sold'].unique(), Tr_df['units_sold'].value_counts()"
   ]
  },
  {
   "cell_type": "markdown",
   "id": "75b95c82",
   "metadata": {},
   "source": [
    "# For Rating Column"
   ]
  },
  {
   "cell_type": "code",
   "execution_count": 30,
   "id": "6feaf437",
   "metadata": {},
   "outputs": [
    {
     "data": {
      "text/plain": [
       "array([4., 3., 5., 2., 1., 6.])"
      ]
     },
     "execution_count": 30,
     "metadata": {},
     "output_type": "execute_result"
    }
   ],
   "source": [
    "# As mentioned in description the ratings are from 1 to 5 \n",
    "Tr_df['rating'].unique()"
   ]
  },
  {
   "cell_type": "code",
   "execution_count": 31,
   "id": "fab1b582",
   "metadata": {},
   "outputs": [],
   "source": [
    "# We need to make the rating 6 to be 5 \n",
    "def rating_max_5(num):\n",
    "    if num == 6:\n",
    "        return 5\n",
    "    else:\n",
    "        return num"
   ]
  },
  {
   "cell_type": "code",
   "execution_count": 32,
   "id": "c7722c73",
   "metadata": {},
   "outputs": [
    {
     "name": "stdout",
     "output_type": "stream",
     "text": [
      "[4. 3. 5. 2. 1.]\n"
     ]
    }
   ],
   "source": [
    "Tr_df['rating'] = Tr_df['rating'].apply(rating_max_5) #We will apply the function to the rating column \n",
    "# to get the unique values after the change\n",
    "print(Tr_df.rating.unique())"
   ]
  },
  {
   "cell_type": "code",
   "execution_count": 33,
   "id": "4e0d26f7",
   "metadata": {},
   "outputs": [
    {
     "name": "stdout",
     "output_type": "stream",
     "text": [
      "price                           0\n",
      "retail_price                    0\n",
      "units_sold                      0\n",
      "uses_ad_boosts                  0\n",
      "rating                          0\n",
      "rating_count                    0\n",
      "badges_count                    0\n",
      "badge_local_product             0\n",
      "badge_product_quality           0\n",
      "badge_fast_shipping             0\n",
      "product_color                   0\n",
      "product_variation_size_id       0\n",
      "product_variation_inventory     0\n",
      "shipping_option_name            0\n",
      "shipping_option_price           0\n",
      "shipping_is_express             0\n",
      "countries_shipped_to            0\n",
      "inventory_total                 0\n",
      "origin_country                  0\n",
      "merchant_title                  0\n",
      "merchant_name                   0\n",
      "merchant_info_subtitle          0\n",
      "merchant_rating_count           0\n",
      "merchant_rating                 0\n",
      "merchant_has_profile_picture    0\n",
      "dtype: int64\n"
     ]
    }
   ],
   "source": [
    "# we will use drop fun. and fill the null values with zero\n",
    "Tr_df = Tr_df.drop(columns=['tags', 'crawl_month','merchant_id', 'id'])\n",
    "Tr_df = Tr_df.fillna(0)\n",
    "print(Tr_df.isnull().sum())"
   ]
  },
  {
   "cell_type": "code",
   "execution_count": 34,
   "id": "356a1e50",
   "metadata": {},
   "outputs": [
    {
     "data": {
      "text/html": [
       "<div>\n",
       "<style scoped>\n",
       "    .dataframe tbody tr th:only-of-type {\n",
       "        vertical-align: middle;\n",
       "    }\n",
       "\n",
       "    .dataframe tbody tr th {\n",
       "        vertical-align: top;\n",
       "    }\n",
       "\n",
       "    .dataframe thead th {\n",
       "        text-align: right;\n",
       "    }\n",
       "</style>\n",
       "<table border=\"1\" class=\"dataframe\">\n",
       "  <thead>\n",
       "    <tr style=\"text-align: right;\">\n",
       "      <th></th>\n",
       "      <th>price</th>\n",
       "      <th>retail_price</th>\n",
       "      <th>units_sold</th>\n",
       "      <th>uses_ad_boosts</th>\n",
       "      <th>rating</th>\n",
       "      <th>rating_count</th>\n",
       "      <th>badges_count</th>\n",
       "      <th>badge_local_product</th>\n",
       "      <th>badge_product_quality</th>\n",
       "      <th>badge_fast_shipping</th>\n",
       "      <th>...</th>\n",
       "      <th>shipping_is_express</th>\n",
       "      <th>countries_shipped_to</th>\n",
       "      <th>inventory_total</th>\n",
       "      <th>origin_country</th>\n",
       "      <th>merchant_title</th>\n",
       "      <th>merchant_name</th>\n",
       "      <th>merchant_info_subtitle</th>\n",
       "      <th>merchant_rating_count</th>\n",
       "      <th>merchant_rating</th>\n",
       "      <th>merchant_has_profile_picture</th>\n",
       "    </tr>\n",
       "  </thead>\n",
       "  <tbody>\n",
       "    <tr>\n",
       "      <th>0</th>\n",
       "      <td>8.00</td>\n",
       "      <td>7</td>\n",
       "      <td>10000</td>\n",
       "      <td>1</td>\n",
       "      <td>4.0</td>\n",
       "      <td>1670</td>\n",
       "      <td>0</td>\n",
       "      <td>0</td>\n",
       "      <td>0</td>\n",
       "      <td>0</td>\n",
       "      <td>...</td>\n",
       "      <td>0</td>\n",
       "      <td>30</td>\n",
       "      <td>50</td>\n",
       "      <td>CN</td>\n",
       "      <td>keepahorse</td>\n",
       "      <td>keepahorse</td>\n",
       "      <td>88 % avis positifs (66,644 notes)</td>\n",
       "      <td>66644</td>\n",
       "      <td>4.137582</td>\n",
       "      <td>1</td>\n",
       "    </tr>\n",
       "    <tr>\n",
       "      <th>1</th>\n",
       "      <td>8.00</td>\n",
       "      <td>7</td>\n",
       "      <td>1000</td>\n",
       "      <td>0</td>\n",
       "      <td>4.0</td>\n",
       "      <td>843</td>\n",
       "      <td>1</td>\n",
       "      <td>1</td>\n",
       "      <td>0</td>\n",
       "      <td>0</td>\n",
       "      <td>...</td>\n",
       "      <td>0</td>\n",
       "      <td>37</td>\n",
       "      <td>50</td>\n",
       "      <td>CN</td>\n",
       "      <td>shanghaimingqidianqikejiyouxiangongsi</td>\n",
       "      <td>上海铭启电气科技有限公司</td>\n",
       "      <td>91 % avis positifs (25,752 notes)</td>\n",
       "      <td>25752</td>\n",
       "      <td>4.256873</td>\n",
       "      <td>0</td>\n",
       "    </tr>\n",
       "    <tr>\n",
       "      <th>2</th>\n",
       "      <td>6.00</td>\n",
       "      <td>34</td>\n",
       "      <td>100</td>\n",
       "      <td>0</td>\n",
       "      <td>4.0</td>\n",
       "      <td>10</td>\n",
       "      <td>0</td>\n",
       "      <td>0</td>\n",
       "      <td>0</td>\n",
       "      <td>0</td>\n",
       "      <td>...</td>\n",
       "      <td>0</td>\n",
       "      <td>41</td>\n",
       "      <td>50</td>\n",
       "      <td>CN</td>\n",
       "      <td>zhaodongmei</td>\n",
       "      <td>zhaodongmei</td>\n",
       "      <td>83 % avis positifs (3,897 notes)</td>\n",
       "      <td>3897</td>\n",
       "      <td>3.928920</td>\n",
       "      <td>0</td>\n",
       "    </tr>\n",
       "    <tr>\n",
       "      <th>3</th>\n",
       "      <td>4.67</td>\n",
       "      <td>4</td>\n",
       "      <td>100</td>\n",
       "      <td>1</td>\n",
       "      <td>3.0</td>\n",
       "      <td>82</td>\n",
       "      <td>0</td>\n",
       "      <td>0</td>\n",
       "      <td>0</td>\n",
       "      <td>0</td>\n",
       "      <td>...</td>\n",
       "      <td>0</td>\n",
       "      <td>25</td>\n",
       "      <td>50</td>\n",
       "      <td>CN</td>\n",
       "      <td>pookie0331</td>\n",
       "      <td>pookie0331</td>\n",
       "      <td>87 % avis positifs (7,497 notes)</td>\n",
       "      <td>7497</td>\n",
       "      <td>4.079365</td>\n",
       "      <td>0</td>\n",
       "    </tr>\n",
       "    <tr>\n",
       "      <th>4</th>\n",
       "      <td>8.00</td>\n",
       "      <td>11</td>\n",
       "      <td>1000</td>\n",
       "      <td>0</td>\n",
       "      <td>4.0</td>\n",
       "      <td>127</td>\n",
       "      <td>0</td>\n",
       "      <td>0</td>\n",
       "      <td>0</td>\n",
       "      <td>0</td>\n",
       "      <td>...</td>\n",
       "      <td>0</td>\n",
       "      <td>15</td>\n",
       "      <td>50</td>\n",
       "      <td>CN</td>\n",
       "      <td>shitongyi12683626</td>\n",
       "      <td>shitongyi12683626</td>\n",
       "      <td>91 % avis positifs (173 notes)</td>\n",
       "      <td>173</td>\n",
       "      <td>4.306358</td>\n",
       "      <td>0</td>\n",
       "    </tr>\n",
       "  </tbody>\n",
       "</table>\n",
       "<p>5 rows × 25 columns</p>\n",
       "</div>"
      ],
      "text/plain": [
       "   price  retail_price  units_sold  uses_ad_boosts  rating  rating_count  \\\n",
       "0   8.00             7       10000               1     4.0          1670   \n",
       "1   8.00             7        1000               0     4.0           843   \n",
       "2   6.00            34         100               0     4.0            10   \n",
       "3   4.67             4         100               1     3.0            82   \n",
       "4   8.00            11        1000               0     4.0           127   \n",
       "\n",
       "   badges_count  badge_local_product  badge_product_quality  \\\n",
       "0             0                    0                      0   \n",
       "1             1                    1                      0   \n",
       "2             0                    0                      0   \n",
       "3             0                    0                      0   \n",
       "4             0                    0                      0   \n",
       "\n",
       "   badge_fast_shipping  ... shipping_is_express countries_shipped_to  \\\n",
       "0                    0  ...                   0                   30   \n",
       "1                    0  ...                   0                   37   \n",
       "2                    0  ...                   0                   41   \n",
       "3                    0  ...                   0                   25   \n",
       "4                    0  ...                   0                   15   \n",
       "\n",
       "   inventory_total origin_country                         merchant_title  \\\n",
       "0               50             CN                             keepahorse   \n",
       "1               50             CN  shanghaimingqidianqikejiyouxiangongsi   \n",
       "2               50             CN                            zhaodongmei   \n",
       "3               50             CN                             pookie0331   \n",
       "4               50             CN                      shitongyi12683626   \n",
       "\n",
       "       merchant_name             merchant_info_subtitle  \\\n",
       "0         keepahorse  88 % avis positifs (66,644 notes)   \n",
       "1       上海铭启电气科技有限公司  91 % avis positifs (25,752 notes)   \n",
       "2        zhaodongmei   83 % avis positifs (3,897 notes)   \n",
       "3         pookie0331   87 % avis positifs (7,497 notes)   \n",
       "4  shitongyi12683626     91 % avis positifs (173 notes)   \n",
       "\n",
       "   merchant_rating_count merchant_rating merchant_has_profile_picture  \n",
       "0                  66644        4.137582                            1  \n",
       "1                  25752        4.256873                            0  \n",
       "2                   3897        3.928920                            0  \n",
       "3                   7497        4.079365                            0  \n",
       "4                    173        4.306358                            0  \n",
       "\n",
       "[5 rows x 25 columns]"
      ]
     },
     "execution_count": 34,
     "metadata": {},
     "output_type": "execute_result"
    }
   ],
   "source": [
    "Tr_df.head()"
   ]
  },
  {
   "cell_type": "markdown",
   "id": "61c6383a",
   "metadata": {},
   "source": [
    "# Work with categorical Data\n",
    "\n",
    "Machine Learning algorithms require that input data must be in numerical format. Only then the algorithms work successfully on them. So, the text data must be converted into numbers before they are fed into an algorithm.\n",
    "\n",
    "as we said before Categorical data can be **Ordinal** or **Nominal**\n",
    "\n",
    "\n",
    "### Ordinal variable\n",
    "can be understood as categorical values that can be sorted or ordered. For example, T-shirt size would be an ordinal feature, because we can define an order XL > L > M.\n",
    "\n",
    "\n",
    "### Nominal variable\n",
    "nominal features don't imply any order and, to continue with the previous example, we could think of T-shirt color as a nominal feature since it typically doesn't make sense to say that, for example, red is larger than blue."
   ]
  },
  {
   "cell_type": "code",
   "execution_count": 35,
   "id": "6765dc89",
   "metadata": {},
   "outputs": [],
   "source": [
    "# categorical columns in the dataframe\n",
    "cat_cols = [col for col in Tr_df.columns if Tr_df[col].dtype==\"O\"]\n",
    "\n",
    "from sklearn.preprocessing import LabelEncoder # import LabelEncoder class\n",
    "\n",
    "Label_enc = LabelEncoder() # make an Object of this class\n",
    " \n",
    "for Col in cat_cols: # loop on the cat_col to covert into numerical \n",
    "    Tr_df[Col] = Label_enc.fit_transform(Tr_df[Col].astype(str))"
   ]
  },
  {
   "cell_type": "code",
   "execution_count": 36,
   "id": "5ea3c96b",
   "metadata": {},
   "outputs": [
    {
     "data": {
      "text/html": [
       "<div>\n",
       "<style scoped>\n",
       "    .dataframe tbody tr th:only-of-type {\n",
       "        vertical-align: middle;\n",
       "    }\n",
       "\n",
       "    .dataframe tbody tr th {\n",
       "        vertical-align: top;\n",
       "    }\n",
       "\n",
       "    .dataframe thead th {\n",
       "        text-align: right;\n",
       "    }\n",
       "</style>\n",
       "<table border=\"1\" class=\"dataframe\">\n",
       "  <thead>\n",
       "    <tr style=\"text-align: right;\">\n",
       "      <th></th>\n",
       "      <th>price</th>\n",
       "      <th>retail_price</th>\n",
       "      <th>units_sold</th>\n",
       "      <th>uses_ad_boosts</th>\n",
       "      <th>rating</th>\n",
       "      <th>rating_count</th>\n",
       "      <th>badges_count</th>\n",
       "      <th>badge_local_product</th>\n",
       "      <th>badge_product_quality</th>\n",
       "      <th>badge_fast_shipping</th>\n",
       "      <th>...</th>\n",
       "      <th>shipping_is_express</th>\n",
       "      <th>countries_shipped_to</th>\n",
       "      <th>inventory_total</th>\n",
       "      <th>origin_country</th>\n",
       "      <th>merchant_title</th>\n",
       "      <th>merchant_name</th>\n",
       "      <th>merchant_info_subtitle</th>\n",
       "      <th>merchant_rating_count</th>\n",
       "      <th>merchant_rating</th>\n",
       "      <th>merchant_has_profile_picture</th>\n",
       "    </tr>\n",
       "  </thead>\n",
       "  <tbody>\n",
       "    <tr>\n",
       "      <th>0</th>\n",
       "      <td>8.00</td>\n",
       "      <td>7</td>\n",
       "      <td>10000</td>\n",
       "      <td>1</td>\n",
       "      <td>4.0</td>\n",
       "      <td>1670</td>\n",
       "      <td>0</td>\n",
       "      <td>0</td>\n",
       "      <td>0</td>\n",
       "      <td>0</td>\n",
       "      <td>...</td>\n",
       "      <td>0</td>\n",
       "      <td>30</td>\n",
       "      <td>50</td>\n",
       "      <td>0</td>\n",
       "      <td>472</td>\n",
       "      <td>272</td>\n",
       "      <td>617</td>\n",
       "      <td>66644</td>\n",
       "      <td>4.137582</td>\n",
       "      <td>1</td>\n",
       "    </tr>\n",
       "    <tr>\n",
       "      <th>1</th>\n",
       "      <td>8.00</td>\n",
       "      <td>7</td>\n",
       "      <td>1000</td>\n",
       "      <td>0</td>\n",
       "      <td>4.0</td>\n",
       "      <td>843</td>\n",
       "      <td>1</td>\n",
       "      <td>1</td>\n",
       "      <td>0</td>\n",
       "      <td>0</td>\n",
       "      <td>...</td>\n",
       "      <td>0</td>\n",
       "      <td>37</td>\n",
       "      <td>50</td>\n",
       "      <td>0</td>\n",
       "      <td>584</td>\n",
       "      <td>723</td>\n",
       "      <td>734</td>\n",
       "      <td>25752</td>\n",
       "      <td>4.256873</td>\n",
       "      <td>0</td>\n",
       "    </tr>\n",
       "    <tr>\n",
       "      <th>2</th>\n",
       "      <td>6.00</td>\n",
       "      <td>34</td>\n",
       "      <td>100</td>\n",
       "      <td>0</td>\n",
       "      <td>4.0</td>\n",
       "      <td>10</td>\n",
       "      <td>0</td>\n",
       "      <td>0</td>\n",
       "      <td>0</td>\n",
       "      <td>0</td>\n",
       "      <td>...</td>\n",
       "      <td>0</td>\n",
       "      <td>41</td>\n",
       "      <td>50</td>\n",
       "      <td>0</td>\n",
       "      <td>725</td>\n",
       "      <td>697</td>\n",
       "      <td>332</td>\n",
       "      <td>3897</td>\n",
       "      <td>3.928920</td>\n",
       "      <td>0</td>\n",
       "    </tr>\n",
       "    <tr>\n",
       "      <th>3</th>\n",
       "      <td>4.67</td>\n",
       "      <td>4</td>\n",
       "      <td>100</td>\n",
       "      <td>1</td>\n",
       "      <td>3.0</td>\n",
       "      <td>82</td>\n",
       "      <td>0</td>\n",
       "      <td>0</td>\n",
       "      <td>0</td>\n",
       "      <td>0</td>\n",
       "      <td>...</td>\n",
       "      <td>0</td>\n",
       "      <td>25</td>\n",
       "      <td>50</td>\n",
       "      <td>0</td>\n",
       "      <td>556</td>\n",
       "      <td>424</td>\n",
       "      <td>555</td>\n",
       "      <td>7497</td>\n",
       "      <td>4.079365</td>\n",
       "      <td>0</td>\n",
       "    </tr>\n",
       "    <tr>\n",
       "      <th>4</th>\n",
       "      <td>8.00</td>\n",
       "      <td>11</td>\n",
       "      <td>1000</td>\n",
       "      <td>0</td>\n",
       "      <td>4.0</td>\n",
       "      <td>127</td>\n",
       "      <td>0</td>\n",
       "      <td>0</td>\n",
       "      <td>0</td>\n",
       "      <td>0</td>\n",
       "      <td>...</td>\n",
       "      <td>0</td>\n",
       "      <td>15</td>\n",
       "      <td>50</td>\n",
       "      <td>0</td>\n",
       "      <td>597</td>\n",
       "      <td>488</td>\n",
       "      <td>726</td>\n",
       "      <td>173</td>\n",
       "      <td>4.306358</td>\n",
       "      <td>0</td>\n",
       "    </tr>\n",
       "    <tr>\n",
       "      <th>...</th>\n",
       "      <td>...</td>\n",
       "      <td>...</td>\n",
       "      <td>...</td>\n",
       "      <td>...</td>\n",
       "      <td>...</td>\n",
       "      <td>...</td>\n",
       "      <td>...</td>\n",
       "      <td>...</td>\n",
       "      <td>...</td>\n",
       "      <td>...</td>\n",
       "      <td>...</td>\n",
       "      <td>...</td>\n",
       "      <td>...</td>\n",
       "      <td>...</td>\n",
       "      <td>...</td>\n",
       "      <td>...</td>\n",
       "      <td>...</td>\n",
       "      <td>...</td>\n",
       "      <td>...</td>\n",
       "      <td>...</td>\n",
       "      <td>...</td>\n",
       "    </tr>\n",
       "    <tr>\n",
       "      <th>1089</th>\n",
       "      <td>4.00</td>\n",
       "      <td>4</td>\n",
       "      <td>10000</td>\n",
       "      <td>0</td>\n",
       "      <td>4.0</td>\n",
       "      <td>2150</td>\n",
       "      <td>0</td>\n",
       "      <td>0</td>\n",
       "      <td>0</td>\n",
       "      <td>0</td>\n",
       "      <td>...</td>\n",
       "      <td>0</td>\n",
       "      <td>41</td>\n",
       "      <td>50</td>\n",
       "      <td>0</td>\n",
       "      <td>399</td>\n",
       "      <td>134</td>\n",
       "      <td>767</td>\n",
       "      <td>230951</td>\n",
       "      <td>4.311066</td>\n",
       "      <td>0</td>\n",
       "    </tr>\n",
       "    <tr>\n",
       "      <th>1090</th>\n",
       "      <td>5.00</td>\n",
       "      <td>5</td>\n",
       "      <td>1000</td>\n",
       "      <td>0</td>\n",
       "      <td>5.0</td>\n",
       "      <td>377</td>\n",
       "      <td>1</td>\n",
       "      <td>0</td>\n",
       "      <td>1</td>\n",
       "      <td>0</td>\n",
       "      <td>...</td>\n",
       "      <td>0</td>\n",
       "      <td>35</td>\n",
       "      <td>50</td>\n",
       "      <td>0</td>\n",
       "      <td>746</td>\n",
       "      <td>721</td>\n",
       "      <td>61</td>\n",
       "      <td>2904</td>\n",
       "      <td>4.422521</td>\n",
       "      <td>0</td>\n",
       "    </tr>\n",
       "    <tr>\n",
       "      <th>1091</th>\n",
       "      <td>9.00</td>\n",
       "      <td>48</td>\n",
       "      <td>1000</td>\n",
       "      <td>1</td>\n",
       "      <td>4.0</td>\n",
       "      <td>135</td>\n",
       "      <td>0</td>\n",
       "      <td>0</td>\n",
       "      <td>0</td>\n",
       "      <td>0</td>\n",
       "      <td>...</td>\n",
       "      <td>0</td>\n",
       "      <td>25</td>\n",
       "      <td>50</td>\n",
       "      <td>0</td>\n",
       "      <td>187</td>\n",
       "      <td>404</td>\n",
       "      <td>213</td>\n",
       "      <td>6632</td>\n",
       "      <td>3.748794</td>\n",
       "      <td>0</td>\n",
       "    </tr>\n",
       "    <tr>\n",
       "      <th>1092</th>\n",
       "      <td>11.00</td>\n",
       "      <td>10</td>\n",
       "      <td>10000</td>\n",
       "      <td>1</td>\n",
       "      <td>4.0</td>\n",
       "      <td>1479</td>\n",
       "      <td>0</td>\n",
       "      <td>0</td>\n",
       "      <td>0</td>\n",
       "      <td>0</td>\n",
       "      <td>...</td>\n",
       "      <td>0</td>\n",
       "      <td>45</td>\n",
       "      <td>50</td>\n",
       "      <td>0</td>\n",
       "      <td>708</td>\n",
       "      <td>675</td>\n",
       "      <td>339</td>\n",
       "      <td>5816</td>\n",
       "      <td>3.936382</td>\n",
       "      <td>0</td>\n",
       "    </tr>\n",
       "    <tr>\n",
       "      <th>1093</th>\n",
       "      <td>7.00</td>\n",
       "      <td>6</td>\n",
       "      <td>1000</td>\n",
       "      <td>1</td>\n",
       "      <td>3.0</td>\n",
       "      <td>141</td>\n",
       "      <td>0</td>\n",
       "      <td>0</td>\n",
       "      <td>0</td>\n",
       "      <td>0</td>\n",
       "      <td>...</td>\n",
       "      <td>0</td>\n",
       "      <td>23</td>\n",
       "      <td>50</td>\n",
       "      <td>0</td>\n",
       "      <td>255</td>\n",
       "      <td>174</td>\n",
       "      <td>462</td>\n",
       "      <td>12309</td>\n",
       "      <td>4.045170</td>\n",
       "      <td>1</td>\n",
       "    </tr>\n",
       "  </tbody>\n",
       "</table>\n",
       "<p>1094 rows × 25 columns</p>\n",
       "</div>"
      ],
      "text/plain": [
       "      price  retail_price  units_sold  uses_ad_boosts  rating  rating_count  \\\n",
       "0      8.00             7       10000               1     4.0          1670   \n",
       "1      8.00             7        1000               0     4.0           843   \n",
       "2      6.00            34         100               0     4.0            10   \n",
       "3      4.67             4         100               1     3.0            82   \n",
       "4      8.00            11        1000               0     4.0           127   \n",
       "...     ...           ...         ...             ...     ...           ...   \n",
       "1089   4.00             4       10000               0     4.0          2150   \n",
       "1090   5.00             5        1000               0     5.0           377   \n",
       "1091   9.00            48        1000               1     4.0           135   \n",
       "1092  11.00            10       10000               1     4.0          1479   \n",
       "1093   7.00             6        1000               1     3.0           141   \n",
       "\n",
       "      badges_count  badge_local_product  badge_product_quality  \\\n",
       "0                0                    0                      0   \n",
       "1                1                    1                      0   \n",
       "2                0                    0                      0   \n",
       "3                0                    0                      0   \n",
       "4                0                    0                      0   \n",
       "...            ...                  ...                    ...   \n",
       "1089             0                    0                      0   \n",
       "1090             1                    0                      1   \n",
       "1091             0                    0                      0   \n",
       "1092             0                    0                      0   \n",
       "1093             0                    0                      0   \n",
       "\n",
       "      badge_fast_shipping  ...  shipping_is_express  countries_shipped_to  \\\n",
       "0                       0  ...                    0                    30   \n",
       "1                       0  ...                    0                    37   \n",
       "2                       0  ...                    0                    41   \n",
       "3                       0  ...                    0                    25   \n",
       "4                       0  ...                    0                    15   \n",
       "...                   ...  ...                  ...                   ...   \n",
       "1089                    0  ...                    0                    41   \n",
       "1090                    0  ...                    0                    35   \n",
       "1091                    0  ...                    0                    25   \n",
       "1092                    0  ...                    0                    45   \n",
       "1093                    0  ...                    0                    23   \n",
       "\n",
       "      inventory_total  origin_country  merchant_title  merchant_name  \\\n",
       "0                  50               0             472            272   \n",
       "1                  50               0             584            723   \n",
       "2                  50               0             725            697   \n",
       "3                  50               0             556            424   \n",
       "4                  50               0             597            488   \n",
       "...               ...             ...             ...            ...   \n",
       "1089               50               0             399            134   \n",
       "1090               50               0             746            721   \n",
       "1091               50               0             187            404   \n",
       "1092               50               0             708            675   \n",
       "1093               50               0             255            174   \n",
       "\n",
       "      merchant_info_subtitle  merchant_rating_count  merchant_rating  \\\n",
       "0                        617                  66644         4.137582   \n",
       "1                        734                  25752         4.256873   \n",
       "2                        332                   3897         3.928920   \n",
       "3                        555                   7497         4.079365   \n",
       "4                        726                    173         4.306358   \n",
       "...                      ...                    ...              ...   \n",
       "1089                     767                 230951         4.311066   \n",
       "1090                      61                   2904         4.422521   \n",
       "1091                     213                   6632         3.748794   \n",
       "1092                     339                   5816         3.936382   \n",
       "1093                     462                  12309         4.045170   \n",
       "\n",
       "      merchant_has_profile_picture  \n",
       "0                                1  \n",
       "1                                0  \n",
       "2                                0  \n",
       "3                                0  \n",
       "4                                0  \n",
       "...                            ...  \n",
       "1089                             0  \n",
       "1090                             0  \n",
       "1091                             0  \n",
       "1092                             0  \n",
       "1093                             1  \n",
       "\n",
       "[1094 rows x 25 columns]"
      ]
     },
     "execution_count": 36,
     "metadata": {},
     "output_type": "execute_result"
    }
   ],
   "source": [
    "Tr_df"
   ]
  },
  {
   "cell_type": "markdown",
   "id": "87d7304c",
   "metadata": {},
   "source": [
    "# We make the same Preprocessing for Test Data"
   ]
  },
  {
   "cell_type": "code",
   "execution_count": 37,
   "id": "270e0dfa",
   "metadata": {},
   "outputs": [],
   "source": [
    "Ts_df = pd.read_csv(\"D:\\\\DEBI Master\\\\Data Mining\\\\Competition (1)\\\\test_new.csv\")"
   ]
  },
  {
   "cell_type": "code",
   "execution_count": 38,
   "id": "8fd39cb1",
   "metadata": {},
   "outputs": [
    {
     "data": {
      "text/html": [
       "<div>\n",
       "<style scoped>\n",
       "    .dataframe tbody tr th:only-of-type {\n",
       "        vertical-align: middle;\n",
       "    }\n",
       "\n",
       "    .dataframe tbody tr th {\n",
       "        vertical-align: top;\n",
       "    }\n",
       "\n",
       "    .dataframe thead th {\n",
       "        text-align: right;\n",
       "    }\n",
       "</style>\n",
       "<table border=\"1\" class=\"dataframe\">\n",
       "  <thead>\n",
       "    <tr style=\"text-align: right;\">\n",
       "      <th></th>\n",
       "      <th>price</th>\n",
       "      <th>retail_price</th>\n",
       "      <th>currency_buyer</th>\n",
       "      <th>units_sold</th>\n",
       "      <th>uses_ad_boosts</th>\n",
       "      <th>rating_count</th>\n",
       "      <th>badges_count</th>\n",
       "      <th>badge_local_product</th>\n",
       "      <th>badge_product_quality</th>\n",
       "      <th>badge_fast_shipping</th>\n",
       "      <th>...</th>\n",
       "      <th>merchant_name</th>\n",
       "      <th>merchant_info_subtitle</th>\n",
       "      <th>merchant_rating_count</th>\n",
       "      <th>merchant_rating</th>\n",
       "      <th>merchant_id</th>\n",
       "      <th>merchant_has_profile_picture</th>\n",
       "      <th>merchant_profile_picture</th>\n",
       "      <th>theme</th>\n",
       "      <th>crawl_month</th>\n",
       "      <th>id</th>\n",
       "    </tr>\n",
       "  </thead>\n",
       "  <tbody>\n",
       "    <tr>\n",
       "      <th>0</th>\n",
       "      <td>5.75</td>\n",
       "      <td>5</td>\n",
       "      <td>EUR</td>\n",
       "      <td>10</td>\n",
       "      <td>1</td>\n",
       "      <td>0</td>\n",
       "      <td>0</td>\n",
       "      <td>0</td>\n",
       "      <td>0</td>\n",
       "      <td>0</td>\n",
       "      <td>...</td>\n",
       "      <td>liyang163</td>\n",
       "      <td>33 % avis positifs (3 notes)</td>\n",
       "      <td>3</td>\n",
       "      <td>2.333333</td>\n",
       "      <td>5e63469b2fdc774466e15dd5</td>\n",
       "      <td>0</td>\n",
       "      <td>NaN</td>\n",
       "      <td>summer</td>\n",
       "      <td>2020-08</td>\n",
       "      <td>937</td>\n",
       "    </tr>\n",
       "    <tr>\n",
       "      <th>1</th>\n",
       "      <td>7.00</td>\n",
       "      <td>7</td>\n",
       "      <td>EUR</td>\n",
       "      <td>5000</td>\n",
       "      <td>0</td>\n",
       "      <td>579</td>\n",
       "      <td>0</td>\n",
       "      <td>0</td>\n",
       "      <td>0</td>\n",
       "      <td>0</td>\n",
       "      <td>...</td>\n",
       "      <td>singingthesong</td>\n",
       "      <td>86 % avis positifs (4,213 notes)</td>\n",
       "      <td>4213</td>\n",
       "      <td>4.058391</td>\n",
       "      <td>583547f417dc6224cb464117</td>\n",
       "      <td>0</td>\n",
       "      <td>NaN</td>\n",
       "      <td>summer</td>\n",
       "      <td>2020-08</td>\n",
       "      <td>270</td>\n",
       "    </tr>\n",
       "    <tr>\n",
       "      <th>2</th>\n",
       "      <td>5.00</td>\n",
       "      <td>16</td>\n",
       "      <td>EUR</td>\n",
       "      <td>1000</td>\n",
       "      <td>1</td>\n",
       "      <td>62</td>\n",
       "      <td>0</td>\n",
       "      <td>0</td>\n",
       "      <td>0</td>\n",
       "      <td>0</td>\n",
       "      <td>...</td>\n",
       "      <td>surperboutique</td>\n",
       "      <td>85 % avis positifs (10,501 notes)</td>\n",
       "      <td>10501</td>\n",
       "      <td>4.029235</td>\n",
       "      <td>57086fd7fa6bee434d0e5852</td>\n",
       "      <td>0</td>\n",
       "      <td>NaN</td>\n",
       "      <td>summer</td>\n",
       "      <td>2020-08</td>\n",
       "      <td>308</td>\n",
       "    </tr>\n",
       "    <tr>\n",
       "      <th>3</th>\n",
       "      <td>18.00</td>\n",
       "      <td>27</td>\n",
       "      <td>EUR</td>\n",
       "      <td>5000</td>\n",
       "      <td>1</td>\n",
       "      <td>1903</td>\n",
       "      <td>0</td>\n",
       "      <td>0</td>\n",
       "      <td>0</td>\n",
       "      <td>0</td>\n",
       "      <td>...</td>\n",
       "      <td>postonny</td>\n",
       "      <td>86 % avis positifs (15,855 notes)</td>\n",
       "      <td>15855</td>\n",
       "      <td>4.052917</td>\n",
       "      <td>5a17b55d1f4d8c4f0b44b0ce</td>\n",
       "      <td>0</td>\n",
       "      <td>NaN</td>\n",
       "      <td>summer</td>\n",
       "      <td>2020-08</td>\n",
       "      <td>913</td>\n",
       "    </tr>\n",
       "    <tr>\n",
       "      <th>4</th>\n",
       "      <td>12.00</td>\n",
       "      <td>81</td>\n",
       "      <td>EUR</td>\n",
       "      <td>20000</td>\n",
       "      <td>0</td>\n",
       "      <td>1799</td>\n",
       "      <td>0</td>\n",
       "      <td>0</td>\n",
       "      <td>0</td>\n",
       "      <td>0</td>\n",
       "      <td>...</td>\n",
       "      <td>guangzhouchanny</td>\n",
       "      <td>88 % avis positifs (151,914 notes)</td>\n",
       "      <td>151914</td>\n",
       "      <td>4.127921</td>\n",
       "      <td>53aa664438d3046ee44a5024</td>\n",
       "      <td>0</td>\n",
       "      <td>NaN</td>\n",
       "      <td>summer</td>\n",
       "      <td>2020-08</td>\n",
       "      <td>403</td>\n",
       "    </tr>\n",
       "  </tbody>\n",
       "</table>\n",
       "<p>5 rows × 33 columns</p>\n",
       "</div>"
      ],
      "text/plain": [
       "   price  retail_price currency_buyer  units_sold  uses_ad_boosts  \\\n",
       "0   5.75             5            EUR          10               1   \n",
       "1   7.00             7            EUR        5000               0   \n",
       "2   5.00            16            EUR        1000               1   \n",
       "3  18.00            27            EUR        5000               1   \n",
       "4  12.00            81            EUR       20000               0   \n",
       "\n",
       "   rating_count  badges_count  badge_local_product  badge_product_quality  \\\n",
       "0             0             0                    0                      0   \n",
       "1           579             0                    0                      0   \n",
       "2            62             0                    0                      0   \n",
       "3          1903             0                    0                      0   \n",
       "4          1799             0                    0                      0   \n",
       "\n",
       "   badge_fast_shipping  ...    merchant_name  \\\n",
       "0                    0  ...        liyang163   \n",
       "1                    0  ...   singingthesong   \n",
       "2                    0  ...   surperboutique   \n",
       "3                    0  ...         postonny   \n",
       "4                    0  ...  guangzhouchanny   \n",
       "\n",
       "               merchant_info_subtitle merchant_rating_count  merchant_rating  \\\n",
       "0        33 % avis positifs (3 notes)                     3         2.333333   \n",
       "1    86 % avis positifs (4,213 notes)                  4213         4.058391   \n",
       "2   85 % avis positifs (10,501 notes)                 10501         4.029235   \n",
       "3   86 % avis positifs (15,855 notes)                 15855         4.052917   \n",
       "4  88 % avis positifs (151,914 notes)                151914         4.127921   \n",
       "\n",
       "                merchant_id  merchant_has_profile_picture  \\\n",
       "0  5e63469b2fdc774466e15dd5                             0   \n",
       "1  583547f417dc6224cb464117                             0   \n",
       "2  57086fd7fa6bee434d0e5852                             0   \n",
       "3  5a17b55d1f4d8c4f0b44b0ce                             0   \n",
       "4  53aa664438d3046ee44a5024                             0   \n",
       "\n",
       "   merchant_profile_picture   theme  crawl_month   id  \n",
       "0                       NaN  summer      2020-08  937  \n",
       "1                       NaN  summer      2020-08  270  \n",
       "2                       NaN  summer      2020-08  308  \n",
       "3                       NaN  summer      2020-08  913  \n",
       "4                       NaN  summer      2020-08  403  \n",
       "\n",
       "[5 rows x 33 columns]"
      ]
     },
     "execution_count": 38,
     "metadata": {},
     "output_type": "execute_result"
    }
   ],
   "source": [
    "Ts_df.head()"
   ]
  },
  {
   "cell_type": "code",
   "execution_count": 39,
   "id": "587e7ea7",
   "metadata": {},
   "outputs": [
    {
     "name": "stdout",
     "output_type": "stream",
     "text": [
      "<class 'pandas.core.frame.DataFrame'>\n",
      "RangeIndex: 479 entries, 0 to 478\n",
      "Data columns (total 33 columns):\n",
      " #   Column                        Non-Null Count  Dtype  \n",
      "---  ------                        --------------  -----  \n",
      " 0   price                         479 non-null    float64\n",
      " 1   retail_price                  479 non-null    int64  \n",
      " 2   currency_buyer                479 non-null    object \n",
      " 3   units_sold                    479 non-null    int64  \n",
      " 4   uses_ad_boosts                479 non-null    int64  \n",
      " 5   rating_count                  479 non-null    int64  \n",
      " 6   badges_count                  479 non-null    int64  \n",
      " 7   badge_local_product           479 non-null    int64  \n",
      " 8   badge_product_quality         479 non-null    int64  \n",
      " 9   badge_fast_shipping           479 non-null    int64  \n",
      " 10  tags                          479 non-null    object \n",
      " 11  product_color                 467 non-null    object \n",
      " 12  product_variation_size_id     477 non-null    object \n",
      " 13  product_variation_inventory   479 non-null    int64  \n",
      " 14  shipping_option_name          479 non-null    object \n",
      " 15  shipping_option_price         479 non-null    int64  \n",
      " 16  shipping_is_express           479 non-null    int64  \n",
      " 17  countries_shipped_to          479 non-null    int64  \n",
      " 18  inventory_total               479 non-null    int64  \n",
      " 19  has_urgency_banner            124 non-null    float64\n",
      " 20  urgency_text                  124 non-null    object \n",
      " 21  origin_country                474 non-null    object \n",
      " 22  merchant_title                479 non-null    object \n",
      " 23  merchant_name                 479 non-null    object \n",
      " 24  merchant_info_subtitle        478 non-null    object \n",
      " 25  merchant_rating_count         479 non-null    int64  \n",
      " 26  merchant_rating               479 non-null    float64\n",
      " 27  merchant_id                   479 non-null    object \n",
      " 28  merchant_has_profile_picture  479 non-null    int64  \n",
      " 29  merchant_profile_picture      56 non-null     object \n",
      " 30  theme                         479 non-null    object \n",
      " 31  crawl_month                   479 non-null    object \n",
      " 32  id                            479 non-null    int64  \n",
      "dtypes: float64(3), int64(16), object(14)\n",
      "memory usage: 123.6+ KB\n"
     ]
    }
   ],
   "source": [
    "Ts_df.info()"
   ]
  },
  {
   "cell_type": "code",
   "execution_count": 40,
   "id": "212d486f",
   "metadata": {},
   "outputs": [
    {
     "data": {
      "text/html": [
       "<div>\n",
       "<style scoped>\n",
       "    .dataframe tbody tr th:only-of-type {\n",
       "        vertical-align: middle;\n",
       "    }\n",
       "\n",
       "    .dataframe tbody tr th {\n",
       "        vertical-align: top;\n",
       "    }\n",
       "\n",
       "    .dataframe thead th {\n",
       "        text-align: right;\n",
       "    }\n",
       "</style>\n",
       "<table border=\"1\" class=\"dataframe\">\n",
       "  <thead>\n",
       "    <tr style=\"text-align: right;\">\n",
       "      <th></th>\n",
       "      <th>id</th>\n",
       "    </tr>\n",
       "  </thead>\n",
       "  <tbody>\n",
       "    <tr>\n",
       "      <th>0</th>\n",
       "      <td>937</td>\n",
       "    </tr>\n",
       "    <tr>\n",
       "      <th>1</th>\n",
       "      <td>270</td>\n",
       "    </tr>\n",
       "    <tr>\n",
       "      <th>2</th>\n",
       "      <td>308</td>\n",
       "    </tr>\n",
       "    <tr>\n",
       "      <th>3</th>\n",
       "      <td>913</td>\n",
       "    </tr>\n",
       "    <tr>\n",
       "      <th>4</th>\n",
       "      <td>403</td>\n",
       "    </tr>\n",
       "    <tr>\n",
       "      <th>...</th>\n",
       "      <td>...</td>\n",
       "    </tr>\n",
       "    <tr>\n",
       "      <th>474</th>\n",
       "      <td>1166</td>\n",
       "    </tr>\n",
       "    <tr>\n",
       "      <th>475</th>\n",
       "      <td>1416</td>\n",
       "    </tr>\n",
       "    <tr>\n",
       "      <th>476</th>\n",
       "      <td>63</td>\n",
       "    </tr>\n",
       "    <tr>\n",
       "      <th>477</th>\n",
       "      <td>626</td>\n",
       "    </tr>\n",
       "    <tr>\n",
       "      <th>478</th>\n",
       "      <td>196</td>\n",
       "    </tr>\n",
       "  </tbody>\n",
       "</table>\n",
       "<p>479 rows × 1 columns</p>\n",
       "</div>"
      ],
      "text/plain": [
       "       id\n",
       "0     937\n",
       "1     270\n",
       "2     308\n",
       "3     913\n",
       "4     403\n",
       "..    ...\n",
       "474  1166\n",
       "475  1416\n",
       "476    63\n",
       "477   626\n",
       "478   196\n",
       "\n",
       "[479 rows x 1 columns]"
      ]
     },
     "execution_count": 40,
     "metadata": {},
     "output_type": "execute_result"
    }
   ],
   "source": [
    "# First we will need to drop the id column becuse we will need it with the predicted values \n",
    "Ts_ID = pd.DataFrame({'id': Ts_df['id']}) \n",
    "Ts_ID"
   ]
  },
  {
   "cell_type": "code",
   "execution_count": 41,
   "id": "1ba3d58b",
   "metadata": {},
   "outputs": [
    {
     "name": "stdout",
     "output_type": "stream",
     "text": [
      "\n",
      "  price                           0\n",
      "retail_price                    0\n",
      "units_sold                      0\n",
      "uses_ad_boosts                  0\n",
      "rating_count                    0\n",
      "badges_count                    0\n",
      "badge_local_product             0\n",
      "badge_product_quality           0\n",
      "badge_fast_shipping             0\n",
      "product_color                   0\n",
      "product_variation_size_id       0\n",
      "product_variation_inventory     0\n",
      "shipping_option_name            0\n",
      "shipping_option_price           0\n",
      "shipping_is_express             0\n",
      "countries_shipped_to            0\n",
      "inventory_total                 0\n",
      "origin_country                  0\n",
      "merchant_title                  0\n",
      "merchant_name                   0\n",
      "merchant_info_subtitle          0\n",
      "merchant_rating_count           0\n",
      "merchant_rating                 0\n",
      "merchant_has_profile_picture    0\n",
      "dtype: int64\n"
     ]
    }
   ],
   "source": [
    "# In the training set we dropped these columns, so we will drop them in the test set \n",
    "# we also do that on the test data\n",
    "Ts_df = Ts_df.drop(columns=['tags', 'theme', 'crawl_month', 'currency_buyer','urgency_text','has_urgency_banner','merchant_id', 'merchant_profile_picture', 'id'])\n",
    "Ts_df = Ts_df.fillna(0)\n",
    "print('\\n ', Ts_df.isnull().sum())"
   ]
  },
  {
   "cell_type": "code",
   "execution_count": 42,
   "id": "f6a242b4",
   "metadata": {},
   "outputs": [
    {
     "data": {
      "text/plain": [
       "array(['white', 'black', 'blue', 'yellow', 'winered', 'navyblue', 'gray',\n",
       "       'grey', 0, 'green', 'pink', 'armygreen', 'red', 'black & green',\n",
       "       'lightblue', 'pink & blue', 'orange', 'rosered', 'purple',\n",
       "       'watermelonred', 'coralred', 'apricot', 'multicolor', 'tan',\n",
       "       'orange & camouflage', 'white & green', 'army green', 'brown',\n",
       "       'silver', 'offblack', 'rose', 'jasper', 'beige', 'Pink', 'floral',\n",
       "       'lightyellow', 'white & red', 'red & blue', 'khaki', 'camel',\n",
       "       'leopard', 'camouflage', 'greysnakeskinprint', 'fluorescentgreen',\n",
       "       'coffee', 'lightpurple', 'black & stripe', 'lightgreen',\n",
       "       'darkblue', 'navy', 'wine', 'lightkhaki', 'pink & grey',\n",
       "       'prussianblue', 'skyblue', 'gray & white', 'orange-red'],\n",
       "      dtype=object)"
      ]
     },
     "execution_count": 42,
     "metadata": {},
     "output_type": "execute_result"
    }
   ],
   "source": [
    "#check the unique values for column\n",
    "Ts_df['product_color'].unique() "
   ]
  },
  {
   "cell_type": "code",
   "execution_count": 43,
   "id": "cd04aae0",
   "metadata": {},
   "outputs": [
    {
     "data": {
      "text/plain": [
       "array(['white', 'black', 'blue', 'yellow', 'winered', 'navyblue', 'gray',\n",
       "       'grey', nan, 'green', 'pink', 'armygreen', 'red', 'black & green',\n",
       "       'lightblue', 'pink & blue', 'orange', 'rosered', 'purple',\n",
       "       'watermelonred', 'coralred', 'apricot', 'multicolor', 'tan',\n",
       "       'orange & camouflage', 'white & green', 'army green', 'brown',\n",
       "       'silver', 'offblack', 'rose', 'jasper', 'beige', 'floral',\n",
       "       'lightyellow', 'white & red', 'red & blue', 'khaki', 'camel',\n",
       "       'leopard', 'camouflage', 'greysnakeskinprint', 'fluorescentgreen',\n",
       "       'coffee', 'lightpurple', 'black & stripe', 'lightgreen',\n",
       "       'darkblue', 'navy', 'wine', 'lightkhaki', 'pink & grey',\n",
       "       'prussianblue', 'skyblue', 'gray & white', 'orange-red'],\n",
       "      dtype=object)"
      ]
     },
     "execution_count": 43,
     "metadata": {},
     "output_type": "execute_result"
    }
   ],
   "source": [
    "# convert to lower case and remove the white space\n",
    "Ts_df['product_color'] = Ts_df['product_color'].str.lower() # try to make matching like Black = black\n",
    "Ts_df['product_color'] = Ts_df['product_color'].str.strip() # try to make matching likw armygreen = Army green \n",
    "Ts_df['product_color'].unique()"
   ]
  },
  {
   "cell_type": "code",
   "execution_count": 44,
   "id": "76757ef4",
   "metadata": {},
   "outputs": [
    {
     "data": {
      "text/plain": [
       "black                  83\n",
       "white                  81\n",
       "yellow                 36\n",
       "red                    32\n",
       "pink                   32\n",
       "green                  29\n",
       "grey                   23\n",
       "blue                   22\n",
       "purple                 16\n",
       "orange                 11\n",
       "navyblue               10\n",
       "armygreen               9\n",
       "winered                 9\n",
       "beige                   9\n",
       "multicolor              6\n",
       "gray                    5\n",
       "lightblue               4\n",
       "rosered                 3\n",
       "floral                  3\n",
       "darkblue                2\n",
       "khaki                   2\n",
       "fluorescentgreen        2\n",
       "white & green           2\n",
       "brown                   2\n",
       "coralred                2\n",
       "skyblue                 2\n",
       "leopard                 2\n",
       "navy                    1\n",
       "wine                    1\n",
       "lightkhaki              1\n",
       "pink & grey             1\n",
       "lightgreen              1\n",
       "black & stripe          1\n",
       "camouflage              1\n",
       "prussianblue            1\n",
       "lightpurple             1\n",
       "coffee                  1\n",
       "gray & white            1\n",
       "greysnakeskinprint      1\n",
       "silver                  1\n",
       "camel                   1\n",
       "red & blue              1\n",
       "white & red             1\n",
       "lightyellow             1\n",
       "jasper                  1\n",
       "rose                    1\n",
       "offblack                1\n",
       "army green              1\n",
       "orange & camouflage     1\n",
       "tan                     1\n",
       "apricot                 1\n",
       "watermelonred           1\n",
       "pink & blue             1\n",
       "black & green           1\n",
       "orange-red              1\n",
       "Name: product_color, dtype: int64"
      ]
     },
     "execution_count": 44,
     "metadata": {},
     "output_type": "execute_result"
    }
   ],
   "source": [
    "Ts_df['product_color'].value_counts()"
   ]
  },
  {
   "cell_type": "code",
   "execution_count": 45,
   "id": "adf13732",
   "metadata": {},
   "outputs": [
    {
     "data": {
      "text/plain": [
       "array(['white', 'black', 'blue', 'yellow', 'red', 'grey', 'other',\n",
       "       'green', 'pink', 'purple', 'coralred', 'tan',\n",
       "       'orange & camouflage', 'offblack', 'jasper', 'white & red',\n",
       "       'red & blue', 'greysnakeskinprint', 'lightpurple',\n",
       "       'black & stripe', 'lightkhaki', 'prussianblue', 'gray & white'],\n",
       "      dtype=object)"
      ]
     },
     "execution_count": 45,
     "metadata": {},
     "output_type": "execute_result"
    }
   ],
   "source": [
    "\"\"\"From visulaization we find that there are lots of colors may be noisy in columns and also there is human error \n",
    "with entring data like (lightgrey and lightgray) also ('blackwhite' and  'black & white') and there are values with \n",
    "only one time repetition. So we will handle this by using replace method , to make the color that has the soft shade of \n",
    "another color as one category \n",
    "\"\"\"  \n",
    "Ts_df['product_color'] = Ts_df['product_color'].replace('beige', 'ivory')\n",
    "Ts_df['product_color'] = Ts_df['product_color'].replace('coolblack', 'black')\n",
    "Ts_df['product_color'] = Ts_df['product_color'].replace('orange-red', 'orange')\n",
    "Ts_df['product_color'] = Ts_df['product_color'].replace('lightyellow', 'yellow')\n",
    "Ts_df['product_color'] = Ts_df['product_color'].replace('multicolor', 'rainbow')\n",
    "Ts_df['product_color'] = Ts_df['product_color'].replace('leopardprint', 'leopard')\n",
    "Ts_df['product_color'] = Ts_df['product_color'].replace('blue & pink', 'pink & blue')\n",
    "Ts_df['product_color'] = Ts_df['product_color'].replace(['gray', 'lightgrey', 'lightgray'], 'grey')\n",
    "Ts_df['product_color'] = Ts_df['product_color'].replace(['nude', 'khaki', 'coffee', 'camel', 'apricot'], 'brown')\n",
    "Ts_df['product_color'] = Ts_df['product_color'].replace(['skyblue', 'lakeblue', 'navyblue', 'darkblue', 'lightblue', 'navy blue', 'denimblue'], 'blue')\n",
    "Ts_df['product_color'] = Ts_df['product_color'].replace(['whitefloral', 'offwhite', 'whitestripe'], 'white')\n",
    "Ts_df['product_color'] = Ts_df['product_color'].replace(['lightpink', 'dustypink', 'whitestripe'], 'pink')\n",
    "Ts_df['product_color'] = Ts_df['product_color'].replace(['blackwhite', 'black & white'], 'white & black')\n",
    "Ts_df['product_color'] = Ts_df['product_color'].replace(['winered','rosered' ,'rose','lightred','wine red', 'burgundy','rose red', 'watermelonred'], 'red')\n",
    "Ts_df['product_color'] = Ts_df['product_color'].replace(['mintgreen', 'darkgreen', 'lightgreen','armygreen', 'applegreen','army green', 'camouflage', 'army', 'light green', 'fluorescentgreen'], 'green')\n",
    "Ts_df['product_color'] = Ts_df['product_color'].replace([np.nan, 'pink & grey', 'navyblue & white', 'brown & yellow', 'black & yellow', 'leopard', 'star','nude', 'khaki', 'coffee', 'camel', 'apricot', 'orange-red','blackwhite',\n",
    "                                                   'pink & black', 'navy', 'pink & white', 'navyblue & white', 'black & blue', 'violet', 'gold', 'multicolor','blue & pink','beige','leopardprint','black & white',\n",
    "                                                   'black & green', 'silver', 'pink & blue', 'claret', 'floral', 'rosegold', 'winered & yellow', 'wine','white & black','ivory','white & green','rainbow','orange','brown'], 'other')\n",
    "\n",
    "Ts_df['product_color'].unique()"
   ]
  },
  {
   "cell_type": "code",
   "execution_count": 46,
   "id": "d3b592e6",
   "metadata": {},
   "outputs": [
    {
     "name": "stdout",
     "output_type": "stream",
     "text": [
      "['white' 'black' 'blue' 'yellow' 'red' 'grey' 'other' 'green' 'pink']\n"
     ]
    }
   ],
   "source": [
    "# We can say that the product color in the testing data has number of unique columns bigger than in the training data \n",
    "\n",
    "other_list = ['brown','grey','rainbow' ,'ivory','black','orange','yellow','blue','white','pink','white & black','red','armygreen','green']\n",
    "def other_fun(name):\n",
    "    if name in other_list:\n",
    "        return name\n",
    "    else:\n",
    "        return 'other'\n",
    "\n",
    "Ts_df['product_color'] = Ts_df['product_color'].apply(other_fun)\n",
    "print(Ts_df['product_color'].unique())"
   ]
  },
  {
   "cell_type": "code",
   "execution_count": 47,
   "id": "5b51da97",
   "metadata": {},
   "outputs": [
    {
     "data": {
      "text/plain": [
       "(array(['CN', 'Other'], dtype=object),\n",
       " CN       462\n",
       " Other     17\n",
       " Name: origin_country, dtype: int64)"
      ]
     },
     "execution_count": 47,
     "metadata": {},
     "output_type": "execute_result"
    }
   ],
   "source": [
    "# For origin_country column\n",
    "Ts_df['origin_country'].unique(), Ts_df['origin_country'].value_counts()\n",
    "# Combine all values except the value of 'CN'\n",
    "Ts_df['origin_country'] = Ts_df['origin_country'].replace([np.nan,0,'US','GB','SG','AT','VE',], 'Other')\n",
    "Ts_df['origin_country'].unique(), Ts_df['origin_country'].value_counts()"
   ]
  },
  {
   "cell_type": "code",
   "execution_count": 48,
   "id": "b480bb24",
   "metadata": {},
   "outputs": [],
   "source": [
    "#For product_variation_size_id column\n",
    "Ts_df['product_variation_size_id'] = Ts_df['product_variation_size_id'].replace(['S.','Size S','Size-S', 'Size S.','S..','Size/S','SIZE S', 's', 'size S'], 'S')\n",
    "Ts_df['product_variation_size_id'] = Ts_df['product_variation_size_id'].replace(['X   L','1 PC - XL'], 'XL')\n",
    "Ts_df['product_variation_size_id'] = Ts_df['product_variation_size_id'].replace(['Size-XXS','SIZE XXS','Size -XXS','SIZE-XXS', 'Size XXS'], 'XXS')\n",
    "Ts_df['product_variation_size_id'] = Ts_df['product_variation_size_id'].replace(['XS.','Size-XS','SIZE XS'], 'XS')\n",
    "Ts_df['product_variation_size_id'] = Ts_df['product_variation_size_id'].replace(['S/M(child)','M.','Size M'], 'M')\n",
    "Ts_df['product_variation_size_id'] = Ts_df['product_variation_size_id'].replace('SizeL', 'L')\n",
    "Ts_df['product_variation_size_id'] = Ts_df['product_variation_size_id'].replace('6XL', 'XXXXXXL')\n",
    "Ts_df['product_variation_size_id'] = Ts_df['product_variation_size_id'].replace(['Size-5XL','5XL'], 'XXXXXL')\n",
    "Ts_df['product_variation_size_id'] = Ts_df['product_variation_size_id'].replace(['04-3XL','4XL','Size4XL'], 'XXXXL')\n",
    "Ts_df['product_variation_size_id'] = Ts_df['product_variation_size_id'].replace('2XL ', 'XXL')\n",
    "Ts_df['product_variation_size_id'] = Ts_df['product_variation_size_id'].replace(['XL','XXL','XXXXL','XXXXXL',], 'Other')\n",
    "\n",
    "def size_id(name):\n",
    "    if name == 'S' \\\n",
    "    or name == 'XL' \\\n",
    "    or name == 'M' \\\n",
    "    or name == 'L' \\\n",
    "    or name == 'XXXXXXL' \\\n",
    "    or name == 'XXXXXL' \\\n",
    "    or name == 'XXXXL'\\\n",
    "    or name == 'XXS' \\\n",
    "    or name == 'XS' \\\n",
    "    or name == 'XXL':\n",
    "        return name\n",
    "    else:\n",
    "        return \"Other\"\n",
    "\n",
    "Ts_df['product_variation_size_id'] = Ts_df['product_variation_size_id'].apply(size_id)"
   ]
  },
  {
   "cell_type": "code",
   "execution_count": 49,
   "id": "f86fedf6",
   "metadata": {
    "scrolled": true
   },
   "outputs": [
    {
     "data": {
      "text/plain": [
       "array(['XS', 'M', 'XXS', 'S', 'L', 'Other'], dtype=object)"
      ]
     },
     "execution_count": 49,
     "metadata": {},
     "output_type": "execute_result"
    }
   ],
   "source": [
    "Ts_df['product_variation_size_id'].unique()"
   ]
  },
  {
   "cell_type": "code",
   "execution_count": 50,
   "id": "164d9352",
   "metadata": {},
   "outputs": [],
   "source": [
    "# Work with categorical Data\n",
    "# categorical columns in the dataframe\n",
    "cat_cols = [col for col in Ts_df.columns if Ts_df[col].dtype==\"O\"]\n",
    "for Col in cat_cols: # loop on the cat_col to covert into numerical \n",
    "    Ts_df[Col] = Label_enc.fit_transform(Ts_df[Col].astype(str))"
   ]
  },
  {
   "cell_type": "code",
   "execution_count": 51,
   "id": "447c46ce",
   "metadata": {
    "scrolled": true
   },
   "outputs": [
    {
     "data": {
      "text/html": [
       "<div>\n",
       "<style scoped>\n",
       "    .dataframe tbody tr th:only-of-type {\n",
       "        vertical-align: middle;\n",
       "    }\n",
       "\n",
       "    .dataframe tbody tr th {\n",
       "        vertical-align: top;\n",
       "    }\n",
       "\n",
       "    .dataframe thead th {\n",
       "        text-align: right;\n",
       "    }\n",
       "</style>\n",
       "<table border=\"1\" class=\"dataframe\">\n",
       "  <thead>\n",
       "    <tr style=\"text-align: right;\">\n",
       "      <th></th>\n",
       "      <th>price</th>\n",
       "      <th>retail_price</th>\n",
       "      <th>units_sold</th>\n",
       "      <th>uses_ad_boosts</th>\n",
       "      <th>rating_count</th>\n",
       "      <th>badges_count</th>\n",
       "      <th>badge_local_product</th>\n",
       "      <th>badge_product_quality</th>\n",
       "      <th>badge_fast_shipping</th>\n",
       "      <th>product_color</th>\n",
       "      <th>...</th>\n",
       "      <th>shipping_is_express</th>\n",
       "      <th>countries_shipped_to</th>\n",
       "      <th>inventory_total</th>\n",
       "      <th>origin_country</th>\n",
       "      <th>merchant_title</th>\n",
       "      <th>merchant_name</th>\n",
       "      <th>merchant_info_subtitle</th>\n",
       "      <th>merchant_rating_count</th>\n",
       "      <th>merchant_rating</th>\n",
       "      <th>merchant_has_profile_picture</th>\n",
       "    </tr>\n",
       "  </thead>\n",
       "  <tbody>\n",
       "    <tr>\n",
       "      <th>0</th>\n",
       "      <td>5.75</td>\n",
       "      <td>5</td>\n",
       "      <td>10</td>\n",
       "      <td>1</td>\n",
       "      <td>0</td>\n",
       "      <td>0</td>\n",
       "      <td>0</td>\n",
       "      <td>0</td>\n",
       "      <td>0</td>\n",
       "      <td>7</td>\n",
       "      <td>...</td>\n",
       "      <td>0</td>\n",
       "      <td>139</td>\n",
       "      <td>50</td>\n",
       "      <td>0</td>\n",
       "      <td>250</td>\n",
       "      <td>169</td>\n",
       "      <td>81</td>\n",
       "      <td>3</td>\n",
       "      <td>2.333333</td>\n",
       "      <td>0</td>\n",
       "    </tr>\n",
       "    <tr>\n",
       "      <th>1</th>\n",
       "      <td>7.00</td>\n",
       "      <td>7</td>\n",
       "      <td>5000</td>\n",
       "      <td>0</td>\n",
       "      <td>579</td>\n",
       "      <td>0</td>\n",
       "      <td>0</td>\n",
       "      <td>0</td>\n",
       "      <td>0</td>\n",
       "      <td>0</td>\n",
       "      <td>...</td>\n",
       "      <td>0</td>\n",
       "      <td>31</td>\n",
       "      <td>50</td>\n",
       "      <td>0</td>\n",
       "      <td>321</td>\n",
       "      <td>268</td>\n",
       "      <td>262</td>\n",
       "      <td>4213</td>\n",
       "      <td>4.058391</td>\n",
       "      <td>0</td>\n",
       "    </tr>\n",
       "    <tr>\n",
       "      <th>2</th>\n",
       "      <td>5.00</td>\n",
       "      <td>16</td>\n",
       "      <td>1000</td>\n",
       "      <td>1</td>\n",
       "      <td>62</td>\n",
       "      <td>0</td>\n",
       "      <td>0</td>\n",
       "      <td>0</td>\n",
       "      <td>0</td>\n",
       "      <td>1</td>\n",
       "      <td>...</td>\n",
       "      <td>0</td>\n",
       "      <td>41</td>\n",
       "      <td>50</td>\n",
       "      <td>0</td>\n",
       "      <td>114</td>\n",
       "      <td>288</td>\n",
       "      <td>207</td>\n",
       "      <td>10501</td>\n",
       "      <td>4.029235</td>\n",
       "      <td>0</td>\n",
       "    </tr>\n",
       "    <tr>\n",
       "      <th>3</th>\n",
       "      <td>18.00</td>\n",
       "      <td>27</td>\n",
       "      <td>5000</td>\n",
       "      <td>1</td>\n",
       "      <td>1903</td>\n",
       "      <td>0</td>\n",
       "      <td>0</td>\n",
       "      <td>0</td>\n",
       "      <td>0</td>\n",
       "      <td>1</td>\n",
       "      <td>...</td>\n",
       "      <td>0</td>\n",
       "      <td>42</td>\n",
       "      <td>50</td>\n",
       "      <td>0</td>\n",
       "      <td>286</td>\n",
       "      <td>225</td>\n",
       "      <td>250</td>\n",
       "      <td>15855</td>\n",
       "      <td>4.052917</td>\n",
       "      <td>0</td>\n",
       "    </tr>\n",
       "    <tr>\n",
       "      <th>4</th>\n",
       "      <td>12.00</td>\n",
       "      <td>81</td>\n",
       "      <td>20000</td>\n",
       "      <td>0</td>\n",
       "      <td>1799</td>\n",
       "      <td>0</td>\n",
       "      <td>0</td>\n",
       "      <td>0</td>\n",
       "      <td>0</td>\n",
       "      <td>7</td>\n",
       "      <td>...</td>\n",
       "      <td>0</td>\n",
       "      <td>38</td>\n",
       "      <td>50</td>\n",
       "      <td>0</td>\n",
       "      <td>187</td>\n",
       "      <td>86</td>\n",
       "      <td>315</td>\n",
       "      <td>151914</td>\n",
       "      <td>4.127921</td>\n",
       "      <td>0</td>\n",
       "    </tr>\n",
       "  </tbody>\n",
       "</table>\n",
       "<p>5 rows × 24 columns</p>\n",
       "</div>"
      ],
      "text/plain": [
       "   price  retail_price  units_sold  uses_ad_boosts  rating_count  \\\n",
       "0   5.75             5          10               1             0   \n",
       "1   7.00             7        5000               0           579   \n",
       "2   5.00            16        1000               1            62   \n",
       "3  18.00            27        5000               1          1903   \n",
       "4  12.00            81       20000               0          1799   \n",
       "\n",
       "   badges_count  badge_local_product  badge_product_quality  \\\n",
       "0             0                    0                      0   \n",
       "1             0                    0                      0   \n",
       "2             0                    0                      0   \n",
       "3             0                    0                      0   \n",
       "4             0                    0                      0   \n",
       "\n",
       "   badge_fast_shipping  product_color  ...  shipping_is_express  \\\n",
       "0                    0              7  ...                    0   \n",
       "1                    0              0  ...                    0   \n",
       "2                    0              1  ...                    0   \n",
       "3                    0              1  ...                    0   \n",
       "4                    0              7  ...                    0   \n",
       "\n",
       "   countries_shipped_to  inventory_total  origin_country  merchant_title  \\\n",
       "0                   139               50               0             250   \n",
       "1                    31               50               0             321   \n",
       "2                    41               50               0             114   \n",
       "3                    42               50               0             286   \n",
       "4                    38               50               0             187   \n",
       "\n",
       "   merchant_name  merchant_info_subtitle  merchant_rating_count  \\\n",
       "0            169                      81                      3   \n",
       "1            268                     262                   4213   \n",
       "2            288                     207                  10501   \n",
       "3            225                     250                  15855   \n",
       "4             86                     315                 151914   \n",
       "\n",
       "   merchant_rating  merchant_has_profile_picture  \n",
       "0         2.333333                             0  \n",
       "1         4.058391                             0  \n",
       "2         4.029235                             0  \n",
       "3         4.052917                             0  \n",
       "4         4.127921                             0  \n",
       "\n",
       "[5 rows x 24 columns]"
      ]
     },
     "execution_count": 51,
     "metadata": {},
     "output_type": "execute_result"
    }
   ],
   "source": [
    "Ts_df.head()"
   ]
  },
  {
   "cell_type": "code",
   "execution_count": 52,
   "id": "75346b34",
   "metadata": {
    "scrolled": false
   },
   "outputs": [
    {
     "name": "stdout",
     "output_type": "stream",
     "text": [
      "(1094, 24)\n",
      "(1094,)\n"
     ]
    },
    {
     "data": {
      "text/html": [
       "<div>\n",
       "<style scoped>\n",
       "    .dataframe tbody tr th:only-of-type {\n",
       "        vertical-align: middle;\n",
       "    }\n",
       "\n",
       "    .dataframe tbody tr th {\n",
       "        vertical-align: top;\n",
       "    }\n",
       "\n",
       "    .dataframe thead th {\n",
       "        text-align: right;\n",
       "    }\n",
       "</style>\n",
       "<table border=\"1\" class=\"dataframe\">\n",
       "  <thead>\n",
       "    <tr style=\"text-align: right;\">\n",
       "      <th></th>\n",
       "      <th>price</th>\n",
       "      <th>retail_price</th>\n",
       "      <th>units_sold</th>\n",
       "      <th>uses_ad_boosts</th>\n",
       "      <th>rating_count</th>\n",
       "      <th>badges_count</th>\n",
       "      <th>badge_local_product</th>\n",
       "      <th>badge_product_quality</th>\n",
       "      <th>badge_fast_shipping</th>\n",
       "      <th>product_color</th>\n",
       "      <th>...</th>\n",
       "      <th>shipping_is_express</th>\n",
       "      <th>countries_shipped_to</th>\n",
       "      <th>inventory_total</th>\n",
       "      <th>origin_country</th>\n",
       "      <th>merchant_title</th>\n",
       "      <th>merchant_name</th>\n",
       "      <th>merchant_info_subtitle</th>\n",
       "      <th>merchant_rating_count</th>\n",
       "      <th>merchant_rating</th>\n",
       "      <th>merchant_has_profile_picture</th>\n",
       "    </tr>\n",
       "  </thead>\n",
       "  <tbody>\n",
       "    <tr>\n",
       "      <th>0</th>\n",
       "      <td>8.00</td>\n",
       "      <td>7</td>\n",
       "      <td>10000</td>\n",
       "      <td>1</td>\n",
       "      <td>1670</td>\n",
       "      <td>0</td>\n",
       "      <td>0</td>\n",
       "      <td>0</td>\n",
       "      <td>0</td>\n",
       "      <td>9</td>\n",
       "      <td>...</td>\n",
       "      <td>0</td>\n",
       "      <td>30</td>\n",
       "      <td>50</td>\n",
       "      <td>0</td>\n",
       "      <td>472</td>\n",
       "      <td>272</td>\n",
       "      <td>617</td>\n",
       "      <td>66644</td>\n",
       "      <td>4.137582</td>\n",
       "      <td>1</td>\n",
       "    </tr>\n",
       "    <tr>\n",
       "      <th>1</th>\n",
       "      <td>8.00</td>\n",
       "      <td>7</td>\n",
       "      <td>1000</td>\n",
       "      <td>0</td>\n",
       "      <td>843</td>\n",
       "      <td>1</td>\n",
       "      <td>1</td>\n",
       "      <td>0</td>\n",
       "      <td>0</td>\n",
       "      <td>0</td>\n",
       "      <td>...</td>\n",
       "      <td>0</td>\n",
       "      <td>37</td>\n",
       "      <td>50</td>\n",
       "      <td>0</td>\n",
       "      <td>584</td>\n",
       "      <td>723</td>\n",
       "      <td>734</td>\n",
       "      <td>25752</td>\n",
       "      <td>4.256873</td>\n",
       "      <td>0</td>\n",
       "    </tr>\n",
       "    <tr>\n",
       "      <th>2</th>\n",
       "      <td>6.00</td>\n",
       "      <td>34</td>\n",
       "      <td>100</td>\n",
       "      <td>0</td>\n",
       "      <td>10</td>\n",
       "      <td>0</td>\n",
       "      <td>0</td>\n",
       "      <td>0</td>\n",
       "      <td>0</td>\n",
       "      <td>8</td>\n",
       "      <td>...</td>\n",
       "      <td>0</td>\n",
       "      <td>41</td>\n",
       "      <td>50</td>\n",
       "      <td>0</td>\n",
       "      <td>725</td>\n",
       "      <td>697</td>\n",
       "      <td>332</td>\n",
       "      <td>3897</td>\n",
       "      <td>3.928920</td>\n",
       "      <td>0</td>\n",
       "    </tr>\n",
       "    <tr>\n",
       "      <th>3</th>\n",
       "      <td>4.67</td>\n",
       "      <td>4</td>\n",
       "      <td>100</td>\n",
       "      <td>1</td>\n",
       "      <td>82</td>\n",
       "      <td>0</td>\n",
       "      <td>0</td>\n",
       "      <td>0</td>\n",
       "      <td>0</td>\n",
       "      <td>1</td>\n",
       "      <td>...</td>\n",
       "      <td>0</td>\n",
       "      <td>25</td>\n",
       "      <td>50</td>\n",
       "      <td>0</td>\n",
       "      <td>556</td>\n",
       "      <td>424</td>\n",
       "      <td>555</td>\n",
       "      <td>7497</td>\n",
       "      <td>4.079365</td>\n",
       "      <td>0</td>\n",
       "    </tr>\n",
       "    <tr>\n",
       "      <th>4</th>\n",
       "      <td>8.00</td>\n",
       "      <td>11</td>\n",
       "      <td>1000</td>\n",
       "      <td>0</td>\n",
       "      <td>127</td>\n",
       "      <td>0</td>\n",
       "      <td>0</td>\n",
       "      <td>0</td>\n",
       "      <td>0</td>\n",
       "      <td>4</td>\n",
       "      <td>...</td>\n",
       "      <td>0</td>\n",
       "      <td>15</td>\n",
       "      <td>50</td>\n",
       "      <td>0</td>\n",
       "      <td>597</td>\n",
       "      <td>488</td>\n",
       "      <td>726</td>\n",
       "      <td>173</td>\n",
       "      <td>4.306358</td>\n",
       "      <td>0</td>\n",
       "    </tr>\n",
       "  </tbody>\n",
       "</table>\n",
       "<p>5 rows × 24 columns</p>\n",
       "</div>"
      ],
      "text/plain": [
       "   price  retail_price  units_sold  uses_ad_boosts  rating_count  \\\n",
       "0   8.00             7       10000               1          1670   \n",
       "1   8.00             7        1000               0           843   \n",
       "2   6.00            34         100               0            10   \n",
       "3   4.67             4         100               1            82   \n",
       "4   8.00            11        1000               0           127   \n",
       "\n",
       "   badges_count  badge_local_product  badge_product_quality  \\\n",
       "0             0                    0                      0   \n",
       "1             1                    1                      0   \n",
       "2             0                    0                      0   \n",
       "3             0                    0                      0   \n",
       "4             0                    0                      0   \n",
       "\n",
       "   badge_fast_shipping  product_color  ...  shipping_is_express  \\\n",
       "0                    0              9  ...                    0   \n",
       "1                    0              0  ...                    0   \n",
       "2                    0              8  ...                    0   \n",
       "3                    0              1  ...                    0   \n",
       "4                    0              4  ...                    0   \n",
       "\n",
       "   countries_shipped_to  inventory_total  origin_country  merchant_title  \\\n",
       "0                    30               50               0             472   \n",
       "1                    37               50               0             584   \n",
       "2                    41               50               0             725   \n",
       "3                    25               50               0             556   \n",
       "4                    15               50               0             597   \n",
       "\n",
       "   merchant_name  merchant_info_subtitle  merchant_rating_count  \\\n",
       "0            272                     617                  66644   \n",
       "1            723                     734                  25752   \n",
       "2            697                     332                   3897   \n",
       "3            424                     555                   7497   \n",
       "4            488                     726                    173   \n",
       "\n",
       "   merchant_rating  merchant_has_profile_picture  \n",
       "0         4.137582                             1  \n",
       "1         4.256873                             0  \n",
       "2         3.928920                             0  \n",
       "3         4.079365                             0  \n",
       "4         4.306358                             0  \n",
       "\n",
       "[5 rows x 24 columns]"
      ]
     },
     "execution_count": 52,
     "metadata": {},
     "output_type": "execute_result"
    }
   ],
   "source": [
    "#Dividing dataset into all features except the label(result)\n",
    "X = Tr_df.iloc[:, :] #take an object from the data\n",
    "X = X.drop('rating', axis=1)           \n",
    "Y = Tr_df['rating']# The class label\n",
    "print(X.shape) , print(Y.shape)\n",
    "X.head(5)"
   ]
  },
  {
   "cell_type": "markdown",
   "id": "7505fa25",
   "metadata": {},
   "source": [
    "# I tried this option in the first time "
   ]
  },
  {
   "cell_type": "code",
   "execution_count": 53,
   "id": "351f56ab",
   "metadata": {},
   "outputs": [
    {
     "name": "stdout",
     "output_type": "stream",
     "text": [
      "(973, 24)\n",
      "(121, 24)\n",
      "(973,)\n",
      "(121,)\n"
     ]
    }
   ],
   "source": [
    "#Splite the data into Train and Test by 89% for training to 11% for testing\n",
    "xTrain, xTest, yTrain, yTest = train_test_split(X, Y, test_size = .11, random_state = 3, shuffle = True)\n",
    "print(xTrain.shape)\n",
    "print(xTest.shape)\n",
    "print(yTrain.shape)\n",
    "print(yTest.shape)"
   ]
  },
  {
   "cell_type": "markdown",
   "id": "71814c27",
   "metadata": {},
   "source": [
    "\n",
    "<img src=\"https://miro.medium.com/max/1250/1*yR54MSI1jjnf2QeGtt57PA.png\">\n",
    "\n",
    "One of the most important data preprocessing step, we need to apply to our data is feature scaling. When we encounter any real world data set, the independent or feature variables may be mapped onto different scales.\n",
    "\n",
    "This could cause some problems like feature with a higher value range make the model biased to this feature and it starts dominating .\n",
    "\n",
    "we need to do scaling so that one significant number doesn’t impact the model just because of their large magnitude.\n",
    "\n",
    "**Feature scaling** refers to procedures used to standardize these independent or feature variables so that they are mapped onto same scales.\n",
    "\n",
    "\n",
    "Most of the ML algorithms perform well when the feature variables are mapped onto the same scale. They don’t perform well when features are mapped onto different scales. For example, in stochastic gradient descent, feature scaling can improve the convergence speed of the algorithm. In support vector machines, it can reduce the time to find support vectors. \n",
    "\n",
    "\n",
    "But, there are few exceptions as well. Decision trees and random forests are two of the algorithms where we don’t need to worry about feature scaling. These algorithms are scale invariant. Similarly, Naive Bayes and Linear Discriminant Analysis are not affected by feature scaling. In Short, any Algorithm which is not distance based is not affected by feature scaling."
   ]
  },
  {
   "cell_type": "code",
   "execution_count": 54,
   "id": "f9a228a0",
   "metadata": {},
   "outputs": [],
   "source": [
    "#Normalize the data values using StandardScaler to be in the same scale \n",
    "scaler = StandardScaler()\n",
    "scaler.fit(xTrain)\n",
    "xTrain=scaler.transform(xTrain)\n",
    "xTest=scaler.transform(xTest)"
   ]
  },
  {
   "cell_type": "markdown",
   "id": "57d3a3e3",
   "metadata": {},
   "source": [
    "# Models \n",
    "* Models that will be used\n",
    "* 1) Tried decision tree model with at least 2 different configurations/hyper-parameters\n",
    "* 2) Tried SVM model with at least 2 different configurations/hyper-parameters\n",
    "* 3) Tried Naive Bayesian model."
   ]
  },
  {
   "cell_type": "markdown",
   "id": "1e4baa5c",
   "metadata": {},
   "source": [
    "# Trial (1) -- Applied DT"
   ]
  },
  {
   "cell_type": "code",
   "execution_count": 55,
   "id": "3d42af2f",
   "metadata": {
    "scrolled": true
   },
   "outputs": [
    {
     "name": "stdout",
     "output_type": "stream",
     "text": [
      "D_Tree Train Score is :  0.7985611510791367\n",
      "D_Tree test Score is :  0.8016528925619834\n"
     ]
    },
    {
     "data": {
      "text/plain": [
       "array([4., 4., 4., 5., 4., 4., 5., 4., 4., 4., 4., 4., 5., 4., 4., 4., 4.,\n",
       "       4., 5., 4., 4., 5., 1., 4., 4., 4., 4., 4., 4., 4., 4., 4., 4., 4.,\n",
       "       4., 4., 4., 4., 4., 4., 4., 4., 4., 4., 4., 4., 4., 4., 4., 4., 4.,\n",
       "       4., 4., 4., 4., 4., 4., 4., 4., 4., 4., 4., 4., 4., 4., 4., 4., 4.,\n",
       "       4., 4., 4., 4., 4., 4., 4., 4., 4., 4., 4., 4., 4., 4., 4., 5., 4.,\n",
       "       4., 4., 4., 3., 4., 4., 4., 4., 5., 4., 4., 4., 4., 4., 4., 4., 4.,\n",
       "       4., 4., 4., 4., 5., 4., 4., 4., 3., 4., 4., 4., 4., 4., 4., 4., 4.,\n",
       "       4., 4.])"
      ]
     },
     "execution_count": 55,
     "metadata": {},
     "output_type": "execute_result"
    }
   ],
   "source": [
    "#train the model with optimal hyperparameters\n",
    "D_Tree = DecisionTreeClassifier(criterion= \"entropy\", max_depth= 4 , min_samples_leaf= 2 , random_state=42) \n",
    "D_Tree.fit(xTrain, yTrain) # D_Tree.fit(X, Y) # to train on the all data \n",
    "y_pred_DTC = D_Tree.predict(xTest)\n",
    "f1_DT=f1_score(yTest, y_pred_DTC, average='micro') #test the accuracy of model on testing set\n",
    "print('D_Tree Train Score is : ' , D_Tree.score(xTrain, yTrain)) #test the accuracy of model on training set\n",
    "print('D_Tree test Score is : ' ,f1_DT)\n",
    "y_pred_DTC"
   ]
  },
  {
   "cell_type": "markdown",
   "id": "9dd1b2e1",
   "metadata": {},
   "source": [
    "# Save CSV file for Trial (1)"
   ]
  },
  {
   "cell_type": "code",
   "execution_count": 56,
   "id": "8c305772",
   "metadata": {
    "scrolled": true
   },
   "outputs": [
    {
     "name": "stdout",
     "output_type": "stream",
     "text": [
      "[4. 4. 4. 4. 4. 4. 4. 4. 4. 4. 4. 4. 4. 4. 4. 4. 4. 4. 4. 4. 4. 4. 4. 4.\n",
      " 4. 4. 4. 4. 4. 4. 4. 4. 4. 4. 4. 4. 4. 4. 4. 4. 4. 4. 4. 4. 4. 4. 4. 4.\n",
      " 4. 4. 4. 4. 4. 4. 4. 4. 4. 4. 4. 4. 4. 4. 4. 4. 4. 4. 4. 4. 4. 4. 4. 4.\n",
      " 4. 4. 4. 4. 4. 4. 4. 4. 4. 4. 4. 4. 4. 4. 4. 4. 4. 4. 4. 4. 4. 4. 4. 4.\n",
      " 4. 4. 4. 4. 4. 4. 4. 4. 4. 4. 4. 4. 4. 4. 4. 4. 4. 4. 4. 4. 4. 4. 4. 4.\n",
      " 4. 4. 4. 4. 4. 4. 4. 4. 4. 4. 4. 4. 4. 4. 4. 4. 4. 4. 4. 4. 4. 4. 4. 4.\n",
      " 4. 4. 4. 4. 4. 4. 4. 4. 4. 4. 4. 4. 4. 4. 4. 4. 4. 4. 4. 4. 4. 4. 4. 4.\n",
      " 4. 4. 4. 4. 4. 4. 4. 4. 4. 4. 4. 4. 4. 4. 4. 4. 4. 4. 4. 4. 4. 4. 4. 4.\n",
      " 4. 4. 4. 4. 4. 4. 4. 4. 4. 4. 4. 4. 4. 4. 4. 4. 4. 4. 4. 4. 4. 4. 4. 4.\n",
      " 4. 4. 4. 4. 4. 4. 4. 4. 4. 4. 4. 4. 4. 4. 4. 4. 4. 4. 4. 4. 4. 4. 4. 4.\n",
      " 4. 4. 4. 4. 4. 4. 4. 4. 4. 4. 4. 4. 4. 4. 4. 4. 4. 4. 4. 4. 4. 4. 4. 4.\n",
      " 4. 4. 4. 4. 4. 4. 4. 4. 4. 4. 4. 4. 4. 4. 4. 4. 4. 4. 4. 4. 4. 4. 4. 4.\n",
      " 4. 4. 4. 4. 4. 4. 4. 4. 4. 4. 4. 4. 4. 4. 4. 4. 4. 4. 4. 4. 4. 4. 4. 4.\n",
      " 4. 4. 4. 4. 4. 4. 4. 4. 4. 4. 4. 4. 4. 4. 4. 4. 4. 4. 4. 4. 4. 4. 4. 4.\n",
      " 4. 4. 4. 4. 4. 4. 4. 4. 4. 4. 4. 4. 4. 4. 4. 4. 4. 4. 4. 4. 4. 4. 4. 4.\n",
      " 4. 4. 4. 4. 4. 4. 4. 4. 4. 4. 4. 4. 4. 4. 4. 4. 4. 4. 4. 4. 4. 4. 4. 4.\n",
      " 4. 4. 4. 4. 4. 4. 4. 4. 4. 4. 4. 4. 4. 4. 4. 4. 4. 4. 4. 4. 4. 4. 4. 4.\n",
      " 4. 4. 4. 4. 4. 4. 4. 4. 4. 4. 4. 4. 4. 4. 4. 4. 4. 4. 4. 4. 4. 4. 4. 4.\n",
      " 4. 4. 4. 4. 4. 4. 4. 4. 4. 4. 4. 4. 4. 4. 4. 4. 4. 4. 4. 4. 4. 4. 4. 4.\n",
      " 4. 4. 4. 4. 4. 4. 4. 4. 4. 4. 4. 4. 4. 4. 4. 4. 4. 4. 4. 4. 4. 4. 4.]\n"
     ]
    },
    {
     "name": "stderr",
     "output_type": "stream",
     "text": [
      "C:\\Users\\Lenovo\\anaconda3\\lib\\site-packages\\sklearn\\base.py:443: UserWarning: X has feature names, but DecisionTreeClassifier was fitted without feature names\n",
      "  warnings.warn(\n"
     ]
    },
    {
     "data": {
      "text/plain": [
       "array([4.])"
      ]
     },
     "execution_count": 56,
     "metadata": {},
     "output_type": "execute_result"
    }
   ],
   "source": [
    "# As required, generate a csv file for Decision Tree Moled(Trial (1)).\n",
    "Ts_Pred = D_Tree.predict(Ts_df)\n",
    "Final_pre_df = pd.DataFrame(data={'id': Ts_ID['id'], 'rating': Ts_Pred})\n",
    "Final_pre_df.to_csv('Final_pre_df_DT(1).csv', index=False)\n",
    "print(Ts_Pred)\n",
    "Final_pre_df.rating.unique()"
   ]
  },
  {
   "cell_type": "markdown",
   "id": "329dc24a",
   "metadata": {},
   "source": [
    "# Trial (2) -- Applied DT"
   ]
  },
  {
   "cell_type": "code",
   "execution_count": 57,
   "id": "c3c4d78d",
   "metadata": {},
   "outputs": [],
   "source": [
    "from sklearn.tree import DecisionTreeClassifier"
   ]
  },
  {
   "cell_type": "code",
   "execution_count": 58,
   "id": "15fb2707",
   "metadata": {},
   "outputs": [],
   "source": [
    "D_Tree_model = DecisionTreeClassifier(random_state=3)"
   ]
  },
  {
   "cell_type": "code",
   "execution_count": 59,
   "id": "e17f713c",
   "metadata": {},
   "outputs": [
    {
     "name": "stderr",
     "output_type": "stream",
     "text": [
      "C:\\Users\\Lenovo\\anaconda3\\lib\\site-packages\\sklearn\\model_selection\\_split.py:676: UserWarning: The least populated class in y has only 1 members, which is less than n_splits=5.\n",
      "  warnings.warn(\n"
     ]
    },
    {
     "data": {
      "text/plain": [
       "GridSearchCV(estimator=DecisionTreeClassifier(random_state=3), n_jobs=-1,\n",
       "             param_grid={'criterion': ['gini', 'entropy'],\n",
       "                         'max_depth': [1, 2, 3, 4, 5, 6, 7, 8, 9],\n",
       "                         'min_samples_leaf': [1, 2, 3, 4, 5, 6, 7, 8, 9]})"
      ]
     },
     "execution_count": 59,
     "metadata": {},
     "output_type": "execute_result"
    }
   ],
   "source": [
    "#GrideSearchCV to find the optimal hyperparameters by fit the model with difrrent hyperparameters and chose the best one with high accuracy\n",
    "k_range = list(i for i in range(1, 10))\n",
    "get_grid_para = {\"criterion\" : [\"gini\" , \"entropy\"], \"max_depth\" : k_range, \"min_samples_leaf\": k_range}\n",
    "grid_result = GridSearchCV(D_Tree_model , param_grid= get_grid_para , n_jobs= -1)\n",
    "grid_result.fit(xTrain, yTrain)"
   ]
  },
  {
   "cell_type": "code",
   "execution_count": 60,
   "id": "55eda275",
   "metadata": {},
   "outputs": [
    {
     "name": "stdout",
     "output_type": "stream",
     "text": [
      "{'criterion': 'entropy', 'max_depth': 4, 'min_samples_leaf': 9}   \n",
      " DecisionTreeClassifier(criterion='entropy', max_depth=4, min_samples_leaf=9,\n",
      "                       random_state=3) \n",
      " The Best Score :  0.7759661644197726\n"
     ]
    }
   ],
   "source": [
    "print(grid_result.best_params_, '  \\n' , grid_result.best_estimator_ , '\\n The Best Score : ' , grid_result.best_score_)"
   ]
  },
  {
   "cell_type": "code",
   "execution_count": 61,
   "id": "c08b7777",
   "metadata": {},
   "outputs": [
    {
     "name": "stdout",
     "output_type": "stream",
     "text": [
      "D_Tree Train Score is :  0.7965056526207606\n",
      "D_Tree test Score is :  0.7603305785123967\n"
     ]
    },
    {
     "data": {
      "text/plain": [
       "array([4., 4., 4., 5., 4., 4., 5., 4., 4., 4., 5., 4., 5., 4., 4., 4., 4.,\n",
       "       4., 5., 4., 4., 4., 5., 5., 4., 4., 4., 4., 4., 4., 4., 4., 4., 4.,\n",
       "       4., 4., 4., 4., 4., 4., 4., 4., 4., 4., 4., 4., 4., 4., 4., 4., 4.,\n",
       "       4., 4., 4., 4., 4., 3., 4., 4., 4., 4., 4., 4., 4., 4., 4., 4., 4.,\n",
       "       4., 4., 4., 4., 4., 4., 4., 4., 4., 4., 4., 4., 4., 4., 4., 5., 4.,\n",
       "       4., 4., 4., 3., 4., 4., 4., 4., 4., 4., 4., 4., 4., 4., 4., 4., 4.,\n",
       "       4., 4., 4., 4., 5., 4., 4., 4., 5., 4., 4., 4., 4., 4., 4., 4., 4.,\n",
       "       4., 4.])"
      ]
     },
     "execution_count": 61,
     "metadata": {},
     "output_type": "execute_result"
    }
   ],
   "source": [
    "#train the model with optimal hyperparameters\n",
    "D_Tree = DecisionTreeClassifier(criterion= \"gini\", max_depth= 4 , min_samples_leaf= 8, random_state=3) \n",
    "\n",
    "D_Tree.fit(xTrain, yTrain) # D_Tree.fit(X, Y) # to train on the all data \n",
    "print('D_Tree Train Score is : ' , D_Tree.score(xTrain, yTrain)) #test the accuracy of model on training set\n",
    "y_pred_DTC = D_Tree.predict(xTest)\n",
    "f1_scores_DTC=f1_score(yTest, y_pred_DTC, average='micro') #test the accuracy of model on testing set\n",
    "print('D_Tree test Score is : ' ,f1_scores_DTC)\n",
    "y_pred_DTC"
   ]
  },
  {
   "cell_type": "markdown",
   "id": "d93296bb",
   "metadata": {},
   "source": [
    "# Save CSV file for Trial (2)"
   ]
  },
  {
   "cell_type": "code",
   "execution_count": 62,
   "id": "dbe318ea",
   "metadata": {
    "scrolled": true
   },
   "outputs": [
    {
     "name": "stdout",
     "output_type": "stream",
     "text": [
      "[4. 4. 4. 4. 4. 4. 4. 4. 4. 4. 4. 4. 4. 4. 4. 4. 4. 4. 4. 4. 4. 4. 4. 4.\n",
      " 4. 4. 4. 4. 4. 4. 4. 4. 4. 4. 4. 4. 4. 4. 4. 4. 4. 4. 4. 4. 4. 4. 4. 4.\n",
      " 4. 4. 4. 4. 4. 4. 4. 4. 4. 4. 4. 4. 4. 4. 4. 4. 4. 4. 4. 4. 4. 4. 4. 4.\n",
      " 4. 4. 4. 4. 4. 4. 4. 4. 4. 4. 4. 4. 4. 4. 4. 4. 4. 4. 4. 4. 4. 4. 4. 4.\n",
      " 4. 4. 4. 4. 4. 4. 4. 4. 4. 4. 4. 4. 4. 4. 4. 4. 4. 4. 4. 4. 4. 4. 4. 4.\n",
      " 4. 4. 4. 4. 4. 4. 4. 4. 4. 4. 4. 4. 4. 4. 4. 4. 4. 4. 4. 4. 4. 4. 4. 4.\n",
      " 4. 4. 4. 4. 4. 4. 4. 4. 4. 4. 4. 4. 4. 4. 4. 4. 4. 4. 4. 4. 4. 4. 4. 4.\n",
      " 4. 4. 4. 4. 4. 4. 4. 4. 4. 4. 4. 4. 4. 4. 4. 4. 4. 4. 4. 4. 4. 4. 4. 4.\n",
      " 4. 4. 4. 4. 4. 4. 4. 4. 4. 4. 4. 4. 4. 4. 4. 4. 4. 4. 4. 4. 4. 4. 4. 4.\n",
      " 4. 4. 4. 4. 4. 4. 4. 4. 4. 4. 4. 4. 4. 4. 4. 4. 4. 4. 4. 4. 4. 4. 4. 4.\n",
      " 4. 4. 4. 4. 4. 4. 4. 4. 4. 4. 4. 4. 4. 4. 4. 4. 4. 4. 4. 4. 4. 4. 4. 4.\n",
      " 4. 4. 4. 4. 4. 4. 4. 4. 4. 4. 4. 4. 4. 4. 4. 4. 4. 4. 4. 4. 4. 4. 4. 4.\n",
      " 4. 4. 4. 4. 4. 4. 4. 4. 4. 4. 4. 4. 4. 4. 4. 4. 4. 4. 4. 4. 4. 4. 4. 4.\n",
      " 4. 4. 4. 4. 4. 4. 4. 4. 4. 4. 4. 4. 4. 4. 4. 4. 4. 4. 4. 4. 4. 4. 4. 4.\n",
      " 4. 4. 4. 4. 4. 4. 4. 4. 4. 4. 4. 4. 4. 4. 4. 4. 4. 4. 4. 4. 4. 4. 4. 4.\n",
      " 4. 4. 4. 4. 4. 4. 4. 4. 4. 4. 4. 4. 4. 4. 4. 4. 4. 4. 4. 4. 4. 4. 4. 4.\n",
      " 4. 4. 4. 4. 4. 4. 4. 4. 4. 4. 4. 4. 4. 4. 4. 4. 4. 4. 4. 4. 4. 4. 4. 4.\n",
      " 4. 4. 4. 4. 4. 4. 4. 4. 4. 4. 4. 4. 4. 4. 4. 4. 4. 4. 4. 4. 4. 4. 4. 4.\n",
      " 4. 4. 4. 4. 4. 4. 4. 4. 4. 4. 4. 4. 4. 4. 4. 4. 4. 4. 4. 4. 4. 4. 4. 4.\n",
      " 4. 4. 4. 4. 4. 4. 4. 4. 4. 4. 4. 4. 4. 4. 4. 4. 4. 4. 4. 4. 4. 4. 4.]\n"
     ]
    },
    {
     "name": "stderr",
     "output_type": "stream",
     "text": [
      "C:\\Users\\Lenovo\\anaconda3\\lib\\site-packages\\sklearn\\base.py:443: UserWarning: X has feature names, but DecisionTreeClassifier was fitted without feature names\n",
      "  warnings.warn(\n"
     ]
    },
    {
     "data": {
      "text/plain": [
       "array([4.])"
      ]
     },
     "execution_count": 62,
     "metadata": {},
     "output_type": "execute_result"
    }
   ],
   "source": [
    "# As required, generate a csv file for Decision Tree Moled(Trial (1)).\n",
    "Ts_Pred = D_Tree.predict(Ts_df)\n",
    "Final_pre_df = pd.DataFrame(data={'id': Ts_ID['id'], 'rating': Ts_Pred})\n",
    "Final_pre_df.to_csv('Final_pre_df_DT(2).csv', index=False)\n",
    "print(Ts_Pred)\n",
    "Final_pre_df.rating.unique()"
   ]
  },
  {
   "cell_type": "markdown",
   "id": "41cb18b7",
   "metadata": {},
   "source": [
    "# Trial (3) -- Applied RF"
   ]
  },
  {
   "cell_type": "code",
   "execution_count": 63,
   "id": "0b619510",
   "metadata": {},
   "outputs": [
    {
     "name": "stdout",
     "output_type": "stream",
     "text": [
      "classifier_RFC Train Score is :  0.9928057553956835\n",
      "classifier_RFC test Score is :  0.8347107438016529\n"
     ]
    }
   ],
   "source": [
    "# Random forest\n",
    "classifier_RFC = RandomForestClassifier(n_estimators=150, random_state=42)\n",
    "classifier_RFC.fit(xTrain, yTrain)\n",
    "y_pred_RFC = classifier_RFC.predict(xTest)\n",
    "\n",
    "#test the accuracy of model on training set\n",
    "print('classifier_RFC Train Score is : ' , classifier_RFC.score(xTrain, yTrain))\n",
    "y_pred_RFC = classifier_RFC.predict(xTest)\n",
    "\n",
    "#test the accuracy of model on testing set\n",
    "f1_scores_RFC=f1_score(yTest, y_pred_RFC, average='micro')\n",
    "print('classifier_RFC test Score is : ' , f1_scores_RFC)"
   ]
  },
  {
   "cell_type": "markdown",
   "id": "6d030480",
   "metadata": {},
   "source": [
    "# Save CSV file for Trial (3)"
   ]
  },
  {
   "cell_type": "code",
   "execution_count": 64,
   "id": "9811bd7b",
   "metadata": {},
   "outputs": [
    {
     "name": "stdout",
     "output_type": "stream",
     "text": [
      "[4. 4. 4. 4. 4. 4. 4. 4. 4. 4. 4. 4. 4. 4. 4. 4. 4. 4. 4. 4. 4. 4. 4. 4.\n",
      " 4. 4. 4. 4. 4. 4. 4. 4. 4. 4. 4. 4. 4. 4. 4. 4. 4. 4. 4. 4. 4. 4. 4. 4.\n",
      " 4. 4. 4. 4. 4. 4. 4. 4. 4. 4. 4. 4. 4. 4. 4. 4. 4. 4. 4. 4. 4. 4. 4. 4.\n",
      " 4. 4. 4. 4. 4. 4. 4. 4. 4. 4. 4. 4. 4. 4. 4. 4. 4. 4. 4. 4. 4. 4. 5. 4.\n",
      " 4. 4. 4. 4. 4. 4. 4. 4. 4. 4. 4. 4. 4. 4. 4. 4. 4. 4. 4. 4. 4. 4. 4. 4.\n",
      " 4. 4. 4. 4. 4. 4. 4. 4. 4. 4. 4. 4. 4. 4. 4. 4. 4. 4. 4. 4. 4. 4. 4. 4.\n",
      " 4. 4. 4. 4. 4. 4. 4. 4. 4. 4. 4. 4. 4. 5. 4. 4. 4. 4. 4. 4. 4. 4. 4. 4.\n",
      " 4. 4. 4. 4. 4. 4. 4. 4. 4. 4. 5. 4. 4. 4. 4. 4. 4. 4. 4. 4. 4. 4. 4. 4.\n",
      " 4. 4. 4. 4. 4. 4. 4. 4. 4. 4. 4. 4. 5. 4. 4. 4. 4. 4. 4. 4. 4. 4. 4. 4.\n",
      " 4. 4. 4. 4. 4. 4. 4. 4. 4. 4. 4. 4. 4. 4. 4. 4. 4. 4. 4. 4. 4. 4. 4. 4.\n",
      " 4. 4. 4. 4. 4. 5. 4. 4. 4. 4. 4. 4. 4. 4. 4. 4. 4. 4. 4. 4. 4. 4. 4. 4.\n",
      " 4. 4. 4. 4. 4. 5. 4. 4. 4. 4. 4. 4. 4. 4. 4. 4. 4. 4. 4. 4. 4. 4. 4. 4.\n",
      " 4. 4. 4. 4. 4. 4. 4. 4. 4. 4. 4. 4. 4. 4. 4. 4. 4. 5. 4. 4. 4. 4. 4. 4.\n",
      " 4. 4. 4. 4. 4. 4. 4. 4. 4. 4. 4. 4. 4. 4. 4. 4. 4. 4. 4. 4. 4. 4. 4. 4.\n",
      " 4. 4. 4. 4. 4. 4. 4. 4. 4. 4. 4. 4. 4. 4. 4. 4. 4. 4. 4. 4. 4. 4. 4. 4.\n",
      " 4. 4. 4. 4. 4. 4. 4. 4. 4. 4. 4. 4. 4. 4. 4. 4. 4. 4. 4. 4. 4. 4. 4. 4.\n",
      " 4. 4. 4. 4. 4. 4. 4. 4. 4. 4. 4. 4. 4. 4. 4. 4. 4. 4. 4. 4. 4. 4. 4. 4.\n",
      " 4. 4. 4. 4. 4. 4. 4. 4. 4. 4. 4. 4. 4. 4. 4. 4. 4. 4. 4. 4. 4. 4. 4. 4.\n",
      " 4. 4. 4. 4. 4. 4. 4. 4. 4. 4. 4. 4. 4. 4. 4. 4. 4. 4. 5. 4. 4. 4. 4. 4.\n",
      " 4. 4. 4. 4. 4. 4. 4. 4. 4. 4. 4. 4. 4. 4. 4. 4. 4. 4. 5. 4. 4. 4. 4.]\n"
     ]
    },
    {
     "name": "stderr",
     "output_type": "stream",
     "text": [
      "C:\\Users\\Lenovo\\anaconda3\\lib\\site-packages\\sklearn\\base.py:443: UserWarning: X has feature names, but RandomForestClassifier was fitted without feature names\n",
      "  warnings.warn(\n"
     ]
    },
    {
     "data": {
      "text/plain": [
       "array([4., 5.])"
      ]
     },
     "execution_count": 64,
     "metadata": {},
     "output_type": "execute_result"
    }
   ],
   "source": [
    "# As required, generate a csv file for Decision Tree Moled(Trial (1)).\n",
    "Ts_Pred = classifier_RFC.predict(Ts_df)\n",
    "Final_pre_df = pd.DataFrame(data={'id': Ts_ID['id'], 'rating': Ts_Pred})\n",
    "Final_pre_df.to_csv('Final_pre_df.csv', index=False)\n",
    "print(Ts_Pred)\n",
    "Final_pre_df.rating.unique()"
   ]
  },
  {
   "cell_type": "markdown",
   "id": "f4a8e510",
   "metadata": {},
   "source": [
    "# Trial (4) -- Applied SVM"
   ]
  },
  {
   "cell_type": "code",
   "execution_count": 65,
   "id": "5e1b078c",
   "metadata": {},
   "outputs": [
    {
     "name": "stdout",
     "output_type": "stream",
     "text": [
      "SVM_model_rbf Train Score is :  0.9917780061664954\n",
      "SVM_model_rbf test Score is :  0.768595041322314\n",
      "[4. 4. 4. 5. 4. 5. 3. 4. 4. 4. 5. 4. 5. 4. 3. 4. 3. 4. 5. 4. 5. 4. 1. 4.\n",
      " 4. 4. 4. 3. 4. 4. 4. 4. 3. 4. 4. 3. 3. 4. 4. 4. 4. 3. 4. 4. 3. 4. 4. 4.\n",
      " 4. 2. 4. 4. 4. 4. 4. 4. 3. 4. 4. 4. 4. 3. 4. 4. 4. 4. 4. 4. 4. 4. 4. 4.\n",
      " 3. 4. 4. 3. 4. 4. 4. 4. 4. 4. 4. 4. 4. 4. 4. 5. 3. 4. 4. 4. 4. 5. 4. 4.\n",
      " 4. 5. 3. 4. 4. 4. 4. 4. 3. 4. 5. 3. 3. 4. 3. 4. 4. 4. 4. 4. 4. 4. 4. 3.\n",
      " 4.]\n"
     ]
    }
   ],
   "source": [
    "# import the library\n",
    "from sklearn.svm import SVC\n",
    "\n",
    "SVM_model = SVC( kernel = 'rbf', C=200 , gamma=0.1 , random_state = 42 , probability=True)\n",
    "SVM_model.fit(xTrain, yTrain)\n",
    "\n",
    "print('SVM_model_rbf Train Score is : ' , SVM_model.score(xTrain, yTrain)) #test the accuracy of model on training set\n",
    "y_pred_rbf = SVM_model.predict(xTest)\n",
    "\n",
    "f1_scores_rbf=f1_score(yTest, y_pred_rbf, average='micro') #test the accuracy of model on testing set\n",
    "print('SVM_model_rbf test Score is : ' , f1_scores_rbf)\n",
    "\n",
    "print(y_pred_rbf)"
   ]
  },
  {
   "cell_type": "code",
   "execution_count": 66,
   "id": "0bdc9fc9",
   "metadata": {},
   "outputs": [
    {
     "name": "stdout",
     "output_type": "stream",
     "text": [
      "[4. 4. 4. 4. 4. 4. 4. 4. 4. 4. 4. 4. 4. 4. 4. 4. 4. 4. 4. 4. 4. 4. 4. 4.\n",
      " 4. 4. 4. 4. 4. 4. 4. 4. 4. 4. 4. 4. 4. 4. 4. 4. 4. 4. 4. 4. 4. 4. 4. 4.\n",
      " 4. 4. 4. 4. 4. 4. 4. 4. 4. 4. 4. 4. 4. 4. 4. 4. 4. 4. 4. 4. 4. 4. 4. 4.\n",
      " 4. 4. 4. 4. 4. 4. 4. 4. 4. 4. 4. 4. 4. 4. 4. 4. 4. 4. 4. 4. 4. 4. 4. 4.\n",
      " 4. 4. 4. 4. 4. 4. 4. 4. 4. 4. 4. 4. 4. 4. 4. 4. 4. 4. 4. 4. 4. 4. 4. 4.\n",
      " 4. 4. 4. 4. 4. 4. 4. 4. 4. 4. 4. 4. 4. 4. 4. 4. 4. 4. 4. 4. 4. 4. 4. 4.\n",
      " 4. 4. 4. 4. 4. 4. 4. 4. 4. 4. 4. 4. 4. 4. 4. 4. 4. 4. 4. 4. 4. 4. 4. 4.\n",
      " 4. 4. 4. 4. 4. 4. 4. 4. 4. 4. 4. 4. 4. 4. 4. 4. 4. 4. 4. 4. 4. 4. 4. 4.\n",
      " 4. 4. 4. 4. 4. 4. 4. 4. 4. 4. 4. 4. 4. 4. 4. 4. 4. 4. 4. 4. 4. 4. 4. 4.\n",
      " 4. 4. 4. 4. 4. 4. 4. 4. 4. 4. 4. 4. 4. 4. 4. 4. 4. 4. 4. 4. 4. 4. 4. 4.\n",
      " 4. 4. 4. 4. 4. 4. 4. 4. 4. 4. 4. 4. 4. 4. 4. 4. 4. 4. 4. 4. 4. 4. 4. 4.\n",
      " 4. 4. 4. 4. 4. 4. 4. 4. 4. 4. 4. 4. 4. 4. 4. 4. 4. 4. 4. 4. 4. 4. 4. 4.\n",
      " 4. 4. 4. 4. 4. 4. 4. 4. 4. 4. 4. 4. 4. 4. 4. 4. 4. 4. 4. 4. 4. 4. 4. 4.\n",
      " 4. 4. 4. 4. 4. 4. 4. 4. 4. 4. 4. 4. 4. 4. 4. 4. 4. 4. 4. 4. 4. 4. 4. 4.\n",
      " 4. 4. 4. 4. 4. 4. 4. 4. 4. 4. 4. 4. 4. 4. 4. 4. 4. 4. 4. 4. 4. 4. 4. 4.\n",
      " 4. 4. 4. 4. 4. 4. 4. 4. 4. 4. 4. 4. 4. 4. 4. 4. 4. 4. 4. 4. 4. 4. 4. 4.\n",
      " 4. 4. 4. 4. 4. 4. 4. 4. 4. 4. 4. 4. 4. 4. 4. 4. 4. 4. 4. 4. 4. 4. 4. 4.\n",
      " 4. 4. 4. 4. 4. 4. 4. 4. 4. 4. 4. 4. 4. 4. 4. 4. 4. 4. 4. 4. 4. 4. 4. 4.\n",
      " 4. 4. 4. 4. 4. 4. 4. 4. 4. 4. 4. 4. 4. 4. 4. 4. 4. 4. 4. 4. 4. 4. 4. 4.\n",
      " 4. 4. 4. 4. 4. 4. 4. 4. 4. 4. 4. 4. 4. 4. 4. 4. 4. 4. 4. 4. 4. 4. 4.]\n"
     ]
    },
    {
     "name": "stderr",
     "output_type": "stream",
     "text": [
      "C:\\Users\\Lenovo\\anaconda3\\lib\\site-packages\\sklearn\\base.py:443: UserWarning: X has feature names, but SVC was fitted without feature names\n",
      "  warnings.warn(\n"
     ]
    },
    {
     "data": {
      "text/plain": [
       "array([4.])"
      ]
     },
     "execution_count": 66,
     "metadata": {},
     "output_type": "execute_result"
    }
   ],
   "source": [
    "# As required, generate a csv file for Decision Tree Moled(Trial (1)).\n",
    "Ts_Pred = SVM_model.predict(Ts_df)\n",
    "Final_pre_df = pd.DataFrame(data={'id': Ts_ID['id'], 'rating': Ts_Pred})\n",
    "Final_pre_df.to_csv('Final_pre_df_SVM.csv', index=False)\n",
    "print(Ts_Pred)\n",
    "Final_pre_df.rating.unique()"
   ]
  },
  {
   "cell_type": "markdown",
   "id": "094f1200",
   "metadata": {},
   "source": [
    "# Trial (5) -- Applied Gaussian Naive Bayes (GaussianNB)."
   ]
  },
  {
   "cell_type": "code",
   "execution_count": 67,
   "id": "11417928",
   "metadata": {},
   "outputs": [
    {
     "name": "stdout",
     "output_type": "stream",
     "text": [
      "GaussianNB Train Score is :  0.6783144912641316\n",
      "GaussianNB test Score is :  0.7024793388429752\n",
      "[4. 4. 4. 4. 4. 4. 4. 4. 4. 4. 4. 4. 4. 5. 4. 4. 4. 4. 5. 4. 4. 2. 1. 4.\n",
      " 4. 4. 4. 4. 4. 4. 4. 2. 4. 4. 4. 4. 4. 4. 4. 4. 4. 4. 4. 2. 4. 4. 4. 4.\n",
      " 4. 2. 4. 4. 4. 4. 4. 4. 3. 4. 4. 4. 4. 4. 4. 4. 4. 4. 4. 4. 2. 4. 4. 4.\n",
      " 4. 4. 4. 4. 4. 4. 4. 4. 4. 4. 4. 4. 4. 2. 4. 4. 3. 4. 4. 4. 4. 4. 4. 4.\n",
      " 4. 4. 4. 4. 4. 4. 2. 4. 4. 4. 4. 4. 4. 4. 4. 4. 4. 4. 4. 4. 4. 4. 4. 4.\n",
      " 4.]\n"
     ]
    }
   ],
   "source": [
    "# import the library\n",
    "from sklearn.naive_bayes import GaussianNB\n",
    "\n",
    "model_GaussianNB = GaussianNB(priors=None, var_smoothing=1)\n",
    "model_GaussianNB.fit(xTrain,yTrain)\n",
    "yPred = model_GaussianNB.predict(xTest)\n",
    "\n",
    "#test the accuracy of model on training set\n",
    "print('GaussianNB Train Score is : ' , model_GaussianNB.score(xTrain, yTrain))\n",
    "y_pred_GaussianNB = model_GaussianNB.predict(xTest)\n",
    "\n",
    "#test the accuracy of model on testing set\n",
    "f1_scores_GaussianNB=f1_score(yTest, y_pred_GaussianNB, average='micro')\n",
    "print('GaussianNB test Score is : ' , f1_scores_GaussianNB)\n",
    "\n",
    "print(y_pred_GaussianNB)"
   ]
  },
  {
   "cell_type": "code",
   "execution_count": 68,
   "id": "69605472",
   "metadata": {
    "scrolled": true
   },
   "outputs": [
    {
     "name": "stdout",
     "output_type": "stream",
     "text": [
      "[5. 5. 5. 5. 5. 5. 5. 5. 5. 5. 5. 5. 5. 5. 5. 5. 5. 5. 5. 5. 5. 5. 4. 5.\n",
      " 5. 4. 5. 5. 5. 4. 5. 5. 5. 5. 5. 5. 5. 5. 5. 5. 5. 5. 5. 5. 5. 5. 5. 5.\n",
      " 5. 5. 5. 5. 5. 5. 5. 5. 5. 5. 5. 5. 5. 5. 4. 5. 5. 5. 5. 5. 5. 5. 5. 5.\n",
      " 5. 4. 5. 5. 4. 5. 5. 5. 5. 5. 5. 5. 4. 5. 5. 5. 5. 5. 5. 5. 5. 5. 5. 5.\n",
      " 5. 5. 5. 5. 5. 5. 5. 5. 5. 5. 5. 5. 5. 5. 5. 5. 5. 4. 5. 5. 5. 5. 5. 5.\n",
      " 2. 5. 5. 5. 4. 5. 5. 5. 5. 5. 5. 5. 5. 5. 5. 5. 5. 4. 5. 5. 2. 5. 5. 5.\n",
      " 5. 5. 5. 5. 5. 5. 4. 5. 5. 5. 5. 5. 5. 5. 5. 5. 5. 5. 5. 5. 5. 5. 5. 5.\n",
      " 5. 5. 5. 5. 5. 5. 5. 5. 4. 4. 5. 5. 5. 5. 5. 5. 5. 5. 5. 5. 5. 5. 5. 5.\n",
      " 5. 5. 5. 5. 5. 5. 5. 5. 5. 5. 5. 5. 5. 5. 5. 5. 5. 5. 5. 5. 5. 5. 5. 5.\n",
      " 5. 5. 5. 5. 5. 5. 5. 5. 5. 5. 5. 5. 5. 5. 5. 5. 5. 5. 5. 5. 5. 5. 5. 4.\n",
      " 5. 5. 5. 5. 5. 5. 5. 5. 5. 5. 5. 5. 5. 5. 5. 5. 5. 5. 5. 5. 5. 5. 5. 4.\n",
      " 5. 5. 5. 5. 4. 5. 5. 5. 5. 5. 5. 5. 5. 5. 5. 5. 4. 5. 5. 5. 4. 5. 4. 5.\n",
      " 5. 5. 5. 4. 5. 5. 5. 5. 5. 5. 5. 5. 4. 5. 5. 5. 5. 5. 5. 5. 5. 5. 5. 5.\n",
      " 5. 5. 5. 5. 5. 5. 5. 5. 5. 5. 5. 5. 5. 5. 5. 5. 5. 5. 5. 5. 4. 5. 5. 5.\n",
      " 5. 5. 5. 4. 5. 4. 5. 5. 5. 5. 5. 5. 5. 5. 5. 5. 5. 5. 5. 5. 5. 5. 5. 5.\n",
      " 5. 5. 5. 5. 5. 5. 5. 5. 5. 5. 5. 5. 5. 5. 5. 4. 5. 5. 5. 5. 5. 5. 5. 5.\n",
      " 5. 5. 5. 5. 5. 5. 5. 5. 5. 5. 5. 5. 5. 5. 5. 5. 5. 5. 5. 5. 4. 5. 5. 5.\n",
      " 5. 5. 5. 5. 5. 5. 5. 5. 2. 4. 5. 5. 5. 5. 5. 5. 5. 5. 5. 5. 5. 5. 5. 5.\n",
      " 5. 5. 5. 5. 5. 5. 5. 5. 5. 5. 5. 5. 5. 4. 5. 5. 5. 5. 5. 5. 5. 5. 5. 5.\n",
      " 4. 5. 5. 5. 5. 5. 5. 5. 5. 4. 5. 5. 5. 5. 5. 5. 5. 5. 5. 5. 5. 5. 5.]\n"
     ]
    },
    {
     "name": "stderr",
     "output_type": "stream",
     "text": [
      "C:\\Users\\Lenovo\\anaconda3\\lib\\site-packages\\sklearn\\base.py:443: UserWarning: X has feature names, but GaussianNB was fitted without feature names\n",
      "  warnings.warn(\n"
     ]
    },
    {
     "data": {
      "text/plain": [
       "array([5., 4., 2.])"
      ]
     },
     "execution_count": 68,
     "metadata": {},
     "output_type": "execute_result"
    }
   ],
   "source": [
    "pred_test = model_GaussianNB.predict(Ts_df)\n",
    "pred_df = pd.DataFrame(data={'id': Ts_ID['id'], 'rating': pred_test})\n",
    "pred_df.to_csv('pred_classifier_model_GaussianNB.csv', index=False)\n",
    "print(pred_test)\n",
    "pred_df.rating.unique()"
   ]
  },
  {
   "cell_type": "markdown",
   "id": "8b4e72c1",
   "metadata": {},
   "source": [
    "# Questions\n",
    "### 🌈Why Data Mining is a misnomer? What is another preferred name?\n",
    "* Ans: Data Mining does not mean to dig something and have data from that. It is not the extraction of the data but to find useful knowledge from data by considering certain features and applying different models. According to me, data exploration and analytics would be a another prefer name for data mining.\n",
    "\n",
    "### 🌈 What is the general knowledge discovery process? What is the difference between a data engineer and data scientist/AI engineer?\n",
    "* Ans.The general knowledgle discovery process is a method of finding useful patterns from the data by identifying key features.\n",
    "1. Developing and understanding the application domain. This step includes learning the relevant prior knowledge and the goals of the end user of the discovered knowledge.\n",
    "2. Creating a target data set. Here the data miner selects a subset of variables (attributes) and data points (examples) that will be used to perform discovery tasks. This step usually includes querying the existing data to select the desired subset.\n",
    "3. Data cleaning and preprocessing. This step consists of removing outliers, dealing with noise and missing values in the data, and accounting for time sequence information and known changes.\n",
    "4. Data reduction and projection. This step consists of finding useful attributes by applying dimension reduction and transformation methods, and finding invariant representation of the data.\n",
    "5. Choosing the data mining task. Here the data miner matches the goals defined in Step 1 with a particular DM method, such as classification, regression, clustering, etc.\n",
    "6. Choosing the data mining algorithm. The data miner selects methods to search for patterns in the data and decides which models and parameters of the methods used may be appropriate.\n",
    "7. Data mining. This step generates patterns in a particular representational form, such as classification rules, decision trees, regression models, trends, etc.\n",
    "8. Interpreting mined patterns. Here the analyst performs visualization of the extracted patterns and models, and visualization of the data based on the extracted models.\n",
    "* Ans: Data engineer focused on building the infrastructure to store data, manipulate data that can be available for analysis whereas data scientists perform analysis on the data which is a statistical/mathematical model fitting to the data to find the useful knowledge.\n",
    "\n",
    "### 🌈 In data mining, what is the difference between prediction and categorization?\n",
    "* Ans. Prediction is a type of data mining task that involves using historical data to make predictions about future events or outcomes. For example, predicting whether a customer will buy a product, or whether a machine will break down in the future.\n",
    "* Categorization, on the other hand, involves grouping data into predefined categories or classes based on certain criteria. For example, categorizing customers based on their preferences or interests, or categorizing emails as spam or not spam.\n",
    "* The main difference between prediction and categorization is that prediction involves making specific, quantitative predictions about future events or outcomes, while categorization involves grouping data into broader categories based on certain criteria.\n",
    "\n",
    "### 🌈 Why data science/machine learning is a bad idea in the context of information security?\n",
    "* Ans: According to me, machine learning models can behave well on the type of data/security features they are trained off. A new bug/threat may not be detected by machine learning models which may lead to information loss or informtion leak.\n",
    "* The following are the three most significant security risks:\n",
    "1. Backdoor attack: Disrupt the system's integrity.\n",
    "2. Adversarial sample: An adversarial example is one in which a machine learning model makes an incorrect prediction due to small, purposeful feature changes.\n",
    "3. Information Leak: When information from outside the training dataset is used to generate the model, this is known as data leakage. This new data can allow the model to learn or know something it wouldn't have known otherwise, invalidating the estimated performance of the mode being built.\n",
    "* And also Machine learning applications require large amounts of data, which often includes personal data without explicit consent from people such as clicking online Ads.\n",
    "\n",
    "* This personal information could be disclosed in the event of a data breach and put some people at risk.\n",
    "\n",
    "* There are also techniques in artificial intelligence, such as Deepfake , which can make videos for people who did not do it, which can cause disasters if the imitation character is very important.\n",
    "\n",
    "### 🌈 What is CIA principle and how can we use it to access the security/privacy aspect of the AI system/pipelines?"
   ]
  },
  {
   "cell_type": "markdown",
   "id": "c52cc1af",
   "metadata": {},
   "source": [
    "* Ans.\n",
    "* Confidentiality, Integrity and Availability.\n",
    "* It referred to as the CIA triad, which is a model for guiding information security policy within an organization.\n",
    "1. Confidentiality is a set of rules that limits access to information.\n",
    "\n",
    "2. Integrity is the assurance that the information is trustworthy and accurate.\n",
    "\n",
    "3. Availability is a guarantee of reliable access to the information by authorized people.\n",
    "\n",
    "* The goal of a confidentiality attack is to extract sensitive data from your AI system. Integrity attacks make your AI model make a mistake so quietly.Availability attacks try to completely disable your AI system. You've got security covered if you can protect all of these three.\n",
    "\n",
    "* Loss of confidentiality may lead to disclosure of:\n",
    "    - Personal information\n",
    "    - Proprietary information\n",
    "    - Government classified information\n",
    "* Loss of integrity may lead to :\n",
    "    - Unauthorized transactions\n",
    "    - Wrong execution of software\n",
    "    - Corruption of data\n",
    "* Loss of avialability may lead to :\n",
    "    - Denial of Service\n",
    "    - Loss of Data"
   ]
  },
  {
   "cell_type": "markdown",
   "id": "050c9103",
   "metadata": {},
   "source": [
    "# Another Code "
   ]
  },
  {
   "cell_type": "markdown",
   "id": "699a115a",
   "metadata": {},
   "source": [
    "## With these data, The more we do preprocessing the less score i get, so i will minimize the processing of the data "
   ]
  },
  {
   "cell_type": "code",
   "execution_count": 69,
   "id": "de95afff",
   "metadata": {},
   "outputs": [],
   "source": [
    "#import libraries\n",
    "import warnings \n",
    "import seaborn as sns\n",
    "from sklearn import preprocessing\n",
    "from sklearn.model_selection import train_test_split\n",
    "from sklearn.compose import make_column_selector as selector\n",
    "from sklearn.metrics import confusion_matrix, accuracy_score\n",
    "from sklearn.metrics import roc_auc_score,roc_curve,classification_report,confusion_matrix,plot_confusion_matrix\n",
    "warnings.filterwarnings('ignore') # ignore all warnings Becuase it make the shape of code good \n",
    "sns.set_theme(style=\"ticks\", color_codes=True)"
   ]
  },
  {
   "cell_type": "code",
   "execution_count": 70,
   "id": "594d371a",
   "metadata": {},
   "outputs": [],
   "source": [
    "# We have two datasets to import one for trainig and another for testing in csv formats \n",
    "Tr_df = pd.read_csv(\"D:\\\\DEBI Master\\\\Data Mining\\\\Competition (1)\\\\train_new.csv\")\n",
    "Ts_df = pd.read_csv(\"D:\\\\DEBI Master\\\\Data Mining\\\\Competition (1)\\\\test_new.csv\")"
   ]
  },
  {
   "cell_type": "code",
   "execution_count": 71,
   "id": "fe100d4b",
   "metadata": {},
   "outputs": [],
   "source": [
    "# We will make the processing on the training and testing at the same time \n",
    "Ts_df['rating'] = 0  #we will add rate column in test data with zero values "
   ]
  },
  {
   "cell_type": "code",
   "execution_count": 72,
   "id": "a1b465f9",
   "metadata": {},
   "outputs": [
    {
     "data": {
      "text/html": [
       "<div>\n",
       "<style scoped>\n",
       "    .dataframe tbody tr th:only-of-type {\n",
       "        vertical-align: middle;\n",
       "    }\n",
       "\n",
       "    .dataframe tbody tr th {\n",
       "        vertical-align: top;\n",
       "    }\n",
       "\n",
       "    .dataframe thead th {\n",
       "        text-align: right;\n",
       "    }\n",
       "</style>\n",
       "<table border=\"1\" class=\"dataframe\">\n",
       "  <thead>\n",
       "    <tr style=\"text-align: right;\">\n",
       "      <th></th>\n",
       "      <th>price</th>\n",
       "      <th>retail_price</th>\n",
       "      <th>currency_buyer</th>\n",
       "      <th>units_sold</th>\n",
       "      <th>uses_ad_boosts</th>\n",
       "      <th>rating</th>\n",
       "      <th>rating_count</th>\n",
       "      <th>badges_count</th>\n",
       "      <th>badge_local_product</th>\n",
       "      <th>badge_product_quality</th>\n",
       "      <th>...</th>\n",
       "      <th>merchant_name</th>\n",
       "      <th>merchant_info_subtitle</th>\n",
       "      <th>merchant_rating_count</th>\n",
       "      <th>merchant_rating</th>\n",
       "      <th>merchant_id</th>\n",
       "      <th>merchant_has_profile_picture</th>\n",
       "      <th>merchant_profile_picture</th>\n",
       "      <th>theme</th>\n",
       "      <th>crawl_month</th>\n",
       "      <th>id</th>\n",
       "    </tr>\n",
       "  </thead>\n",
       "  <tbody>\n",
       "    <tr>\n",
       "      <th>0</th>\n",
       "      <td>8.00</td>\n",
       "      <td>7</td>\n",
       "      <td>EUR</td>\n",
       "      <td>10000</td>\n",
       "      <td>1</td>\n",
       "      <td>4.0</td>\n",
       "      <td>1670</td>\n",
       "      <td>0</td>\n",
       "      <td>0</td>\n",
       "      <td>0</td>\n",
       "      <td>...</td>\n",
       "      <td>keepahorse</td>\n",
       "      <td>88 % avis positifs (66,644 notes)</td>\n",
       "      <td>66644</td>\n",
       "      <td>4.137582</td>\n",
       "      <td>577fb2b368116418674befd9</td>\n",
       "      <td>1</td>\n",
       "      <td>https://s3-us-west-1.amazonaws.com/sweeper-pro...</td>\n",
       "      <td>summer</td>\n",
       "      <td>2020-08</td>\n",
       "      <td>272</td>\n",
       "    </tr>\n",
       "    <tr>\n",
       "      <th>1</th>\n",
       "      <td>8.00</td>\n",
       "      <td>7</td>\n",
       "      <td>EUR</td>\n",
       "      <td>1000</td>\n",
       "      <td>0</td>\n",
       "      <td>4.0</td>\n",
       "      <td>843</td>\n",
       "      <td>1</td>\n",
       "      <td>1</td>\n",
       "      <td>0</td>\n",
       "      <td>...</td>\n",
       "      <td>上海铭启电气科技有限公司</td>\n",
       "      <td>91 % avis positifs (25,752 notes)</td>\n",
       "      <td>25752</td>\n",
       "      <td>4.256873</td>\n",
       "      <td>566a3ef17233ff2686443082</td>\n",
       "      <td>0</td>\n",
       "      <td>NaN</td>\n",
       "      <td>summer</td>\n",
       "      <td>2020-08</td>\n",
       "      <td>1515</td>\n",
       "    </tr>\n",
       "    <tr>\n",
       "      <th>2</th>\n",
       "      <td>6.00</td>\n",
       "      <td>34</td>\n",
       "      <td>EUR</td>\n",
       "      <td>100</td>\n",
       "      <td>0</td>\n",
       "      <td>4.0</td>\n",
       "      <td>10</td>\n",
       "      <td>0</td>\n",
       "      <td>0</td>\n",
       "      <td>0</td>\n",
       "      <td>...</td>\n",
       "      <td>zhaodongmei</td>\n",
       "      <td>83 % avis positifs (3,897 notes)</td>\n",
       "      <td>3897</td>\n",
       "      <td>3.928920</td>\n",
       "      <td>5aacd6c1ccf0c83e5a6f3de0</td>\n",
       "      <td>0</td>\n",
       "      <td>NaN</td>\n",
       "      <td>summer</td>\n",
       "      <td>2020-08</td>\n",
       "      <td>940</td>\n",
       "    </tr>\n",
       "    <tr>\n",
       "      <th>3</th>\n",
       "      <td>4.67</td>\n",
       "      <td>4</td>\n",
       "      <td>EUR</td>\n",
       "      <td>100</td>\n",
       "      <td>1</td>\n",
       "      <td>3.0</td>\n",
       "      <td>82</td>\n",
       "      <td>0</td>\n",
       "      <td>0</td>\n",
       "      <td>0</td>\n",
       "      <td>...</td>\n",
       "      <td>pookie0331</td>\n",
       "      <td>87 % avis positifs (7,497 notes)</td>\n",
       "      <td>7497</td>\n",
       "      <td>4.079365</td>\n",
       "      <td>583141fbfef4094e51453d9b</td>\n",
       "      <td>0</td>\n",
       "      <td>NaN</td>\n",
       "      <td>summer</td>\n",
       "      <td>2020-08</td>\n",
       "      <td>309</td>\n",
       "    </tr>\n",
       "    <tr>\n",
       "      <th>4</th>\n",
       "      <td>8.00</td>\n",
       "      <td>11</td>\n",
       "      <td>EUR</td>\n",
       "      <td>1000</td>\n",
       "      <td>0</td>\n",
       "      <td>4.0</td>\n",
       "      <td>127</td>\n",
       "      <td>0</td>\n",
       "      <td>0</td>\n",
       "      <td>0</td>\n",
       "      <td>...</td>\n",
       "      <td>shitongyi12683626</td>\n",
       "      <td>91 % avis positifs (173 notes)</td>\n",
       "      <td>173</td>\n",
       "      <td>4.306358</td>\n",
       "      <td>5d3bc9f8e13a7e654424a4cb</td>\n",
       "      <td>0</td>\n",
       "      <td>NaN</td>\n",
       "      <td>summer</td>\n",
       "      <td>2020-08</td>\n",
       "      <td>226</td>\n",
       "    </tr>\n",
       "  </tbody>\n",
       "</table>\n",
       "<p>5 rows × 34 columns</p>\n",
       "</div>"
      ],
      "text/plain": [
       "   price  retail_price currency_buyer  units_sold  uses_ad_boosts  rating  \\\n",
       "0   8.00             7            EUR       10000               1     4.0   \n",
       "1   8.00             7            EUR        1000               0     4.0   \n",
       "2   6.00            34            EUR         100               0     4.0   \n",
       "3   4.67             4            EUR         100               1     3.0   \n",
       "4   8.00            11            EUR        1000               0     4.0   \n",
       "\n",
       "   rating_count  badges_count  badge_local_product  badge_product_quality  \\\n",
       "0          1670             0                    0                      0   \n",
       "1           843             1                    1                      0   \n",
       "2            10             0                    0                      0   \n",
       "3            82             0                    0                      0   \n",
       "4           127             0                    0                      0   \n",
       "\n",
       "   ...      merchant_name             merchant_info_subtitle  \\\n",
       "0  ...         keepahorse  88 % avis positifs (66,644 notes)   \n",
       "1  ...       上海铭启电气科技有限公司  91 % avis positifs (25,752 notes)   \n",
       "2  ...        zhaodongmei   83 % avis positifs (3,897 notes)   \n",
       "3  ...         pookie0331   87 % avis positifs (7,497 notes)   \n",
       "4  ...  shitongyi12683626     91 % avis positifs (173 notes)   \n",
       "\n",
       "  merchant_rating_count merchant_rating               merchant_id  \\\n",
       "0                 66644        4.137582  577fb2b368116418674befd9   \n",
       "1                 25752        4.256873  566a3ef17233ff2686443082   \n",
       "2                  3897        3.928920  5aacd6c1ccf0c83e5a6f3de0   \n",
       "3                  7497        4.079365  583141fbfef4094e51453d9b   \n",
       "4                   173        4.306358  5d3bc9f8e13a7e654424a4cb   \n",
       "\n",
       "  merchant_has_profile_picture  \\\n",
       "0                            1   \n",
       "1                            0   \n",
       "2                            0   \n",
       "3                            0   \n",
       "4                            0   \n",
       "\n",
       "                            merchant_profile_picture   theme  crawl_month  \\\n",
       "0  https://s3-us-west-1.amazonaws.com/sweeper-pro...  summer      2020-08   \n",
       "1                                                NaN  summer      2020-08   \n",
       "2                                                NaN  summer      2020-08   \n",
       "3                                                NaN  summer      2020-08   \n",
       "4                                                NaN  summer      2020-08   \n",
       "\n",
       "     id  \n",
       "0   272  \n",
       "1  1515  \n",
       "2   940  \n",
       "3   309  \n",
       "4   226  \n",
       "\n",
       "[5 rows x 34 columns]"
      ]
     },
     "execution_count": 72,
     "metadata": {},
     "output_type": "execute_result"
    }
   ],
   "source": [
    "#We will concate the two data together \n",
    "New_data= pd.concat([Tr_df,Ts_df],ignore_index=True, sort=False)\n",
    "New_data.head()"
   ]
  },
  {
   "cell_type": "code",
   "execution_count": 73,
   "id": "962ca1d0",
   "metadata": {},
   "outputs": [
    {
     "data": {
      "text/plain": [
       "(1573, 34)"
      ]
     },
     "execution_count": 73,
     "metadata": {},
     "output_type": "execute_result"
    }
   ],
   "source": [
    "New_data.shape"
   ]
  },
  {
   "cell_type": "markdown",
   "id": "e05602e0",
   "metadata": {},
   "source": [
    "* Things that will be done:\n",
    "1. There is an id that cannot be used for classificaiton\n",
    "2. merchant_id also cannot be used for classificaiton\n",
    "3. Rating is our class label\n",
    "4. There are some columns have unique value that not effect in our data(Also has only one value)\n",
    "5. There are some categorical data must be converted to numerical value to be able to deal with them"
   ]
  },
  {
   "cell_type": "code",
   "execution_count": 74,
   "id": "da3496c3",
   "metadata": {
    "scrolled": true
   },
   "outputs": [
    {
     "data": {
      "text/plain": [
       "price                            127\n",
       "retail_price                     104\n",
       "currency_buyer                     1\n",
       "units_sold                        15\n",
       "uses_ad_boosts                     2\n",
       "rating                             7\n",
       "rating_count                     761\n",
       "badges_count                       4\n",
       "badge_local_product                2\n",
       "badge_product_quality              2\n",
       "badge_fast_shipping                2\n",
       "tags                            1230\n",
       "product_color                    101\n",
       "product_variation_size_id        106\n",
       "product_variation_inventory       48\n",
       "shipping_option_name              15\n",
       "shipping_option_price              8\n",
       "shipping_is_express                2\n",
       "countries_shipped_to              94\n",
       "inventory_total                   10\n",
       "has_urgency_banner                 1\n",
       "urgency_text                       2\n",
       "origin_country                     6\n",
       "merchant_title                   958\n",
       "merchant_name                    957\n",
       "merchant_info_subtitle          1058\n",
       "merchant_rating_count            917\n",
       "merchant_rating                  952\n",
       "merchant_id                      958\n",
       "merchant_has_profile_picture       2\n",
       "merchant_profile_picture         125\n",
       "theme                              1\n",
       "crawl_month                        1\n",
       "id                              1573\n",
       "dtype: int64"
      ]
     },
     "execution_count": 74,
     "metadata": {},
     "output_type": "execute_result"
    }
   ],
   "source": [
    "New_data.nunique()"
   ]
  },
  {
   "cell_type": "markdown",
   "id": "17b91769",
   "metadata": {},
   "source": [
    "# As we see there are columns that have only one value and few values "
   ]
  },
  {
   "cell_type": "code",
   "execution_count": 75,
   "id": "67d22460",
   "metadata": {},
   "outputs": [
    {
     "name": "stdout",
     "output_type": "stream",
     "text": [
      "currency_buyer\n",
      "has_urgency_banner\n",
      "theme\n",
      "crawl_month\n"
     ]
    }
   ],
   "source": [
    "#Find columns that have one value\n",
    "for col in New_data.columns:\n",
    "    if New_data[col].value_counts().shape == (1,):\n",
    "        print(col)"
   ]
  },
  {
   "cell_type": "code",
   "execution_count": 76,
   "id": "8bbb4307",
   "metadata": {},
   "outputs": [
    {
     "name": "stdout",
     "output_type": "stream",
     "text": [
      "badges_count\n",
      "badge_local_product\n",
      "badge_product_quality\n",
      "badge_fast_shipping\n",
      "shipping_is_express\n"
     ]
    }
   ],
   "source": [
    "#Find columns that have Few values\n",
    "for col_name in New_data.columns:\n",
    "    if New_data[col_name].value_counts().shape != (1,) and (New_data[col_name].value_counts().shape[0] < 5)and ((New_data[col_name].value_counts().iloc[0] - New_data[col_name].value_counts().iloc[1]) > 1200):\n",
    "        print(col_name)"
   ]
  },
  {
   "cell_type": "code",
   "execution_count": 77,
   "id": "78cce63d",
   "metadata": {},
   "outputs": [
    {
     "data": {
      "text/plain": [
       "array(['merchant_title', 'merchant_name', 'merchant_info_subtitle',\n",
       "       'merchant_rating_count', 'merchant_rating', 'merchant_id',\n",
       "       'merchant_has_profile_picture', 'merchant_profile_picture'],\n",
       "      dtype=object)"
      ]
     },
     "execution_count": 77,
     "metadata": {},
     "output_type": "execute_result"
    }
   ],
   "source": [
    "#Search about merchant column\n",
    "#I will drop all features about merchant except  merchant_rating_count,and merchant_ratings. \n",
    "New_data.loc[:,New_data.columns.str.startswith(\"merchant\")].columns.values "
   ]
  },
  {
   "cell_type": "code",
   "execution_count": 78,
   "id": "360f2fcb",
   "metadata": {},
   "outputs": [
    {
     "data": {
      "text/plain": [
       "Index(['badges_count', 'badge_local_product', 'badge_product_quality',\n",
       "       'badge_fast_shipping'],\n",
       "      dtype='object')"
      ]
     },
     "execution_count": 78,
     "metadata": {},
     "output_type": "execute_result"
    }
   ],
   "source": [
    "#Search about Badges Columns\n",
    "New_data.loc[:,New_data.columns.str.startswith('badge')].columns"
   ]
  },
  {
   "cell_type": "code",
   "execution_count": 79,
   "id": "cdcf6491",
   "metadata": {},
   "outputs": [
    {
     "data": {
      "text/plain": [
       "Index(['product_color', 'product_variation_size_id',\n",
       "       'product_variation_inventory'],\n",
       "      dtype='object')"
      ]
     },
     "execution_count": 79,
     "metadata": {},
     "output_type": "execute_result"
    }
   ],
   "source": [
    "#Search about product information\n",
    "New_data.loc[:,New_data.columns.str.startswith('product')].columns"
   ]
  },
  {
   "cell_type": "code",
   "execution_count": 80,
   "id": "86c96f88",
   "metadata": {},
   "outputs": [],
   "source": [
    "#Drop Unnecessary Features\n",
    "New_data = New_data.drop([ 'currency_buyer','theme', 'urgency_text', 'crawl_month','merchant_id',\n",
    "                          'merchant_has_profile_picture', 'merchant_profile_picture','merchant_title' ,\n",
    "                          'merchant_name','shipping_option_name', 'merchant_info_subtitle'], axis =1) "
   ]
  },
  {
   "cell_type": "code",
   "execution_count": 81,
   "id": "7867cacd",
   "metadata": {},
   "outputs": [
    {
     "data": {
      "text/html": [
       "<div>\n",
       "<style scoped>\n",
       "    .dataframe tbody tr th:only-of-type {\n",
       "        vertical-align: middle;\n",
       "    }\n",
       "\n",
       "    .dataframe tbody tr th {\n",
       "        vertical-align: top;\n",
       "    }\n",
       "\n",
       "    .dataframe thead th {\n",
       "        text-align: right;\n",
       "    }\n",
       "</style>\n",
       "<table border=\"1\" class=\"dataframe\">\n",
       "  <thead>\n",
       "    <tr style=\"text-align: right;\">\n",
       "      <th></th>\n",
       "      <th>price</th>\n",
       "      <th>retail_price</th>\n",
       "      <th>units_sold</th>\n",
       "      <th>uses_ad_boosts</th>\n",
       "      <th>rating</th>\n",
       "      <th>rating_count</th>\n",
       "      <th>badges_count</th>\n",
       "      <th>badge_local_product</th>\n",
       "      <th>badge_product_quality</th>\n",
       "      <th>badge_fast_shipping</th>\n",
       "      <th>...</th>\n",
       "      <th>product_variation_inventory</th>\n",
       "      <th>shipping_option_price</th>\n",
       "      <th>shipping_is_express</th>\n",
       "      <th>countries_shipped_to</th>\n",
       "      <th>inventory_total</th>\n",
       "      <th>has_urgency_banner</th>\n",
       "      <th>origin_country</th>\n",
       "      <th>merchant_rating_count</th>\n",
       "      <th>merchant_rating</th>\n",
       "      <th>id</th>\n",
       "    </tr>\n",
       "  </thead>\n",
       "  <tbody>\n",
       "    <tr>\n",
       "      <th>0</th>\n",
       "      <td>8.00</td>\n",
       "      <td>7</td>\n",
       "      <td>10000</td>\n",
       "      <td>1</td>\n",
       "      <td>4.0</td>\n",
       "      <td>1670</td>\n",
       "      <td>0</td>\n",
       "      <td>0</td>\n",
       "      <td>0</td>\n",
       "      <td>0</td>\n",
       "      <td>...</td>\n",
       "      <td>50</td>\n",
       "      <td>3</td>\n",
       "      <td>0</td>\n",
       "      <td>30</td>\n",
       "      <td>50</td>\n",
       "      <td>NaN</td>\n",
       "      <td>CN</td>\n",
       "      <td>66644</td>\n",
       "      <td>4.137582</td>\n",
       "      <td>272</td>\n",
       "    </tr>\n",
       "    <tr>\n",
       "      <th>1</th>\n",
       "      <td>8.00</td>\n",
       "      <td>7</td>\n",
       "      <td>1000</td>\n",
       "      <td>0</td>\n",
       "      <td>4.0</td>\n",
       "      <td>843</td>\n",
       "      <td>1</td>\n",
       "      <td>1</td>\n",
       "      <td>0</td>\n",
       "      <td>0</td>\n",
       "      <td>...</td>\n",
       "      <td>50</td>\n",
       "      <td>3</td>\n",
       "      <td>0</td>\n",
       "      <td>37</td>\n",
       "      <td>50</td>\n",
       "      <td>NaN</td>\n",
       "      <td>CN</td>\n",
       "      <td>25752</td>\n",
       "      <td>4.256873</td>\n",
       "      <td>1515</td>\n",
       "    </tr>\n",
       "    <tr>\n",
       "      <th>2</th>\n",
       "      <td>6.00</td>\n",
       "      <td>34</td>\n",
       "      <td>100</td>\n",
       "      <td>0</td>\n",
       "      <td>4.0</td>\n",
       "      <td>10</td>\n",
       "      <td>0</td>\n",
       "      <td>0</td>\n",
       "      <td>0</td>\n",
       "      <td>0</td>\n",
       "      <td>...</td>\n",
       "      <td>50</td>\n",
       "      <td>2</td>\n",
       "      <td>0</td>\n",
       "      <td>41</td>\n",
       "      <td>50</td>\n",
       "      <td>NaN</td>\n",
       "      <td>CN</td>\n",
       "      <td>3897</td>\n",
       "      <td>3.928920</td>\n",
       "      <td>940</td>\n",
       "    </tr>\n",
       "    <tr>\n",
       "      <th>3</th>\n",
       "      <td>4.67</td>\n",
       "      <td>4</td>\n",
       "      <td>100</td>\n",
       "      <td>1</td>\n",
       "      <td>3.0</td>\n",
       "      <td>82</td>\n",
       "      <td>0</td>\n",
       "      <td>0</td>\n",
       "      <td>0</td>\n",
       "      <td>0</td>\n",
       "      <td>...</td>\n",
       "      <td>5</td>\n",
       "      <td>1</td>\n",
       "      <td>0</td>\n",
       "      <td>25</td>\n",
       "      <td>50</td>\n",
       "      <td>NaN</td>\n",
       "      <td>CN</td>\n",
       "      <td>7497</td>\n",
       "      <td>4.079365</td>\n",
       "      <td>309</td>\n",
       "    </tr>\n",
       "    <tr>\n",
       "      <th>4</th>\n",
       "      <td>8.00</td>\n",
       "      <td>11</td>\n",
       "      <td>1000</td>\n",
       "      <td>0</td>\n",
       "      <td>4.0</td>\n",
       "      <td>127</td>\n",
       "      <td>0</td>\n",
       "      <td>0</td>\n",
       "      <td>0</td>\n",
       "      <td>0</td>\n",
       "      <td>...</td>\n",
       "      <td>50</td>\n",
       "      <td>3</td>\n",
       "      <td>0</td>\n",
       "      <td>15</td>\n",
       "      <td>50</td>\n",
       "      <td>1.0</td>\n",
       "      <td>CN</td>\n",
       "      <td>173</td>\n",
       "      <td>4.306358</td>\n",
       "      <td>226</td>\n",
       "    </tr>\n",
       "  </tbody>\n",
       "</table>\n",
       "<p>5 rows × 23 columns</p>\n",
       "</div>"
      ],
      "text/plain": [
       "   price  retail_price  units_sold  uses_ad_boosts  rating  rating_count  \\\n",
       "0   8.00             7       10000               1     4.0          1670   \n",
       "1   8.00             7        1000               0     4.0           843   \n",
       "2   6.00            34         100               0     4.0            10   \n",
       "3   4.67             4         100               1     3.0            82   \n",
       "4   8.00            11        1000               0     4.0           127   \n",
       "\n",
       "   badges_count  badge_local_product  badge_product_quality  \\\n",
       "0             0                    0                      0   \n",
       "1             1                    1                      0   \n",
       "2             0                    0                      0   \n",
       "3             0                    0                      0   \n",
       "4             0                    0                      0   \n",
       "\n",
       "   badge_fast_shipping  ... product_variation_inventory shipping_option_price  \\\n",
       "0                    0  ...                          50                     3   \n",
       "1                    0  ...                          50                     3   \n",
       "2                    0  ...                          50                     2   \n",
       "3                    0  ...                           5                     1   \n",
       "4                    0  ...                          50                     3   \n",
       "\n",
       "  shipping_is_express  countries_shipped_to  inventory_total  \\\n",
       "0                   0                    30               50   \n",
       "1                   0                    37               50   \n",
       "2                   0                    41               50   \n",
       "3                   0                    25               50   \n",
       "4                   0                    15               50   \n",
       "\n",
       "   has_urgency_banner  origin_country  merchant_rating_count  merchant_rating  \\\n",
       "0                 NaN              CN                  66644         4.137582   \n",
       "1                 NaN              CN                  25752         4.256873   \n",
       "2                 NaN              CN                   3897         3.928920   \n",
       "3                 NaN              CN                   7497         4.079365   \n",
       "4                 1.0              CN                    173         4.306358   \n",
       "\n",
       "     id  \n",
       "0   272  \n",
       "1  1515  \n",
       "2   940  \n",
       "3   309  \n",
       "4   226  \n",
       "\n",
       "[5 rows x 23 columns]"
      ]
     },
     "execution_count": 81,
     "metadata": {},
     "output_type": "execute_result"
    }
   ],
   "source": [
    "New_data.head()"
   ]
  },
  {
   "cell_type": "code",
   "execution_count": 82,
   "id": "36065504",
   "metadata": {},
   "outputs": [],
   "source": [
    "# Make the id column as index for the dataframe\n",
    "New_data=New_data.set_index('id')"
   ]
  },
  {
   "cell_type": "code",
   "execution_count": 83,
   "id": "69c876bc",
   "metadata": {},
   "outputs": [
    {
     "data": {
      "text/html": [
       "<div>\n",
       "<style scoped>\n",
       "    .dataframe tbody tr th:only-of-type {\n",
       "        vertical-align: middle;\n",
       "    }\n",
       "\n",
       "    .dataframe tbody tr th {\n",
       "        vertical-align: top;\n",
       "    }\n",
       "\n",
       "    .dataframe thead th {\n",
       "        text-align: right;\n",
       "    }\n",
       "</style>\n",
       "<table border=\"1\" class=\"dataframe\">\n",
       "  <thead>\n",
       "    <tr style=\"text-align: right;\">\n",
       "      <th></th>\n",
       "      <th>price</th>\n",
       "      <th>retail_price</th>\n",
       "      <th>units_sold</th>\n",
       "      <th>uses_ad_boosts</th>\n",
       "      <th>rating</th>\n",
       "      <th>rating_count</th>\n",
       "      <th>badges_count</th>\n",
       "      <th>badge_local_product</th>\n",
       "      <th>badge_product_quality</th>\n",
       "      <th>badge_fast_shipping</th>\n",
       "      <th>...</th>\n",
       "      <th>product_variation_size_id</th>\n",
       "      <th>product_variation_inventory</th>\n",
       "      <th>shipping_option_price</th>\n",
       "      <th>shipping_is_express</th>\n",
       "      <th>countries_shipped_to</th>\n",
       "      <th>inventory_total</th>\n",
       "      <th>has_urgency_banner</th>\n",
       "      <th>origin_country</th>\n",
       "      <th>merchant_rating_count</th>\n",
       "      <th>merchant_rating</th>\n",
       "    </tr>\n",
       "    <tr>\n",
       "      <th>id</th>\n",
       "      <th></th>\n",
       "      <th></th>\n",
       "      <th></th>\n",
       "      <th></th>\n",
       "      <th></th>\n",
       "      <th></th>\n",
       "      <th></th>\n",
       "      <th></th>\n",
       "      <th></th>\n",
       "      <th></th>\n",
       "      <th></th>\n",
       "      <th></th>\n",
       "      <th></th>\n",
       "      <th></th>\n",
       "      <th></th>\n",
       "      <th></th>\n",
       "      <th></th>\n",
       "      <th></th>\n",
       "      <th></th>\n",
       "      <th></th>\n",
       "      <th></th>\n",
       "    </tr>\n",
       "  </thead>\n",
       "  <tbody>\n",
       "    <tr>\n",
       "      <th>272</th>\n",
       "      <td>8.00</td>\n",
       "      <td>7</td>\n",
       "      <td>10000</td>\n",
       "      <td>1</td>\n",
       "      <td>4.0</td>\n",
       "      <td>1670</td>\n",
       "      <td>0</td>\n",
       "      <td>0</td>\n",
       "      <td>0</td>\n",
       "      <td>0</td>\n",
       "      <td>...</td>\n",
       "      <td>M</td>\n",
       "      <td>50</td>\n",
       "      <td>3</td>\n",
       "      <td>0</td>\n",
       "      <td>30</td>\n",
       "      <td>50</td>\n",
       "      <td>NaN</td>\n",
       "      <td>CN</td>\n",
       "      <td>66644</td>\n",
       "      <td>4.137582</td>\n",
       "    </tr>\n",
       "    <tr>\n",
       "      <th>1515</th>\n",
       "      <td>8.00</td>\n",
       "      <td>7</td>\n",
       "      <td>1000</td>\n",
       "      <td>0</td>\n",
       "      <td>4.0</td>\n",
       "      <td>843</td>\n",
       "      <td>1</td>\n",
       "      <td>1</td>\n",
       "      <td>0</td>\n",
       "      <td>0</td>\n",
       "      <td>...</td>\n",
       "      <td>L</td>\n",
       "      <td>50</td>\n",
       "      <td>3</td>\n",
       "      <td>0</td>\n",
       "      <td>37</td>\n",
       "      <td>50</td>\n",
       "      <td>NaN</td>\n",
       "      <td>CN</td>\n",
       "      <td>25752</td>\n",
       "      <td>4.256873</td>\n",
       "    </tr>\n",
       "    <tr>\n",
       "      <th>940</th>\n",
       "      <td>6.00</td>\n",
       "      <td>34</td>\n",
       "      <td>100</td>\n",
       "      <td>0</td>\n",
       "      <td>4.0</td>\n",
       "      <td>10</td>\n",
       "      <td>0</td>\n",
       "      <td>0</td>\n",
       "      <td>0</td>\n",
       "      <td>0</td>\n",
       "      <td>...</td>\n",
       "      <td>L</td>\n",
       "      <td>50</td>\n",
       "      <td>2</td>\n",
       "      <td>0</td>\n",
       "      <td>41</td>\n",
       "      <td>50</td>\n",
       "      <td>NaN</td>\n",
       "      <td>CN</td>\n",
       "      <td>3897</td>\n",
       "      <td>3.928920</td>\n",
       "    </tr>\n",
       "    <tr>\n",
       "      <th>309</th>\n",
       "      <td>4.67</td>\n",
       "      <td>4</td>\n",
       "      <td>100</td>\n",
       "      <td>1</td>\n",
       "      <td>3.0</td>\n",
       "      <td>82</td>\n",
       "      <td>0</td>\n",
       "      <td>0</td>\n",
       "      <td>0</td>\n",
       "      <td>0</td>\n",
       "      <td>...</td>\n",
       "      <td>XS</td>\n",
       "      <td>5</td>\n",
       "      <td>1</td>\n",
       "      <td>0</td>\n",
       "      <td>25</td>\n",
       "      <td>50</td>\n",
       "      <td>NaN</td>\n",
       "      <td>CN</td>\n",
       "      <td>7497</td>\n",
       "      <td>4.079365</td>\n",
       "    </tr>\n",
       "    <tr>\n",
       "      <th>226</th>\n",
       "      <td>8.00</td>\n",
       "      <td>11</td>\n",
       "      <td>1000</td>\n",
       "      <td>0</td>\n",
       "      <td>4.0</td>\n",
       "      <td>127</td>\n",
       "      <td>0</td>\n",
       "      <td>0</td>\n",
       "      <td>0</td>\n",
       "      <td>0</td>\n",
       "      <td>...</td>\n",
       "      <td>S</td>\n",
       "      <td>50</td>\n",
       "      <td>3</td>\n",
       "      <td>0</td>\n",
       "      <td>15</td>\n",
       "      <td>50</td>\n",
       "      <td>1.0</td>\n",
       "      <td>CN</td>\n",
       "      <td>173</td>\n",
       "      <td>4.306358</td>\n",
       "    </tr>\n",
       "  </tbody>\n",
       "</table>\n",
       "<p>5 rows × 22 columns</p>\n",
       "</div>"
      ],
      "text/plain": [
       "      price  retail_price  units_sold  uses_ad_boosts  rating  rating_count  \\\n",
       "id                                                                            \n",
       "272    8.00             7       10000               1     4.0          1670   \n",
       "1515   8.00             7        1000               0     4.0           843   \n",
       "940    6.00            34         100               0     4.0            10   \n",
       "309    4.67             4         100               1     3.0            82   \n",
       "226    8.00            11        1000               0     4.0           127   \n",
       "\n",
       "      badges_count  badge_local_product  badge_product_quality  \\\n",
       "id                                                               \n",
       "272              0                    0                      0   \n",
       "1515             1                    1                      0   \n",
       "940              0                    0                      0   \n",
       "309              0                    0                      0   \n",
       "226              0                    0                      0   \n",
       "\n",
       "      badge_fast_shipping  ... product_variation_size_id  \\\n",
       "id                         ...                             \n",
       "272                     0  ...                         M   \n",
       "1515                    0  ...                         L   \n",
       "940                     0  ...                         L   \n",
       "309                     0  ...                        XS   \n",
       "226                     0  ...                         S   \n",
       "\n",
       "     product_variation_inventory shipping_option_price  shipping_is_express  \\\n",
       "id                                                                            \n",
       "272                           50                     3                    0   \n",
       "1515                          50                     3                    0   \n",
       "940                           50                     2                    0   \n",
       "309                            5                     1                    0   \n",
       "226                           50                     3                    0   \n",
       "\n",
       "      countries_shipped_to  inventory_total  has_urgency_banner  \\\n",
       "id                                                                \n",
       "272                     30               50                 NaN   \n",
       "1515                    37               50                 NaN   \n",
       "940                     41               50                 NaN   \n",
       "309                     25               50                 NaN   \n",
       "226                     15               50                 1.0   \n",
       "\n",
       "      origin_country  merchant_rating_count merchant_rating  \n",
       "id                                                           \n",
       "272               CN                  66644        4.137582  \n",
       "1515              CN                  25752        4.256873  \n",
       "940               CN                   3897        3.928920  \n",
       "309               CN                   7497        4.079365  \n",
       "226               CN                    173        4.306358  \n",
       "\n",
       "[5 rows x 22 columns]"
      ]
     },
     "execution_count": 83,
     "metadata": {},
     "output_type": "execute_result"
    }
   ],
   "source": [
    "New_data.head()"
   ]
  },
  {
   "cell_type": "code",
   "execution_count": 84,
   "id": "325d52d6",
   "metadata": {},
   "outputs": [
    {
     "data": {
      "text/plain": [
       "price                             0\n",
       "retail_price                      0\n",
       "units_sold                        0\n",
       "uses_ad_boosts                    0\n",
       "rating                            0\n",
       "rating_count                      0\n",
       "badges_count                      0\n",
       "badge_local_product               0\n",
       "badge_product_quality             0\n",
       "badge_fast_shipping               0\n",
       "tags                              0\n",
       "product_color                    41\n",
       "product_variation_size_id        14\n",
       "product_variation_inventory       0\n",
       "shipping_option_price             0\n",
       "shipping_is_express               0\n",
       "countries_shipped_to              0\n",
       "inventory_total                   0\n",
       "has_urgency_banner             1100\n",
       "origin_country                   17\n",
       "merchant_rating_count             0\n",
       "merchant_rating                   0\n",
       "dtype: int64"
      ]
     },
     "execution_count": 84,
     "metadata": {},
     "output_type": "execute_result"
    }
   ],
   "source": [
    "New_data.isnull().sum() #check the null values of the columns "
   ]
  },
  {
   "cell_type": "code",
   "execution_count": 85,
   "id": "48e77288",
   "metadata": {},
   "outputs": [],
   "source": [
    "#becouse (has_urgency_banner)has 70 % of null value I will drop it\n",
    "New_data.drop(columns = 'has_urgency_banner', axis = 1, inplace = True)"
   ]
  },
  {
   "cell_type": "markdown",
   "id": "97f856db",
   "metadata": {},
   "source": [
    "# For Tags column"
   ]
  },
  {
   "cell_type": "code",
   "execution_count": 86,
   "id": "b26546b1",
   "metadata": {},
   "outputs": [],
   "source": [
    "#see what is count of every word on tags \n",
    "from wordcloud import WordCloud, STOPWORDS\n",
    "from nltk.tokenize import word_tokenize\n",
    "#This fun to filter sentances\n",
    "def remove_stopwords(text):\n",
    "    text_tokens = word_tokenize(text)\n",
    "    tokens_without_sw = [word for word in text_tokens if not word in STOPWORDS]\n",
    "    filtered_sentence = (\" \").join(tokens_without_sw)\n",
    "    return filtered_sentence"
   ]
  },
  {
   "cell_type": "code",
   "execution_count": 87,
   "id": "481f55ee",
   "metadata": {},
   "outputs": [
    {
     "name": "stderr",
     "output_type": "stream",
     "text": [
      "[nltk_data] Downloading package punkt to\n",
      "[nltk_data]     C:\\Users\\Lenovo\\AppData\\Roaming\\nltk_data...\n",
      "[nltk_data]   Package punkt is already up-to-date!\n"
     ]
    },
    {
     "data": {
      "text/plain": [
       "True"
      ]
     },
     "execution_count": 87,
     "metadata": {},
     "output_type": "execute_result"
    }
   ],
   "source": [
    "import nltk\n",
    "nltk.download('punkt')"
   ]
  },
  {
   "cell_type": "code",
   "execution_count": 88,
   "id": "8b7b6dee",
   "metadata": {},
   "outputs": [],
   "source": [
    "New_data['tags']=New_data['tags'].apply(remove_stopwords) #Apply the fun. on the column tags"
   ]
  },
  {
   "cell_type": "code",
   "execution_count": 89,
   "id": "44119517",
   "metadata": {},
   "outputs": [
    {
     "data": {
      "text/html": [
       "<div>\n",
       "<style scoped>\n",
       "    .dataframe tbody tr th:only-of-type {\n",
       "        vertical-align: middle;\n",
       "    }\n",
       "\n",
       "    .dataframe tbody tr th {\n",
       "        vertical-align: top;\n",
       "    }\n",
       "\n",
       "    .dataframe thead th {\n",
       "        text-align: right;\n",
       "    }\n",
       "</style>\n",
       "<table border=\"1\" class=\"dataframe\">\n",
       "  <thead>\n",
       "    <tr style=\"text-align: right;\">\n",
       "      <th></th>\n",
       "      <th>0</th>\n",
       "    </tr>\n",
       "  </thead>\n",
       "  <tbody>\n",
       "    <tr>\n",
       "      <th>,</th>\n",
       "      <td>25750</td>\n",
       "    </tr>\n",
       "    <tr>\n",
       "      <th>women</th>\n",
       "      <td>3323</td>\n",
       "    </tr>\n",
       "    <tr>\n",
       "      <th>fashion</th>\n",
       "      <td>2807</td>\n",
       "    </tr>\n",
       "    <tr>\n",
       "      <th>dress</th>\n",
       "      <td>2719</td>\n",
       "    </tr>\n",
       "    <tr>\n",
       "      <th>summer</th>\n",
       "      <td>1872</td>\n",
       "    </tr>\n",
       "    <tr>\n",
       "      <th>'s</th>\n",
       "      <td>1462</td>\n",
       "    </tr>\n",
       "    <tr>\n",
       "      <th>casual</th>\n",
       "      <td>1221</td>\n",
       "    </tr>\n",
       "    <tr>\n",
       "      <th>tops</th>\n",
       "      <td>835</td>\n",
       "    </tr>\n",
       "    <tr>\n",
       "      <th>sleeveless</th>\n",
       "      <td>835</td>\n",
       "    </tr>\n",
       "    <tr>\n",
       "      <th>shorts</th>\n",
       "      <td>744</td>\n",
       "    </tr>\n",
       "    <tr>\n",
       "      <th>plus</th>\n",
       "      <td>707</td>\n",
       "    </tr>\n",
       "    <tr>\n",
       "      <th>size</th>\n",
       "      <td>706</td>\n",
       "    </tr>\n",
       "    <tr>\n",
       "      <th>top</th>\n",
       "      <td>599</td>\n",
       "    </tr>\n",
       "    <tr>\n",
       "      <th>beach</th>\n",
       "      <td>593</td>\n",
       "    </tr>\n",
       "    <tr>\n",
       "      <th>tank</th>\n",
       "      <td>583</td>\n",
       "    </tr>\n",
       "    <tr>\n",
       "      <th>shirt</th>\n",
       "      <td>572</td>\n",
       "    </tr>\n",
       "    <tr>\n",
       "      <th>short</th>\n",
       "      <td>531</td>\n",
       "    </tr>\n",
       "    <tr>\n",
       "      <th>sexy</th>\n",
       "      <td>517</td>\n",
       "    </tr>\n",
       "    <tr>\n",
       "      <th>print</th>\n",
       "      <td>498</td>\n",
       "    </tr>\n",
       "    <tr>\n",
       "      <th>pants</th>\n",
       "      <td>496</td>\n",
       "    </tr>\n",
       "  </tbody>\n",
       "</table>\n",
       "</div>"
      ],
      "text/plain": [
       "                0\n",
       ",           25750\n",
       "women        3323\n",
       "fashion      2807\n",
       "dress        2719\n",
       "summer       1872\n",
       "'s           1462\n",
       "casual       1221\n",
       "tops          835\n",
       "sleeveless    835\n",
       "shorts        744\n",
       "plus          707\n",
       "size          706\n",
       "top           599\n",
       "beach         593\n",
       "tank          583\n",
       "shirt         572\n",
       "short         531\n",
       "sexy          517\n",
       "print         498\n",
       "pants         496"
      ]
     },
     "execution_count": 89,
     "metadata": {},
     "output_type": "execute_result"
    }
   ],
   "source": [
    "from collections import Counter\n",
    "results = Counter() # To count the most repeated words \n",
    "New_data['tags'].str.lower().str.split().apply(results.update)\n",
    "counter_df = pd.DataFrame.from_dict(results, orient='index') #Create dataframe for most repeated value with its count\n",
    "counter_df.sort_values(by=0, axis=0, ascending=False).head(20)"
   ]
  },
  {
   "cell_type": "code",
   "execution_count": 90,
   "id": "2cd19e3a",
   "metadata": {},
   "outputs": [],
   "source": [
    "#list for the most words repeated\n",
    "bag_of_words= ['women',\"fashion\",'dress','summer','casual','tops','sleeveless','shorts','plus','size','top','beach','print',\n",
    "                 'shirt','tank','shirt','short','sexy','print','pants']\n",
    "\n",
    "#Add new columns that have most popular tags then drop column *tags* and conver to 0 or 1\n",
    "for word in bag_of_words:\n",
    "    \n",
    "    New_data[\"tag_\"+word] = New_data.tags.str.lower().str.contains(word).astype(int).astype(str)"
   ]
  },
  {
   "cell_type": "code",
   "execution_count": 91,
   "id": "fc86d278",
   "metadata": {},
   "outputs": [],
   "source": [
    "#drop tags columns \n",
    "New_data = New_data.drop(['tags'], axis =1) "
   ]
  },
  {
   "cell_type": "markdown",
   "id": "ec152243",
   "metadata": {},
   "source": [
    "# For product_color"
   ]
  },
  {
   "cell_type": "code",
   "execution_count": 92,
   "id": "2cd58ce7",
   "metadata": {},
   "outputs": [],
   "source": [
    "#summrise the colors that have the same meaning \n",
    "change_color = {'Black' : 'black','coolblack': 'black','White': 'white','offwhite': 'white', 'bluue': 'blue',\n",
    "                'prussianblue': 'blue','navyblue': 'blue', 'navy blue': 'blue','lightblue': 'blue','skyblue': 'blue',\n",
    "                'darkblue': 'blue','navy' : 'blue','bluee': 'blue','bluue': 'blue','denimblue': 'blue','lakeblue': 'blue', \n",
    "                'Blue': 'blue','gold': 'yellow','lightyellow': 'yellow','winered': 'red','rosered': 'red','watermelonred': 'red',\n",
    "                'RED': 'red','winered': 'red','wine red': 'red','rose': 'red','orange-red': 'red','Rose red': 'red','wine': 'red',\n",
    "                'coralred': 'red','burgundy': 'red', 'lightred': 'red', 'lightpink': 'pink','Pink': 'pink','dustypink': 'pink',\n",
    "                'armygreen':'green','khaki': 'green','lightgreen': 'green','fluorescentgreen': 'green','army green': 'green',\n",
    "                'applegreen': 'green','Army green': 'green','mintgreen': 'green','army': 'green', 'lightkhaki': 'green', \n",
    "                'darkgreen': 'green', 'light green': 'green', 'lightkhaki': 'green', 'lightgray': 'grey', 'apricot': 'orange',\n",
    "                'violet': 'purple','lightpurple': 'purple', 'gray': 'grey','silver': 'grey','coffee': 'brown', \n",
    "                'blackwhite': 'dual',  np.nan: 'other'}"
   ]
  },
  {
   "cell_type": "code",
   "execution_count": 93,
   "id": "513bc809",
   "metadata": {},
   "outputs": [],
   "source": [
    "def update_color(color): \n",
    "     if color in change_color: \n",
    "        return change_color[color]\n",
    "     elif color in change_color.values(): \n",
    "        return color\n",
    "     elif '&' in color: \n",
    "        return 'dual'\n",
    "     else:\n",
    "        return 'other'\n",
    "New_data['product_color'] = New_data.product_color.apply(update_color) "
   ]
  },
  {
   "cell_type": "code",
   "execution_count": 94,
   "id": "f09e1b6c",
   "metadata": {},
   "outputs": [
    {
     "data": {
      "text/plain": [
       "array(['yellow', 'black', 'white', 'blue', 'orange', 'brown', 'red',\n",
       "       'green', 'dual', 'other', 'pink', 'grey', 'purple'], dtype=object)"
      ]
     },
     "execution_count": 94,
     "metadata": {},
     "output_type": "execute_result"
    }
   ],
   "source": [
    "New_data['product_color'].unique()"
   ]
  },
  {
   "cell_type": "code",
   "execution_count": 95,
   "id": "346a7da6",
   "metadata": {},
   "outputs": [],
   "source": [
    "color_of_words= ['black',\"white\",'blue','green','red']\n",
    "#add some colomns about the most effect colors and drop product color and convert it to 0 or 1\n",
    "for word in color_of_words:\n",
    "    New_data[\"color_\"+word] = New_data.product_color.str.lower().str.contains(word).astype(int).astype(str)"
   ]
  },
  {
   "cell_type": "code",
   "execution_count": 96,
   "id": "4a16b93e",
   "metadata": {},
   "outputs": [],
   "source": [
    "New_data = New_data.drop(['product_color'], axis =1)"
   ]
  },
  {
   "cell_type": "markdown",
   "id": "b47262eb",
   "metadata": {},
   "source": [
    "# For Product size "
   ]
  },
  {
   "cell_type": "code",
   "execution_count": 97,
   "id": "a9f95994",
   "metadata": {},
   "outputs": [],
   "source": [
    "New_data['product_variation_size_id'].replace('S.', 'S', inplace=True)\n",
    "New_data['product_variation_size_id'].replace('Size S', 'S', inplace=True)\n",
    "New_data['product_variation_size_id'].replace('XS.', 'XS', inplace=True)\n",
    "New_data['product_variation_size_id'].replace('s', 'S', inplace=True)\n",
    "New_data['product_variation_size_id'].replace('M.', 'M', inplace=True)\n",
    "New_data['product_variation_size_id'].replace('2XL', 'XXL', inplace=True)\n",
    "New_data['product_variation_size_id'].replace('Size XS', 'XS', inplace=True)\n",
    "New_data['product_variation_size_id'].replace('Size-XS', 'XS', inplace=True)\n",
    "New_data['product_variation_size_id'].replace('4XL', 'XXXXL', inplace=True)\n",
    "New_data['product_variation_size_id'].replace('SIZE XS', 'XS', inplace=True)\n",
    "New_data['product_variation_size_id'].replace('SizeL', 'L', inplace=True)\n",
    "New_data['product_variation_size_id'].replace('Size-S', 'S', inplace=True)\n",
    "New_data['product_variation_size_id'].replace('5XL', 'XXXXXL', inplace=True)\n",
    "New_data['product_variation_size_id'].replace('3XL', 'XXXL', inplace=True)\n",
    "New_data['product_variation_size_id'].replace('S(bust 88cm)', 'S', inplace=True)\n",
    "New_data['product_variation_size_id'].replace('Size4XL', 'XXXXL', inplace=True)\n",
    "New_data['product_variation_size_id'].replace('Size -XXS', 'XXS', inplace=True)\n",
    "New_data['product_variation_size_id'].replace('SIZE-XXS', 'XXS', inplace=True)\n",
    "New_data['product_variation_size_id'].replace('Size M', 'M', inplace=True)\n",
    "New_data['product_variation_size_id'].replace('size S', 'S', inplace=True)\n",
    "New_data['product_variation_size_id'].replace('S Pink', 'S', inplace=True)\n",
    "New_data['product_variation_size_id'].replace('Size S.', 'S', inplace=True)\n",
    "New_data['product_variation_size_id'].replace('Suit-S', 'S', inplace=True)"
   ]
  },
  {
   "cell_type": "code",
   "execution_count": 98,
   "id": "019def51",
   "metadata": {},
   "outputs": [],
   "source": [
    "#function replace the values that have same mean of original size\n",
    "def size_name(size):\n",
    "    ls = [\"XXXS\", \"XXS\", \"XS\", \"S\", \"M\", \"L\", \"XL\", \"XXL\", \"XXXL\", \"XXXXL\", \"XXXXXL\"]\n",
    "    if size in ls:\n",
    "        return size\n",
    "    return \"Others\""
   ]
  },
  {
   "cell_type": "code",
   "execution_count": 99,
   "id": "4f163dc2",
   "metadata": {},
   "outputs": [],
   "source": [
    "# Replace also the nulls values with Others\n",
    "New_data['product_variation_size_id'].replace(np.nan, 'Others', inplace=True)\n",
    "# Applt the fun. size_name on the column\n",
    "New_data['product_variation_size_id'] = New_data['product_variation_size_id'].apply(size_name)"
   ]
  },
  {
   "cell_type": "code",
   "execution_count": 100,
   "id": "af11043d",
   "metadata": {},
   "outputs": [
    {
     "data": {
      "text/plain": [
       "array(['M', 'L', 'XS', 'S', 'XL', 'Others', 'XXS', 'XXXS', 'XXL', 'XXXXL',\n",
       "       'XXXXXL', 'XXXL'], dtype=object)"
      ]
     },
     "execution_count": 100,
     "metadata": {},
     "output_type": "execute_result"
    }
   ],
   "source": [
    "New_data['product_variation_size_id'].unique()"
   ]
  },
  {
   "cell_type": "code",
   "execution_count": 101,
   "id": "69f334b7",
   "metadata": {},
   "outputs": [],
   "source": [
    "size_of_words= ['s',\"xs\",'m','green','xxs'] #List with most repeated size \n",
    "#add some colomns about the most effect size and drop product_variation_size_id and convert it to or 1\n",
    "for word in size_of_words:\n",
    "    \n",
    "    New_data[\"size_\"+word] = New_data.product_variation_size_id.str.lower().str.contains(word).astype(int).astype(str)"
   ]
  },
  {
   "cell_type": "code",
   "execution_count": 102,
   "id": "6aeab38b",
   "metadata": {},
   "outputs": [],
   "source": [
    "New_data = New_data.drop(['product_variation_size_id'], axis =1) "
   ]
  },
  {
   "cell_type": "markdown",
   "id": "ce402172",
   "metadata": {},
   "source": [
    "# For Origin Country column "
   ]
  },
  {
   "cell_type": "code",
   "execution_count": 103,
   "id": "4ea5d4f5",
   "metadata": {},
   "outputs": [
    {
     "data": {
      "text/plain": [
       "array(['CN', 'US', 'GB', nan, 'SG', 'VE', 'AT'], dtype=object)"
      ]
     },
     "execution_count": 103,
     "metadata": {},
     "output_type": "execute_result"
    }
   ],
   "source": [
    "New_data['origin_country'].unique()"
   ]
  },
  {
   "cell_type": "code",
   "execution_count": 104,
   "id": "6a8b3d55",
   "metadata": {},
   "outputs": [],
   "source": [
    "#Rename country columns by clear meaning\n",
    "New_data.origin_country = New_data.origin_country.str.replace( 'CN',\"China\" )\n",
    "New_data.origin_country = New_data.origin_country.str.replace( \"US\",\"UnitedStates\" )\n",
    "New_data.origin_country = New_data.origin_country.str.replace( \"unknown\",\"unknown\" )\n",
    "New_data.origin_country = New_data.origin_country.str.replace( \"VE\",\"Venezuela\" )\n",
    "New_data.origin_country = New_data.origin_country.str.replace( 'GB',\"GreatBritain\" )\n",
    "New_data.origin_country = New_data.origin_country.str.replace( 'SG',\"Singapore\" )\n",
    "New_data.origin_country = New_data.origin_country.str.replace( 'AT',\"Austria\" )"
   ]
  },
  {
   "cell_type": "code",
   "execution_count": 105,
   "id": "6ca4e524",
   "metadata": {},
   "outputs": [],
   "source": [
    "New_data['origin_country'].fillna(\"others\", inplace = True)# replace all nan value by others"
   ]
  },
  {
   "cell_type": "code",
   "execution_count": 106,
   "id": "3b86050b",
   "metadata": {},
   "outputs": [
    {
     "data": {
      "text/plain": [
       "China           1516\n",
       "UnitedStates      31\n",
       "others            17\n",
       "Venezuela          5\n",
       "Singapore          2\n",
       "GreatBritain       1\n",
       "Austria            1\n",
       "Name: origin_country, dtype: int64"
      ]
     },
     "execution_count": 106,
     "metadata": {},
     "output_type": "execute_result"
    }
   ],
   "source": [
    "New_data['origin_country'].value_counts()"
   ]
  },
  {
   "cell_type": "code",
   "execution_count": 107,
   "id": "9d737446",
   "metadata": {},
   "outputs": [],
   "source": [
    "#let add colum with the most popular country china and unitedstate\n",
    "country_of_words= ['china', \"unitedstates\" ]\n",
    "#add columns about most popular country and conver it to 0 or 1\n",
    "for word in country_of_words:\n",
    "    New_data[\"country_\"+word] = New_data.origin_country.str.lower().str.contains(word).astype(int).astype(str)"
   ]
  },
  {
   "cell_type": "code",
   "execution_count": 108,
   "id": "6330e009",
   "metadata": {},
   "outputs": [],
   "source": [
    "#drop origin_country from data\n",
    "New_data = New_data.drop(['origin_country'], axis =1) "
   ]
  },
  {
   "cell_type": "markdown",
   "id": "deb34d9a",
   "metadata": {},
   "source": [
    "# Minimize dimentionality and feature selection for top features"
   ]
  },
  {
   "cell_type": "code",
   "execution_count": 109,
   "id": "9f1179ce",
   "metadata": {},
   "outputs": [],
   "source": [
    "# We need to make the rating 6 to be 5 \n",
    "def rating_max_5(num):\n",
    "    if num == 6:\n",
    "        return 5\n",
    "    else:\n",
    "        return num"
   ]
  },
  {
   "cell_type": "code",
   "execution_count": 110,
   "id": "05e6e889",
   "metadata": {},
   "outputs": [
    {
     "name": "stdout",
     "output_type": "stream",
     "text": [
      "[4. 3. 5. 2. 1. 0.]\n"
     ]
    }
   ],
   "source": [
    "New_data['rating'] = New_data['rating'].apply(rating_max_5) #We will apply the function to the rating column \n",
    "# to get the unique values after the change\n",
    "print(New_data.rating.unique())"
   ]
  },
  {
   "cell_type": "markdown",
   "id": "007e0386",
   "metadata": {},
   "source": [
    "# Split The data "
   ]
  },
  {
   "cell_type": "code",
   "execution_count": 111,
   "id": "b778ca8e",
   "metadata": {},
   "outputs": [
    {
     "data": {
      "text/plain": [
       "1573"
      ]
     },
     "execution_count": 111,
     "metadata": {},
     "output_type": "execute_result"
    }
   ],
   "source": [
    "New_data.shape[0]"
   ]
  },
  {
   "cell_type": "code",
   "execution_count": 112,
   "id": "69dc4219",
   "metadata": {},
   "outputs": [
    {
     "name": "stdout",
     "output_type": "stream",
     "text": [
      "(1094, 47)\n",
      "479\n",
      "(479, 47)\n"
     ]
    }
   ],
   "source": [
    "train_data_index = Tr_df.shape[0] # it will return 1094 the number of trained data in the original csv file\n",
    "train_data_cleaned = New_data.iloc[:train_data_index] #Return the trained data \n",
    "train_data_cleaned_index = New_data.shape[0]\n",
    "print(train_data_cleaned.shape)\n",
    "test_data_index = Ts_df.shape[0]\n",
    "print(test_data_index)\n",
    "test_data_cleaned = New_data.iloc[train_data_index :]\n",
    "print(test_data_cleaned.shape)\n",
    "test_data_cleaned= test_data_cleaned.drop('rating', axis=1)"
   ]
  },
  {
   "cell_type": "code",
   "execution_count": 113,
   "id": "4c4a5bab",
   "metadata": {},
   "outputs": [
    {
     "name": "stdout",
     "output_type": "stream",
     "text": [
      "(1094, 46)\n",
      "(1094,)\n"
     ]
    },
    {
     "data": {
      "text/html": [
       "<div>\n",
       "<style scoped>\n",
       "    .dataframe tbody tr th:only-of-type {\n",
       "        vertical-align: middle;\n",
       "    }\n",
       "\n",
       "    .dataframe tbody tr th {\n",
       "        vertical-align: top;\n",
       "    }\n",
       "\n",
       "    .dataframe thead th {\n",
       "        text-align: right;\n",
       "    }\n",
       "</style>\n",
       "<table border=\"1\" class=\"dataframe\">\n",
       "  <thead>\n",
       "    <tr style=\"text-align: right;\">\n",
       "      <th></th>\n",
       "      <th>price</th>\n",
       "      <th>retail_price</th>\n",
       "      <th>units_sold</th>\n",
       "      <th>uses_ad_boosts</th>\n",
       "      <th>rating_count</th>\n",
       "      <th>badges_count</th>\n",
       "      <th>badge_local_product</th>\n",
       "      <th>badge_product_quality</th>\n",
       "      <th>badge_fast_shipping</th>\n",
       "      <th>product_variation_inventory</th>\n",
       "      <th>...</th>\n",
       "      <th>color_blue</th>\n",
       "      <th>color_green</th>\n",
       "      <th>color_red</th>\n",
       "      <th>size_s</th>\n",
       "      <th>size_xs</th>\n",
       "      <th>size_m</th>\n",
       "      <th>size_green</th>\n",
       "      <th>size_xxs</th>\n",
       "      <th>country_china</th>\n",
       "      <th>country_unitedstates</th>\n",
       "    </tr>\n",
       "    <tr>\n",
       "      <th>id</th>\n",
       "      <th></th>\n",
       "      <th></th>\n",
       "      <th></th>\n",
       "      <th></th>\n",
       "      <th></th>\n",
       "      <th></th>\n",
       "      <th></th>\n",
       "      <th></th>\n",
       "      <th></th>\n",
       "      <th></th>\n",
       "      <th></th>\n",
       "      <th></th>\n",
       "      <th></th>\n",
       "      <th></th>\n",
       "      <th></th>\n",
       "      <th></th>\n",
       "      <th></th>\n",
       "      <th></th>\n",
       "      <th></th>\n",
       "      <th></th>\n",
       "      <th></th>\n",
       "    </tr>\n",
       "  </thead>\n",
       "  <tbody>\n",
       "    <tr>\n",
       "      <th>272</th>\n",
       "      <td>8.00</td>\n",
       "      <td>7</td>\n",
       "      <td>10000</td>\n",
       "      <td>1</td>\n",
       "      <td>1670</td>\n",
       "      <td>0</td>\n",
       "      <td>0</td>\n",
       "      <td>0</td>\n",
       "      <td>0</td>\n",
       "      <td>50</td>\n",
       "      <td>...</td>\n",
       "      <td>0</td>\n",
       "      <td>0</td>\n",
       "      <td>0</td>\n",
       "      <td>0</td>\n",
       "      <td>0</td>\n",
       "      <td>1</td>\n",
       "      <td>0</td>\n",
       "      <td>0</td>\n",
       "      <td>1</td>\n",
       "      <td>0</td>\n",
       "    </tr>\n",
       "    <tr>\n",
       "      <th>1515</th>\n",
       "      <td>8.00</td>\n",
       "      <td>7</td>\n",
       "      <td>1000</td>\n",
       "      <td>0</td>\n",
       "      <td>843</td>\n",
       "      <td>1</td>\n",
       "      <td>1</td>\n",
       "      <td>0</td>\n",
       "      <td>0</td>\n",
       "      <td>50</td>\n",
       "      <td>...</td>\n",
       "      <td>0</td>\n",
       "      <td>0</td>\n",
       "      <td>0</td>\n",
       "      <td>0</td>\n",
       "      <td>0</td>\n",
       "      <td>0</td>\n",
       "      <td>0</td>\n",
       "      <td>0</td>\n",
       "      <td>1</td>\n",
       "      <td>0</td>\n",
       "    </tr>\n",
       "    <tr>\n",
       "      <th>940</th>\n",
       "      <td>6.00</td>\n",
       "      <td>34</td>\n",
       "      <td>100</td>\n",
       "      <td>0</td>\n",
       "      <td>10</td>\n",
       "      <td>0</td>\n",
       "      <td>0</td>\n",
       "      <td>0</td>\n",
       "      <td>0</td>\n",
       "      <td>50</td>\n",
       "      <td>...</td>\n",
       "      <td>0</td>\n",
       "      <td>0</td>\n",
       "      <td>0</td>\n",
       "      <td>0</td>\n",
       "      <td>0</td>\n",
       "      <td>0</td>\n",
       "      <td>0</td>\n",
       "      <td>0</td>\n",
       "      <td>1</td>\n",
       "      <td>0</td>\n",
       "    </tr>\n",
       "    <tr>\n",
       "      <th>309</th>\n",
       "      <td>4.67</td>\n",
       "      <td>4</td>\n",
       "      <td>100</td>\n",
       "      <td>1</td>\n",
       "      <td>82</td>\n",
       "      <td>0</td>\n",
       "      <td>0</td>\n",
       "      <td>0</td>\n",
       "      <td>0</td>\n",
       "      <td>5</td>\n",
       "      <td>...</td>\n",
       "      <td>1</td>\n",
       "      <td>0</td>\n",
       "      <td>0</td>\n",
       "      <td>1</td>\n",
       "      <td>1</td>\n",
       "      <td>0</td>\n",
       "      <td>0</td>\n",
       "      <td>0</td>\n",
       "      <td>1</td>\n",
       "      <td>0</td>\n",
       "    </tr>\n",
       "    <tr>\n",
       "      <th>226</th>\n",
       "      <td>8.00</td>\n",
       "      <td>11</td>\n",
       "      <td>1000</td>\n",
       "      <td>0</td>\n",
       "      <td>127</td>\n",
       "      <td>0</td>\n",
       "      <td>0</td>\n",
       "      <td>0</td>\n",
       "      <td>0</td>\n",
       "      <td>50</td>\n",
       "      <td>...</td>\n",
       "      <td>0</td>\n",
       "      <td>0</td>\n",
       "      <td>0</td>\n",
       "      <td>1</td>\n",
       "      <td>0</td>\n",
       "      <td>0</td>\n",
       "      <td>0</td>\n",
       "      <td>0</td>\n",
       "      <td>1</td>\n",
       "      <td>0</td>\n",
       "    </tr>\n",
       "  </tbody>\n",
       "</table>\n",
       "<p>5 rows × 46 columns</p>\n",
       "</div>"
      ],
      "text/plain": [
       "      price  retail_price  units_sold  uses_ad_boosts  rating_count  \\\n",
       "id                                                                    \n",
       "272    8.00             7       10000               1          1670   \n",
       "1515   8.00             7        1000               0           843   \n",
       "940    6.00            34         100               0            10   \n",
       "309    4.67             4         100               1            82   \n",
       "226    8.00            11        1000               0           127   \n",
       "\n",
       "      badges_count  badge_local_product  badge_product_quality  \\\n",
       "id                                                               \n",
       "272              0                    0                      0   \n",
       "1515             1                    1                      0   \n",
       "940              0                    0                      0   \n",
       "309              0                    0                      0   \n",
       "226              0                    0                      0   \n",
       "\n",
       "      badge_fast_shipping  product_variation_inventory  ...  color_blue  \\\n",
       "id                                                      ...               \n",
       "272                     0                           50  ...           0   \n",
       "1515                    0                           50  ...           0   \n",
       "940                     0                           50  ...           0   \n",
       "309                     0                            5  ...           1   \n",
       "226                     0                           50  ...           0   \n",
       "\n",
       "      color_green  color_red  size_s  size_xs  size_m size_green size_xxs  \\\n",
       "id                                                                          \n",
       "272             0          0       0        0       1          0        0   \n",
       "1515            0          0       0        0       0          0        0   \n",
       "940             0          0       0        0       0          0        0   \n",
       "309             0          0       1        1       0          0        0   \n",
       "226             0          0       1        0       0          0        0   \n",
       "\n",
       "     country_china country_unitedstates  \n",
       "id                                       \n",
       "272              1                    0  \n",
       "1515             1                    0  \n",
       "940              1                    0  \n",
       "309              1                    0  \n",
       "226              1                    0  \n",
       "\n",
       "[5 rows x 46 columns]"
      ]
     },
     "execution_count": 113,
     "metadata": {},
     "output_type": "execute_result"
    }
   ],
   "source": [
    "X = train_data_cleaned.iloc[:, :] #take an object from the data\n",
    "X = X.drop('rating', axis=1)           \n",
    "Y = train_data_cleaned['rating']# The class label\n",
    "print(X.shape) , print(Y.shape)\n",
    "X.head(5)"
   ]
  },
  {
   "cell_type": "code",
   "execution_count": 114,
   "id": "c56c586d",
   "metadata": {},
   "outputs": [
    {
     "name": "stdout",
     "output_type": "stream",
     "text": [
      "(962, 46)\n",
      "(132, 46)\n",
      "(962,)\n",
      "(132,)\n"
     ]
    }
   ],
   "source": [
    "#Splite the data into Train and Test by 88% for training to 12% for testing\n",
    "xTrain, xTest, yTrain, yTest = train_test_split(X, Y, test_size = .12, random_state = 101, shuffle = True)\n",
    "print(xTrain.shape)\n",
    "print(xTest.shape)\n",
    "print(yTrain.shape)\n",
    "print(yTest.shape)"
   ]
  },
  {
   "cell_type": "code",
   "execution_count": 115,
   "id": "90f5764e",
   "metadata": {},
   "outputs": [],
   "source": [
    "sc_X = StandardScaler()\n",
    "x_Train = sc_X.fit_transform(xTrain)\n",
    "x_Test = sc_X.transform(xTest)"
   ]
  },
  {
   "cell_type": "code",
   "execution_count": 116,
   "id": "56a7bd62",
   "metadata": {},
   "outputs": [],
   "source": [
    "test_data_cleaned_st = sc_X.transform(test_data_cleaned)"
   ]
  },
  {
   "cell_type": "markdown",
   "id": "4f5e2ae6",
   "metadata": {},
   "source": [
    "# Trial (1) -- Applied DT"
   ]
  },
  {
   "cell_type": "code",
   "execution_count": 117,
   "id": "024e3288",
   "metadata": {},
   "outputs": [
    {
     "name": "stdout",
     "output_type": "stream",
     "text": [
      "D_Tree Train Score is :  0.8347193347193347\n",
      "D_Tree test Score is :  0.8333333333333334\n"
     ]
    },
    {
     "data": {
      "text/plain": [
       "array([4., 5., 5., 4., 4., 5., 4., 4., 4., 4., 4., 4., 4., 4., 2., 4., 4.,\n",
       "       4., 4., 4., 4., 4., 4., 5., 4., 4., 5., 4., 4., 4., 4., 4., 4., 4.,\n",
       "       4., 5., 4., 4., 4., 4., 4., 5., 4., 4., 4., 4., 4., 4., 4., 4., 4.,\n",
       "       4., 4., 4., 4., 4., 4., 5., 4., 4., 4., 4., 4., 4., 4., 4., 4., 4.,\n",
       "       4., 4., 4., 4., 4., 5., 4., 3., 4., 4., 5., 4., 4., 4., 4., 4., 4.,\n",
       "       4., 4., 4., 4., 4., 4., 4., 4., 4., 4., 3., 4., 4., 4., 4., 5., 4.,\n",
       "       4., 4., 4., 5., 5., 4., 4., 4., 5., 4., 4., 4., 4., 4., 4., 5., 4.,\n",
       "       4., 4., 4., 4., 4., 4., 4., 5., 4., 4., 4., 4., 4.])"
      ]
     },
     "execution_count": 117,
     "metadata": {},
     "output_type": "execute_result"
    }
   ],
   "source": [
    "#train the model with optimal hyperparameters\n",
    "D_Tree = DecisionTreeClassifier(criterion= \"entropy\", max_depth= 7 , min_samples_leaf= 1 , random_state=42) \n",
    "D_Tree.fit(x_Train, yTrain) # D_Tree.fit(X, Y) # to train on the all data \n",
    "y_pred_DTC = D_Tree.predict(x_Test)\n",
    "f1_DT=f1_score(yTest, y_pred_DTC, average='micro') #test the accuracy of model on testing set\n",
    "print('D_Tree Train Score is : ' , D_Tree.score(x_Train, yTrain)) #test the accuracy of model on training set\n",
    "print('D_Tree test Score is : ' ,f1_DT)\n",
    "y_pred_DTC"
   ]
  },
  {
   "cell_type": "markdown",
   "id": "e3dd2d81",
   "metadata": {},
   "source": [
    "# Save CSV file for Trial (1)"
   ]
  },
  {
   "cell_type": "code",
   "execution_count": 118,
   "id": "7ad94a5a",
   "metadata": {},
   "outputs": [
    {
     "name": "stdout",
     "output_type": "stream",
     "text": [
      "[1. 4. 4. 4. 4. 5. 4. 4. 4. 4. 4. 4. 4. 4. 4. 4. 4. 4. 4. 5. 4. 5. 4. 4.\n",
      " 4. 4. 4. 4. 4. 4. 4. 4. 4. 4. 4. 4. 4. 4. 4. 4. 5. 4. 3. 4. 4. 3. 5. 4.\n",
      " 3. 4. 4. 5. 4. 4. 4. 4. 4. 4. 4. 4. 4. 3. 4. 4. 4. 4. 4. 4. 4. 4. 3. 4.\n",
      " 4. 4. 4. 4. 4. 4. 4. 4. 4. 4. 4. 4. 3. 4. 4. 4. 4. 5. 2. 4. 3. 5. 4. 4.\n",
      " 4. 4. 4. 4. 4. 4. 4. 4. 5. 4. 5. 4. 4. 4. 4. 4. 4. 4. 4. 4. 4. 4. 5. 4.\n",
      " 4. 4. 4. 4. 4. 4. 4. 4. 4. 4. 4. 4. 4. 4. 4. 4. 5. 4. 4. 4. 4. 4. 5. 4.\n",
      " 4. 4. 4. 4. 4. 4. 4. 4. 4. 4. 3. 4. 4. 4. 5. 4. 4. 4. 4. 4. 4. 4. 4. 4.\n",
      " 4. 4. 4. 4. 4. 4. 4. 4. 4. 4. 4. 4. 4. 4. 4. 4. 4. 4. 5. 4. 4. 4. 4. 3.\n",
      " 4. 4. 4. 4. 4. 4. 4. 4. 4. 4. 4. 4. 4. 3. 4. 4. 4. 2. 4. 3. 4. 4. 4. 4.\n",
      " 4. 4. 4. 4. 4. 4. 5. 4. 4. 4. 4. 4. 4. 4. 4. 4. 4. 4. 4. 4. 4. 5. 4. 4.\n",
      " 4. 4. 4. 5. 4. 4. 4. 4. 4. 4. 3. 4. 4. 4. 4. 4. 4. 4. 4. 4. 4. 4. 4. 4.\n",
      " 4. 4. 4. 4. 4. 4. 4. 3. 4. 4. 4. 4. 4. 4. 4. 4. 4. 4. 4. 4. 4. 5. 4. 4.\n",
      " 4. 4. 4. 4. 4. 4. 4. 4. 4. 4. 4. 4. 4. 4. 4. 3. 4. 4. 3. 4. 4. 4. 4. 4.\n",
      " 4. 4. 4. 4. 5. 4. 4. 4. 3. 4. 4. 4. 4. 4. 4. 4. 1. 3. 4. 4. 4. 4. 4. 4.\n",
      " 4. 4. 4. 4. 4. 4. 3. 3. 4. 4. 4. 4. 4. 4. 4. 4. 4. 4. 4. 4. 4. 4. 4. 4.\n",
      " 4. 4. 4. 3. 4. 5. 3. 4. 5. 5. 4. 5. 4. 4. 4. 4. 4. 4. 3. 4. 4. 4. 4. 4.\n",
      " 4. 4. 3. 4. 4. 4. 4. 5. 4. 3. 5. 3. 4. 4. 4. 4. 4. 4. 4. 4. 5. 5. 4. 4.\n",
      " 5. 4. 4. 5. 4. 4. 3. 5. 3. 4. 3. 4. 4. 3. 4. 4. 4. 4. 4. 4. 4. 4. 4. 4.\n",
      " 4. 4. 4. 4. 4. 4. 5. 4. 4. 4. 4. 4. 4. 4. 4. 4. 4. 4. 4. 4. 4. 4. 4. 4.\n",
      " 4. 4. 4. 4. 4. 4. 4. 4. 4. 4. 4. 4. 4. 4. 4. 4. 4. 4. 4. 4. 2. 3. 4.]\n"
     ]
    },
    {
     "data": {
      "text/plain": [
       "array([1., 4., 5., 3., 2.])"
      ]
     },
     "execution_count": 118,
     "metadata": {},
     "output_type": "execute_result"
    }
   ],
   "source": [
    "# As required, generate a csv file for Decision Tree Moled(Trial (1)).\n",
    "Ts_Pred = D_Tree.predict(test_data_cleaned_st)\n",
    "Final_pre_df = pd.DataFrame(data={'id': Ts_df['id'], 'rating': Ts_Pred})\n",
    "Final_pre_df.to_csv('Final_df_DT_(17).csv', index=False)\n",
    "print(Ts_Pred)\n",
    "Final_pre_df.rating.unique()"
   ]
  },
  {
   "cell_type": "markdown",
   "id": "89eb3796",
   "metadata": {},
   "source": [
    "# Trial (2) -- Applied DT"
   ]
  },
  {
   "cell_type": "code",
   "execution_count": 119,
   "id": "6720c2aa",
   "metadata": {},
   "outputs": [],
   "source": [
    "from sklearn.ensemble import RandomForestClassifier"
   ]
  },
  {
   "cell_type": "code",
   "execution_count": 120,
   "id": "23972904",
   "metadata": {},
   "outputs": [
    {
     "name": "stdout",
     "output_type": "stream",
     "text": [
      "classifier_RFC Train Score is :  0.8991683991683992\n",
      "classifier_RFC test Score is :  0.8560606060606061\n"
     ]
    }
   ],
   "source": [
    "# Random forest\n",
    "classifier_RFC = RandomForestClassifier(max_depth=10,max_features=20,random_state=101)\n",
    "classifier_RFC.fit(x_Train, yTrain)\n",
    "y_pred_RFC = classifier_RFC.predict(x_Test)\n",
    "\n",
    "#test the accuracy of model on training set\n",
    "print('classifier_RFC Train Score is : ' , classifier_RFC.score(x_Train, yTrain))\n",
    "y_pred_RFC = classifier_RFC.predict(x_Test)\n",
    "\n",
    "#test the accuracy of model on testing set\n",
    "f1_scores_RFC=f1_score(yTest, y_pred_RFC, average='micro')\n",
    "print('classifier_RFC test Score is : ' , f1_scores_RFC)"
   ]
  },
  {
   "cell_type": "markdown",
   "id": "9fb63f46",
   "metadata": {},
   "source": [
    "# Save CSV file for Trial (2)"
   ]
  },
  {
   "cell_type": "code",
   "execution_count": 121,
   "id": "ccb7ccba",
   "metadata": {},
   "outputs": [
    {
     "name": "stdout",
     "output_type": "stream",
     "text": [
      "[5. 4. 4. 4. 4. 5. 4. 4. 4. 4. 4. 4. 4. 4. 4. 4. 4. 4. 3. 5. 4. 5. 4. 4.\n",
      " 4. 4. 4. 5. 4. 4. 4. 4. 4. 4. 4. 4. 4. 4. 4. 4. 5. 4. 3. 4. 4. 4. 5. 5.\n",
      " 4. 4. 4. 5. 4. 4. 4. 4. 4. 4. 4. 4. 4. 4. 4. 4. 4. 4. 4. 4. 4. 4. 4. 4.\n",
      " 4. 4. 4. 4. 4. 4. 4. 4. 4. 4. 4. 4. 4. 4. 4. 4. 4. 5. 5. 4. 3. 5. 4. 4.\n",
      " 4. 4. 4. 4. 4. 4. 4. 4. 5. 4. 4. 4. 4. 4. 4. 4. 4. 4. 4. 4. 4. 4. 5. 4.\n",
      " 3. 4. 4. 4. 4. 4. 4. 4. 4. 4. 4. 4. 4. 4. 4. 4. 4. 4. 4. 4. 5. 4. 5. 4.\n",
      " 4. 4. 4. 4. 4. 4. 4. 4. 4. 4. 3. 4. 4. 4. 4. 4. 4. 4. 4. 4. 3. 4. 4. 4.\n",
      " 4. 4. 4. 4. 4. 4. 4. 4. 4. 4. 4. 4. 4. 4. 4. 4. 4. 4. 4. 4. 4. 4. 4. 3.\n",
      " 4. 4. 4. 4. 4. 4. 4. 4. 4. 5. 4. 4. 4. 4. 4. 4. 4. 3. 4. 3. 4. 4. 4. 4.\n",
      " 4. 4. 4. 4. 4. 4. 5. 4. 4. 4. 4. 4. 4. 4. 4. 4. 4. 4. 4. 4. 4. 4. 4. 4.\n",
      " 4. 4. 3. 5. 4. 4. 4. 4. 4. 4. 3. 4. 4. 4. 4. 4. 4. 4. 4. 4. 4. 4. 4. 4.\n",
      " 4. 4. 4. 4. 4. 4. 4. 4. 4. 4. 4. 4. 4. 4. 4. 4. 4. 4. 4. 4. 4. 5. 4. 4.\n",
      " 4. 4. 4. 4. 4. 4. 4. 4. 4. 4. 4. 4. 4. 4. 4. 4. 4. 4. 4. 4. 4. 4. 4. 4.\n",
      " 4. 4. 4. 4. 5. 4. 4. 4. 3. 4. 4. 4. 4. 4. 5. 4. 5. 5. 4. 4. 4. 4. 4. 4.\n",
      " 4. 4. 4. 5. 4. 4. 4. 3. 4. 4. 4. 4. 4. 4. 4. 4. 4. 4. 4. 4. 4. 4. 4. 4.\n",
      " 4. 4. 4. 4. 4. 3. 3. 4. 4. 4. 3. 5. 4. 4. 4. 4. 4. 4. 3. 4. 4. 4. 4. 4.\n",
      " 4. 4. 3. 4. 4. 4. 4. 5. 4. 3. 5. 5. 4. 4. 4. 4. 4. 4. 4. 4. 5. 5. 4. 4.\n",
      " 5. 4. 4. 5. 4. 4. 3. 4. 3. 4. 3. 4. 5. 4. 4. 4. 4. 4. 4. 4. 4. 4. 4. 4.\n",
      " 4. 4. 4. 4. 4. 4. 5. 4. 4. 4. 4. 4. 4. 4. 4. 4. 4. 4. 4. 4. 4. 4. 4. 4.\n",
      " 4. 4. 4. 4. 4. 4. 4. 4. 4. 4. 4. 4. 4. 4. 4. 4. 5. 4. 4. 4. 2. 4. 4.]\n"
     ]
    },
    {
     "data": {
      "text/plain": [
       "array([5., 4., 3., 2.])"
      ]
     },
     "execution_count": 121,
     "metadata": {},
     "output_type": "execute_result"
    }
   ],
   "source": [
    "# As required, generate a csv file for Decision Tree Moled(Trial (1)).\n",
    "Ts_Pred = classifier_RFC.predict(test_data_cleaned_st)\n",
    "Final_pre_df = pd.DataFrame(data={'id': Ts_df['id'], 'rating': Ts_Pred})\n",
    "Final_pre_df.to_csv('Final_pre_df_(11).csv', index=False)\n",
    "print(Ts_Pred)\n",
    "Final_pre_df.rating.unique()"
   ]
  },
  {
   "cell_type": "markdown",
   "id": "f4a0be6e",
   "metadata": {},
   "source": [
    "# Thank You!"
   ]
  }
 ],
 "metadata": {
  "kernelspec": {
   "display_name": "Python 3 (ipykernel)",
   "language": "python",
   "name": "python3"
  },
  "language_info": {
   "codemirror_mode": {
    "name": "ipython",
    "version": 3
   },
   "file_extension": ".py",
   "mimetype": "text/x-python",
   "name": "python",
   "nbconvert_exporter": "python",
   "pygments_lexer": "ipython3",
   "version": "3.9.13"
  }
 },
 "nbformat": 4,
 "nbformat_minor": 5
}
